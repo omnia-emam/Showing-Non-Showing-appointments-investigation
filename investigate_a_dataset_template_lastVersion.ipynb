{
 "cells": [
  {
   "cell_type": "markdown",
   "metadata": {
    "id": "H1FWFiyWa92j"
   },
   "source": [
    "\n",
    "\n",
    "# Project: Showing up Appointments' Data Analysis\n",
    "\n",
    "## Table of Contents\n",
    "<ul>\n",
    "<li><a href=\"#intro\">Introduction</a></li>\n",
    "<li><a href=\"#wrangling\">Data Wrangling</a></li>\n",
    "<li><a href=\"#eda\">Exploratory Data Analysis</a></li>\n",
    "<li><a href=\"#conclusions\">Conclusions</a></li>\n",
    "</ul>"
   ]
  },
  {
   "cell_type": "markdown",
   "metadata": {
    "id": "7kz1U-WCa92q"
   },
   "source": [
    "<a id='intro'></a>\n",
    "## Introduction\n",
    "\n",
    "> This Dataset collects information from 100k medical appointments in Brazil and is focused on the question of whether or not patients show up for their appointment. A number of characteristics about each patient are included in the row with their corresponding ID.\n",
    "\n",
    "\n",
    "> **Questions to be asked**:\n",
    "\n",
    "1.  Does the period of time (in context of days) patients have to wait between the day they make their appointment order and the actual day of appointment have an effect on absence ?\n",
    "\n",
    "2.   What factors are important for us to know in order to predict if a patient will show up for their scheduled appointment ?\n",
    "\n",
    "3.   Are there any missing, duplicated, uninterpretable or possibly errant data ?\n",
    "\n",
    "\n",
    "> **Data Dictionary**:\n",
    "\n",
    "1. **PatientId**: *Identification of a patient*\n",
    "\n",
    "\n",
    "2.  **AppointmentID**: *Identification of each appointment*\n",
    "\n",
    "\n",
    "3.   **Gender**: *Male or Female . Female is the greater proportion, woman takes way more care of they health in comparison to man.*\n",
    "\n",
    "4.   **AppointmentDay**: *The day of the actuall appointment, when they have to visit the doctor.*\n",
    "\n",
    "\n",
    "5.   **ScheduledDay**: *The day someone called or registered the appointment.*\n",
    "\n",
    "\n",
    "\n",
    "6.   **Age**: *How old is the patient.*\n",
    "\n",
    "\n",
    "7.  **Neighbourhood**: *Where the appointment takes place.*\n",
    "\n",
    "\n",
    "8.   **Scholarship**: *True of False .- whether or not the patient is enrolled in Brasilian welfare program.*\n",
    "\n",
    "9.   **Hipertension**: *True or False* \n",
    "\n",
    "10.   **Diabetes**: *True or False*\n",
    "\n",
    "11.   **Alcoholism**: *True or False*\n",
    "\n",
    "12.   **Handcap**: *True or False*\n",
    "\n",
    "\n",
    "13.   **SMS_received**: *True or False - whether or not the patient has received an SMS*\n",
    "\n",
    "\n",
    "14.   **No-show**: *True or False.*\n",
    "\n",
    ">\n",
    "\n",
    "***NOTE! :*** *all True or False variables are represented here by **0**'s and **1**'s.*"
   ]
  },
  {
   "cell_type": "code",
   "execution_count": 4,
   "metadata": {
    "id": "xbVYxOU1a92q"
   },
   "outputs": [
    {
     "name": "stderr",
     "output_type": "stream",
     "text": [
      "UsageError: Line magic function `%` not found.\n"
     ]
    }
   ],
   "source": [
    "# Use this cell to set up import statements for all of the packages that you\n",
    "#   plan to use.\n",
    "import pandas as pd\n",
    "import numpy as np\n",
    "import matplotlib.pyplot as plt\n",
    "import seaborn as sns\n",
    "% matplotlib inline\n"
   ]
  },
  {
   "cell_type": "markdown",
   "metadata": {
    "id": "DPDEX85_a92r"
   },
   "source": [
    "<a id='wrangling'></a>\n",
    "## Data Wrangling\n",
    "\n",
    "\n",
    "> ### General Properties\n",
    "\n"
   ]
  },
  {
   "cell_type": "markdown",
   "metadata": {
    "id": "rKWLN0Vs7GDn"
   },
   "source": [
    "* ***Reading data***"
   ]
  },
  {
   "cell_type": "code",
   "execution_count": 5,
   "metadata": {
    "colab": {
     "base_uri": "https://localhost:8080/",
     "height": 233
    },
    "id": "tUPGmb3ka92r",
    "outputId": "61251579-a4b2-419b-aa89-a972a9ec8fa8"
   },
   "outputs": [
    {
     "data": {
      "text/html": [
       "<div>\n",
       "<style scoped>\n",
       "    .dataframe tbody tr th:only-of-type {\n",
       "        vertical-align: middle;\n",
       "    }\n",
       "\n",
       "    .dataframe tbody tr th {\n",
       "        vertical-align: top;\n",
       "    }\n",
       "\n",
       "    .dataframe thead th {\n",
       "        text-align: right;\n",
       "    }\n",
       "</style>\n",
       "<table border=\"1\" class=\"dataframe\">\n",
       "  <thead>\n",
       "    <tr style=\"text-align: right;\">\n",
       "      <th></th>\n",
       "      <th>PatientId</th>\n",
       "      <th>AppointmentID</th>\n",
       "      <th>Gender</th>\n",
       "      <th>ScheduledDay</th>\n",
       "      <th>AppointmentDay</th>\n",
       "      <th>Age</th>\n",
       "      <th>Neighbourhood</th>\n",
       "      <th>Scholarship</th>\n",
       "      <th>Hipertension</th>\n",
       "      <th>Diabetes</th>\n",
       "      <th>Alcoholism</th>\n",
       "      <th>Handcap</th>\n",
       "      <th>SMS_received</th>\n",
       "      <th>No-show</th>\n",
       "    </tr>\n",
       "  </thead>\n",
       "  <tbody>\n",
       "    <tr>\n",
       "      <th>0</th>\n",
       "      <td>2.987250e+13</td>\n",
       "      <td>5642903</td>\n",
       "      <td>F</td>\n",
       "      <td>2016-04-29T18:38:08Z</td>\n",
       "      <td>2016-04-29T00:00:00Z</td>\n",
       "      <td>62</td>\n",
       "      <td>JARDIM DA PENHA</td>\n",
       "      <td>0</td>\n",
       "      <td>1</td>\n",
       "      <td>0</td>\n",
       "      <td>0</td>\n",
       "      <td>0</td>\n",
       "      <td>0</td>\n",
       "      <td>No</td>\n",
       "    </tr>\n",
       "    <tr>\n",
       "      <th>1</th>\n",
       "      <td>5.589978e+14</td>\n",
       "      <td>5642503</td>\n",
       "      <td>M</td>\n",
       "      <td>2016-04-29T16:08:27Z</td>\n",
       "      <td>2016-04-29T00:00:00Z</td>\n",
       "      <td>56</td>\n",
       "      <td>JARDIM DA PENHA</td>\n",
       "      <td>0</td>\n",
       "      <td>0</td>\n",
       "      <td>0</td>\n",
       "      <td>0</td>\n",
       "      <td>0</td>\n",
       "      <td>0</td>\n",
       "      <td>No</td>\n",
       "    </tr>\n",
       "    <tr>\n",
       "      <th>2</th>\n",
       "      <td>4.262962e+12</td>\n",
       "      <td>5642549</td>\n",
       "      <td>F</td>\n",
       "      <td>2016-04-29T16:19:04Z</td>\n",
       "      <td>2016-04-29T00:00:00Z</td>\n",
       "      <td>62</td>\n",
       "      <td>MATA DA PRAIA</td>\n",
       "      <td>0</td>\n",
       "      <td>0</td>\n",
       "      <td>0</td>\n",
       "      <td>0</td>\n",
       "      <td>0</td>\n",
       "      <td>0</td>\n",
       "      <td>No</td>\n",
       "    </tr>\n",
       "  </tbody>\n",
       "</table>\n",
       "</div>"
      ],
      "text/plain": [
       "      PatientId  AppointmentID Gender          ScheduledDay  \\\n",
       "0  2.987250e+13        5642903      F  2016-04-29T18:38:08Z   \n",
       "1  5.589978e+14        5642503      M  2016-04-29T16:08:27Z   \n",
       "2  4.262962e+12        5642549      F  2016-04-29T16:19:04Z   \n",
       "\n",
       "         AppointmentDay  Age    Neighbourhood  Scholarship  Hipertension  \\\n",
       "0  2016-04-29T00:00:00Z   62  JARDIM DA PENHA            0             1   \n",
       "1  2016-04-29T00:00:00Z   56  JARDIM DA PENHA            0             0   \n",
       "2  2016-04-29T00:00:00Z   62    MATA DA PRAIA            0             0   \n",
       "\n",
       "   Diabetes  Alcoholism  Handcap  SMS_received No-show  \n",
       "0         0           0        0             0      No  \n",
       "1         0           0        0             0      No  \n",
       "2         0           0        0             0      No  "
      ]
     },
     "execution_count": 5,
     "metadata": {},
     "output_type": "execute_result"
    }
   ],
   "source": [
    "df= pd.read_csv(\"noshowappointments-kaggle.csv\")\n",
    "df.head(3)"
   ]
  },
  {
   "cell_type": "markdown",
   "metadata": {
    "id": "rOcF_utY65Eb"
   },
   "source": [
    ">***Inspecting data types and looking for instances of missing or possibly errant data.***"
   ]
  },
  {
   "cell_type": "code",
   "execution_count": 6,
   "metadata": {
    "id": "QB15DYfIJ8RU"
   },
   "outputs": [],
   "source": [
    "def general_prop(df):\n",
    "  return(df.info(), df.nunique(), df.describe())"
   ]
  },
  {
   "cell_type": "markdown",
   "metadata": {
    "id": "b4wEYjzOjjUZ"
   },
   "source": [
    "> *There's no missing data(null values)*\n",
    "\n",
    ">*ScheduledDay & AppointmentDay have inappropriate datatypes*\n",
    "\n",
    "> *There are some 'Age' values that are far from the realistic range*\n",
    "\n"
   ]
  },
  {
   "cell_type": "markdown",
   "metadata": {
    "id": "VPS8h6jhAwX0"
   },
   "source": [
    "**Investigating some \"Age\" information..**"
   ]
  },
  {
   "cell_type": "code",
   "execution_count": 7,
   "metadata": {
    "colab": {
     "base_uri": "https://localhost:8080/"
    },
    "id": "yEEzgObbKSwf",
    "outputId": "e1850239-92a5-4985-c842-7bc6ab7bddfc"
   },
   "outputs": [
    {
     "data": {
      "text/plain": [
       "11"
      ]
     },
     "execution_count": 7,
     "metadata": {},
     "output_type": "execute_result"
    }
   ],
   "source": [
    "sum(df['Age']>=100)"
   ]
  },
  {
   "cell_type": "code",
   "execution_count": 8,
   "metadata": {
    "colab": {
     "base_uri": "https://localhost:8080/",
     "height": 282
    },
    "id": "80Hpq8g1K9nt",
    "outputId": "150e8a35-1591-4e9d-9e22-29cb643af7d2"
   },
   "outputs": [
    {
     "data": {
      "text/html": [
       "<div>\n",
       "<style scoped>\n",
       "    .dataframe tbody tr th:only-of-type {\n",
       "        vertical-align: middle;\n",
       "    }\n",
       "\n",
       "    .dataframe tbody tr th {\n",
       "        vertical-align: top;\n",
       "    }\n",
       "\n",
       "    .dataframe thead th {\n",
       "        text-align: right;\n",
       "    }\n",
       "</style>\n",
       "<table border=\"1\" class=\"dataframe\">\n",
       "  <thead>\n",
       "    <tr style=\"text-align: right;\">\n",
       "      <th></th>\n",
       "      <th>PatientId</th>\n",
       "      <th>AppointmentID</th>\n",
       "      <th>Gender</th>\n",
       "      <th>ScheduledDay</th>\n",
       "      <th>AppointmentDay</th>\n",
       "      <th>Age</th>\n",
       "      <th>Neighbourhood</th>\n",
       "      <th>Scholarship</th>\n",
       "      <th>Hipertension</th>\n",
       "      <th>Diabetes</th>\n",
       "      <th>Alcoholism</th>\n",
       "      <th>Handcap</th>\n",
       "      <th>SMS_received</th>\n",
       "      <th>No-show</th>\n",
       "    </tr>\n",
       "  </thead>\n",
       "  <tbody>\n",
       "    <tr>\n",
       "      <th>58014</th>\n",
       "      <td>9.762948e+14</td>\n",
       "      <td>5651757</td>\n",
       "      <td>F</td>\n",
       "      <td>2016-05-03T09:14:53Z</td>\n",
       "      <td>2016-05-03T00:00:00Z</td>\n",
       "      <td>102</td>\n",
       "      <td>CONQUISTA</td>\n",
       "      <td>0</td>\n",
       "      <td>0</td>\n",
       "      <td>0</td>\n",
       "      <td>0</td>\n",
       "      <td>0</td>\n",
       "      <td>0</td>\n",
       "      <td>No</td>\n",
       "    </tr>\n",
       "    <tr>\n",
       "      <th>63912</th>\n",
       "      <td>3.196321e+13</td>\n",
       "      <td>5700278</td>\n",
       "      <td>F</td>\n",
       "      <td>2016-05-16T09:17:44Z</td>\n",
       "      <td>2016-05-19T00:00:00Z</td>\n",
       "      <td>115</td>\n",
       "      <td>ANDORINHAS</td>\n",
       "      <td>0</td>\n",
       "      <td>0</td>\n",
       "      <td>0</td>\n",
       "      <td>0</td>\n",
       "      <td>1</td>\n",
       "      <td>0</td>\n",
       "      <td>Yes</td>\n",
       "    </tr>\n",
       "    <tr>\n",
       "      <th>63915</th>\n",
       "      <td>3.196321e+13</td>\n",
       "      <td>5700279</td>\n",
       "      <td>F</td>\n",
       "      <td>2016-05-16T09:17:44Z</td>\n",
       "      <td>2016-05-19T00:00:00Z</td>\n",
       "      <td>115</td>\n",
       "      <td>ANDORINHAS</td>\n",
       "      <td>0</td>\n",
       "      <td>0</td>\n",
       "      <td>0</td>\n",
       "      <td>0</td>\n",
       "      <td>1</td>\n",
       "      <td>0</td>\n",
       "      <td>Yes</td>\n",
       "    </tr>\n",
       "    <tr>\n",
       "      <th>68127</th>\n",
       "      <td>3.196321e+13</td>\n",
       "      <td>5562812</td>\n",
       "      <td>F</td>\n",
       "      <td>2016-04-08T14:29:17Z</td>\n",
       "      <td>2016-05-16T00:00:00Z</td>\n",
       "      <td>115</td>\n",
       "      <td>ANDORINHAS</td>\n",
       "      <td>0</td>\n",
       "      <td>0</td>\n",
       "      <td>0</td>\n",
       "      <td>0</td>\n",
       "      <td>1</td>\n",
       "      <td>0</td>\n",
       "      <td>Yes</td>\n",
       "    </tr>\n",
       "    <tr>\n",
       "      <th>76284</th>\n",
       "      <td>3.196321e+13</td>\n",
       "      <td>5744037</td>\n",
       "      <td>F</td>\n",
       "      <td>2016-05-30T09:44:51Z</td>\n",
       "      <td>2016-05-30T00:00:00Z</td>\n",
       "      <td>115</td>\n",
       "      <td>ANDORINHAS</td>\n",
       "      <td>0</td>\n",
       "      <td>0</td>\n",
       "      <td>0</td>\n",
       "      <td>0</td>\n",
       "      <td>1</td>\n",
       "      <td>0</td>\n",
       "      <td>No</td>\n",
       "    </tr>\n",
       "    <tr>\n",
       "      <th>79270</th>\n",
       "      <td>9.739430e+12</td>\n",
       "      <td>5747809</td>\n",
       "      <td>M</td>\n",
       "      <td>2016-05-30T16:21:56Z</td>\n",
       "      <td>2016-05-31T00:00:00Z</td>\n",
       "      <td>100</td>\n",
       "      <td>TABUAZEIRO</td>\n",
       "      <td>0</td>\n",
       "      <td>0</td>\n",
       "      <td>0</td>\n",
       "      <td>0</td>\n",
       "      <td>1</td>\n",
       "      <td>0</td>\n",
       "      <td>No</td>\n",
       "    </tr>\n",
       "    <tr>\n",
       "      <th>79272</th>\n",
       "      <td>9.739430e+12</td>\n",
       "      <td>5747808</td>\n",
       "      <td>M</td>\n",
       "      <td>2016-05-30T16:21:56Z</td>\n",
       "      <td>2016-05-31T00:00:00Z</td>\n",
       "      <td>100</td>\n",
       "      <td>TABUAZEIRO</td>\n",
       "      <td>0</td>\n",
       "      <td>0</td>\n",
       "      <td>0</td>\n",
       "      <td>0</td>\n",
       "      <td>1</td>\n",
       "      <td>0</td>\n",
       "      <td>No</td>\n",
       "    </tr>\n",
       "    <tr>\n",
       "      <th>90372</th>\n",
       "      <td>2.342836e+11</td>\n",
       "      <td>5751563</td>\n",
       "      <td>F</td>\n",
       "      <td>2016-05-31T10:19:49Z</td>\n",
       "      <td>2016-06-02T00:00:00Z</td>\n",
       "      <td>102</td>\n",
       "      <td>MARIA ORTIZ</td>\n",
       "      <td>0</td>\n",
       "      <td>0</td>\n",
       "      <td>0</td>\n",
       "      <td>0</td>\n",
       "      <td>0</td>\n",
       "      <td>0</td>\n",
       "      <td>No</td>\n",
       "    </tr>\n",
       "    <tr>\n",
       "      <th>92084</th>\n",
       "      <td>5.578313e+13</td>\n",
       "      <td>5670914</td>\n",
       "      <td>F</td>\n",
       "      <td>2016-05-06T14:55:36Z</td>\n",
       "      <td>2016-06-03T00:00:00Z</td>\n",
       "      <td>100</td>\n",
       "      <td>ANTÔNIO HONÓRIO</td>\n",
       "      <td>0</td>\n",
       "      <td>0</td>\n",
       "      <td>0</td>\n",
       "      <td>0</td>\n",
       "      <td>0</td>\n",
       "      <td>1</td>\n",
       "      <td>No</td>\n",
       "    </tr>\n",
       "    <tr>\n",
       "      <th>97666</th>\n",
       "      <td>7.482346e+14</td>\n",
       "      <td>5717451</td>\n",
       "      <td>F</td>\n",
       "      <td>2016-05-19T07:57:56Z</td>\n",
       "      <td>2016-06-03T00:00:00Z</td>\n",
       "      <td>115</td>\n",
       "      <td>SÃO JOSÉ</td>\n",
       "      <td>0</td>\n",
       "      <td>1</td>\n",
       "      <td>0</td>\n",
       "      <td>0</td>\n",
       "      <td>0</td>\n",
       "      <td>1</td>\n",
       "      <td>No</td>\n",
       "    </tr>\n",
       "    <tr>\n",
       "      <th>108506</th>\n",
       "      <td>3.939642e+11</td>\n",
       "      <td>5721152</td>\n",
       "      <td>F</td>\n",
       "      <td>2016-05-19T15:32:09Z</td>\n",
       "      <td>2016-06-01T00:00:00Z</td>\n",
       "      <td>100</td>\n",
       "      <td>MARUÍPE</td>\n",
       "      <td>0</td>\n",
       "      <td>0</td>\n",
       "      <td>0</td>\n",
       "      <td>0</td>\n",
       "      <td>0</td>\n",
       "      <td>0</td>\n",
       "      <td>No</td>\n",
       "    </tr>\n",
       "  </tbody>\n",
       "</table>\n",
       "</div>"
      ],
      "text/plain": [
       "           PatientId  AppointmentID Gender          ScheduledDay  \\\n",
       "58014   9.762948e+14        5651757      F  2016-05-03T09:14:53Z   \n",
       "63912   3.196321e+13        5700278      F  2016-05-16T09:17:44Z   \n",
       "63915   3.196321e+13        5700279      F  2016-05-16T09:17:44Z   \n",
       "68127   3.196321e+13        5562812      F  2016-04-08T14:29:17Z   \n",
       "76284   3.196321e+13        5744037      F  2016-05-30T09:44:51Z   \n",
       "79270   9.739430e+12        5747809      M  2016-05-30T16:21:56Z   \n",
       "79272   9.739430e+12        5747808      M  2016-05-30T16:21:56Z   \n",
       "90372   2.342836e+11        5751563      F  2016-05-31T10:19:49Z   \n",
       "92084   5.578313e+13        5670914      F  2016-05-06T14:55:36Z   \n",
       "97666   7.482346e+14        5717451      F  2016-05-19T07:57:56Z   \n",
       "108506  3.939642e+11        5721152      F  2016-05-19T15:32:09Z   \n",
       "\n",
       "              AppointmentDay  Age    Neighbourhood  Scholarship  Hipertension  \\\n",
       "58014   2016-05-03T00:00:00Z  102        CONQUISTA            0             0   \n",
       "63912   2016-05-19T00:00:00Z  115       ANDORINHAS            0             0   \n",
       "63915   2016-05-19T00:00:00Z  115       ANDORINHAS            0             0   \n",
       "68127   2016-05-16T00:00:00Z  115       ANDORINHAS            0             0   \n",
       "76284   2016-05-30T00:00:00Z  115       ANDORINHAS            0             0   \n",
       "79270   2016-05-31T00:00:00Z  100       TABUAZEIRO            0             0   \n",
       "79272   2016-05-31T00:00:00Z  100       TABUAZEIRO            0             0   \n",
       "90372   2016-06-02T00:00:00Z  102      MARIA ORTIZ            0             0   \n",
       "92084   2016-06-03T00:00:00Z  100  ANTÔNIO HONÓRIO            0             0   \n",
       "97666   2016-06-03T00:00:00Z  115         SÃO JOSÉ            0             1   \n",
       "108506  2016-06-01T00:00:00Z  100          MARUÍPE            0             0   \n",
       "\n",
       "        Diabetes  Alcoholism  Handcap  SMS_received No-show  \n",
       "58014          0           0        0             0      No  \n",
       "63912          0           0        1             0     Yes  \n",
       "63915          0           0        1             0     Yes  \n",
       "68127          0           0        1             0     Yes  \n",
       "76284          0           0        1             0      No  \n",
       "79270          0           0        1             0      No  \n",
       "79272          0           0        1             0      No  \n",
       "90372          0           0        0             0      No  \n",
       "92084          0           0        0             1      No  \n",
       "97666          0           0        0             1      No  \n",
       "108506         0           0        0             0      No  "
      ]
     },
     "execution_count": 8,
     "metadata": {},
     "output_type": "execute_result"
    }
   ],
   "source": [
    "df[df['Age']>=100]"
   ]
  },
  {
   "cell_type": "code",
   "execution_count": 9,
   "metadata": {
    "colab": {
     "base_uri": "https://localhost:8080/"
    },
    "id": "0gCJe_a69m4a",
    "outputId": "dc26326b-70d3-4a46-ba97-65d643d17750"
   },
   "outputs": [
    {
     "data": {
      "text/plain": [
       "No     8\n",
       "Yes    3\n",
       "Name: No-show, dtype: int64"
      ]
     },
     "execution_count": 9,
     "metadata": {},
     "output_type": "execute_result"
    }
   ],
   "source": [
    "df[df['Age']>=100]['No-show'].value_counts()"
   ]
  },
  {
   "cell_type": "markdown",
   "metadata": {
    "id": "20yW7QcK8XaQ"
   },
   "source": [
    "> *A very small number of people who are above 100 (11 patients), the majority of them have attended their appointments!*\n",
    "\n",
    "> *So just not to have them as outliers, we're going to drop them*"
   ]
  },
  {
   "cell_type": "markdown",
   "metadata": {
    "id": "0kDexQ0Z-Bmt"
   },
   "source": [
    "* ***Check for duplicates***"
   ]
  },
  {
   "cell_type": "code",
   "execution_count": 10,
   "metadata": {
    "id": "PMXf9ksNMlHW"
   },
   "outputs": [],
   "source": [
    "def check_dup(df):\n",
    "  print(\"Overall full duplications in dataset:\", df.duplicated().value_counts(),\"\\n\")\n",
    "  print(\"duplicated patient IDs: \", sum(df['PatientId'].duplicated()),\"\\n\\n\")"
   ]
  },
  {
   "cell_type": "markdown",
   "metadata": {
    "id": "9EiU6RVd_kAs"
   },
   "source": [
    "\n",
    "\n",
    ">*There are some duplicated patient IDs but the rest of the corresponding row's info is still different*\n",
    "\n"
   ]
  },
  {
   "cell_type": "markdown",
   "metadata": {
    "id": "AEuDJc0cAPHI"
   },
   "source": [
    "* ***converting PatientId column datatype to str***"
   ]
  },
  {
   "cell_type": "code",
   "execution_count": 11,
   "metadata": {
    "id": "SwXpSCLXNCAD"
   },
   "outputs": [],
   "source": [
    "def to_str(df):\n",
    "  df['PatientId'] = df['PatientId'].astype(str)\n",
    "  df.dtypes\n",
    "  print(df['PatientId'].head(3))"
   ]
  },
  {
   "cell_type": "markdown",
   "metadata": {
    "id": "tRLL0G4H1iZf"
   },
   "source": [
    "Investigating some information about some instances of duplicated IDs"
   ]
  },
  {
   "cell_type": "code",
   "execution_count": 12,
   "metadata": {
    "colab": {
     "base_uri": "https://localhost:8080/"
    },
    "id": "nnMqrQMmIrZl",
    "outputId": "343e4d95-66fb-4add-fa02-583bba21e957"
   },
   "outputs": [
    {
     "name": "stdout",
     "output_type": "stream",
     "text": [
      "[248, 249, 250, 251, 252, 253, 254, 255, 256, 257]\n"
     ]
    }
   ],
   "source": [
    "#creating a list including indecies of duplicates of numbers between 1 & 10\n",
    "l=[]\n",
    "for i, c in enumerate(df['PatientId'].value_counts()):\n",
    "  if c<=10 & c>1:\n",
    "    l.append(i)\n",
    "print(l[:10])"
   ]
  },
  {
   "cell_type": "code",
   "execution_count": 13,
   "metadata": {
    "colab": {
     "base_uri": "https://localhost:8080/"
    },
    "id": "h3lKVtkBOgCp",
    "outputId": "aba4dc84-1a0b-4a7f-c252-04a887a1ca13"
   },
   "outputs": [
    {
     "data": {
      "text/plain": [
       "927483951542.0"
      ]
     },
     "execution_count": 13,
     "metadata": {},
     "output_type": "execute_result"
    }
   ],
   "source": [
    "# getting some instances of patients duplicated Ids\n",
    "df.iloc[248][0]"
   ]
  },
  {
   "cell_type": "code",
   "execution_count": 14,
   "metadata": {
    "colab": {
     "base_uri": "https://localhost:8080/"
    },
    "id": "hnll-gmvjgu0",
    "outputId": "0bd72275-2cfd-4cf2-f057-d65a8d71ddb9"
   },
   "outputs": [
    {
     "data": {
      "text/plain": [
       "8442143268529.0"
      ]
     },
     "execution_count": 14,
     "metadata": {},
     "output_type": "execute_result"
    }
   ],
   "source": [
    "df.iloc[273][0]"
   ]
  },
  {
   "cell_type": "code",
   "execution_count": 15,
   "metadata": {
    "colab": {
     "base_uri": "https://localhost:8080/",
     "height": 84
    },
    "id": "O9da8kK6XhqO",
    "outputId": "a3c9d4ed-7c07-48a0-a47a-6814310141ae"
   },
   "outputs": [
    {
     "data": {
      "text/html": [
       "<div>\n",
       "<style scoped>\n",
       "    .dataframe tbody tr th:only-of-type {\n",
       "        vertical-align: middle;\n",
       "    }\n",
       "\n",
       "    .dataframe tbody tr th {\n",
       "        vertical-align: top;\n",
       "    }\n",
       "\n",
       "    .dataframe thead th {\n",
       "        text-align: right;\n",
       "    }\n",
       "</style>\n",
       "<table border=\"1\" class=\"dataframe\">\n",
       "  <thead>\n",
       "    <tr style=\"text-align: right;\">\n",
       "      <th></th>\n",
       "      <th>PatientId</th>\n",
       "      <th>AppointmentID</th>\n",
       "      <th>Gender</th>\n",
       "      <th>ScheduledDay</th>\n",
       "      <th>AppointmentDay</th>\n",
       "      <th>Age</th>\n",
       "      <th>Neighbourhood</th>\n",
       "      <th>Scholarship</th>\n",
       "      <th>Hipertension</th>\n",
       "      <th>Diabetes</th>\n",
       "      <th>Alcoholism</th>\n",
       "      <th>Handcap</th>\n",
       "      <th>SMS_received</th>\n",
       "      <th>No-show</th>\n",
       "    </tr>\n",
       "  </thead>\n",
       "  <tbody>\n",
       "  </tbody>\n",
       "</table>\n",
       "</div>"
      ],
      "text/plain": [
       "Empty DataFrame\n",
       "Columns: [PatientId, AppointmentID, Gender, ScheduledDay, AppointmentDay, Age, Neighbourhood, Scholarship, Hipertension, Diabetes, Alcoholism, Handcap, SMS_received, No-show]\n",
       "Index: []"
      ]
     },
     "execution_count": 15,
     "metadata": {},
     "output_type": "execute_result"
    }
   ],
   "source": [
    "df[df['PatientId']=='927483951542.0']"
   ]
  },
  {
   "cell_type": "markdown",
   "metadata": {
    "id": "Lg4HXiaFBQP3"
   },
   "source": [
    "> *Here, last 2 rows must be an error data since the time of which the patient had set up their appointment is even after the appoint. time ((**1st case**))*\n",
    "\n"
   ]
  },
  {
   "cell_type": "code",
   "execution_count": 16,
   "metadata": {
    "colab": {
     "base_uri": "https://localhost:8080/",
     "height": 84
    },
    "id": "WhN0OPQUXTZm",
    "outputId": "45b04d44-0f96-4664-911a-80c9189213c5"
   },
   "outputs": [
    {
     "data": {
      "text/html": [
       "<div>\n",
       "<style scoped>\n",
       "    .dataframe tbody tr th:only-of-type {\n",
       "        vertical-align: middle;\n",
       "    }\n",
       "\n",
       "    .dataframe tbody tr th {\n",
       "        vertical-align: top;\n",
       "    }\n",
       "\n",
       "    .dataframe thead th {\n",
       "        text-align: right;\n",
       "    }\n",
       "</style>\n",
       "<table border=\"1\" class=\"dataframe\">\n",
       "  <thead>\n",
       "    <tr style=\"text-align: right;\">\n",
       "      <th></th>\n",
       "      <th>PatientId</th>\n",
       "      <th>AppointmentID</th>\n",
       "      <th>Gender</th>\n",
       "      <th>ScheduledDay</th>\n",
       "      <th>AppointmentDay</th>\n",
       "      <th>Age</th>\n",
       "      <th>Neighbourhood</th>\n",
       "      <th>Scholarship</th>\n",
       "      <th>Hipertension</th>\n",
       "      <th>Diabetes</th>\n",
       "      <th>Alcoholism</th>\n",
       "      <th>Handcap</th>\n",
       "      <th>SMS_received</th>\n",
       "      <th>No-show</th>\n",
       "    </tr>\n",
       "  </thead>\n",
       "  <tbody>\n",
       "  </tbody>\n",
       "</table>\n",
       "</div>"
      ],
      "text/plain": [
       "Empty DataFrame\n",
       "Columns: [PatientId, AppointmentID, Gender, ScheduledDay, AppointmentDay, Age, Neighbourhood, Scholarship, Hipertension, Diabetes, Alcoholism, Handcap, SMS_received, No-show]\n",
       "Index: []"
      ]
     },
     "execution_count": 16,
     "metadata": {},
     "output_type": "execute_result"
    }
   ],
   "source": [
    "df[df['PatientId']=='8442143268529.0']"
   ]
  },
  {
   "cell_type": "markdown",
   "metadata": {
    "id": "uvX8lQ4jBpIi"
   },
   "source": [
    "\n",
    ">*Showed at 1st appoint. and didn't show at the other; This is not a duplication,it's just a different record for a different appointment, since the appointment date is different*\n",
    "\n"
   ]
  },
  {
   "cell_type": "code",
   "execution_count": 17,
   "metadata": {
    "colab": {
     "base_uri": "https://localhost:8080/",
     "height": 84
    },
    "id": "X4ujPGs60UQ8",
    "outputId": "dc2fb152-fc40-42e6-98b2-d08545e35d9b"
   },
   "outputs": [
    {
     "data": {
      "text/html": [
       "<div>\n",
       "<style scoped>\n",
       "    .dataframe tbody tr th:only-of-type {\n",
       "        vertical-align: middle;\n",
       "    }\n",
       "\n",
       "    .dataframe tbody tr th {\n",
       "        vertical-align: top;\n",
       "    }\n",
       "\n",
       "    .dataframe thead th {\n",
       "        text-align: right;\n",
       "    }\n",
       "</style>\n",
       "<table border=\"1\" class=\"dataframe\">\n",
       "  <thead>\n",
       "    <tr style=\"text-align: right;\">\n",
       "      <th></th>\n",
       "      <th>PatientId</th>\n",
       "      <th>AppointmentID</th>\n",
       "      <th>Gender</th>\n",
       "      <th>ScheduledDay</th>\n",
       "      <th>AppointmentDay</th>\n",
       "      <th>Age</th>\n",
       "      <th>Neighbourhood</th>\n",
       "      <th>Scholarship</th>\n",
       "      <th>Hipertension</th>\n",
       "      <th>Diabetes</th>\n",
       "      <th>Alcoholism</th>\n",
       "      <th>Handcap</th>\n",
       "      <th>SMS_received</th>\n",
       "      <th>No-show</th>\n",
       "    </tr>\n",
       "  </thead>\n",
       "  <tbody>\n",
       "  </tbody>\n",
       "</table>\n",
       "</div>"
      ],
      "text/plain": [
       "Empty DataFrame\n",
       "Columns: [PatientId, AppointmentID, Gender, ScheduledDay, AppointmentDay, Age, Neighbourhood, Scholarship, Hipertension, Diabetes, Alcoholism, Handcap, SMS_received, No-show]\n",
       "Index: []"
      ]
     },
     "execution_count": 17,
     "metadata": {},
     "output_type": "execute_result"
    }
   ],
   "source": [
    "df[df['PatientId']==\"12154843752835.0\"] "
   ]
  },
  {
   "cell_type": "markdown",
   "metadata": {
    "id": "yHLnZJilCUaX"
   },
   "source": [
    "> *Duplicated paient IDs having the exact same records except for some columns [\"AppointmentID\" , \"ScheduledDay\" and \"SMS_received\"] ((**2nd case**))*\n",
    "\n",
    "> *Duplicated patient IDs appointing to the same date but having different \"No-show\" values ((**3rd case**))*\n",
    "\n",
    "\n",
    "\n"
   ]
  },
  {
   "cell_type": "markdown",
   "metadata": {
    "id": "wL8qMC0oJbK6"
   },
   "source": [
    "\n",
    "\n",
    "---\n",
    "\n"
   ]
  },
  {
   "cell_type": "markdown",
   "metadata": {
    "id": "SRjZPHfSN2JI"
   },
   "source": [
    "**Calling the functions to show investigation and change PatientId's type to string)**"
   ]
  },
  {
   "cell_type": "code",
   "execution_count": 18,
   "metadata": {
    "colab": {
     "base_uri": "https://localhost:8080/"
    },
    "id": "jdz6xZx1NSas",
    "outputId": "e79109fe-3711-4966-ac71-22f8668b5e54"
   },
   "outputs": [
    {
     "name": "stdout",
     "output_type": "stream",
     "text": [
      "<class 'pandas.core.frame.DataFrame'>\n",
      "RangeIndex: 110527 entries, 0 to 110526\n",
      "Data columns (total 14 columns):\n",
      " #   Column          Non-Null Count   Dtype  \n",
      "---  ------          --------------   -----  \n",
      " 0   PatientId       110527 non-null  float64\n",
      " 1   AppointmentID   110527 non-null  int64  \n",
      " 2   Gender          110527 non-null  object \n",
      " 3   ScheduledDay    110527 non-null  object \n",
      " 4   AppointmentDay  110527 non-null  object \n",
      " 5   Age             110527 non-null  int64  \n",
      " 6   Neighbourhood   110527 non-null  object \n",
      " 7   Scholarship     110527 non-null  int64  \n",
      " 8   Hipertension    110527 non-null  int64  \n",
      " 9   Diabetes        110527 non-null  int64  \n",
      " 10  Alcoholism      110527 non-null  int64  \n",
      " 11  Handcap         110527 non-null  int64  \n",
      " 12  SMS_received    110527 non-null  int64  \n",
      " 13  No-show         110527 non-null  object \n",
      "dtypes: float64(1), int64(8), object(5)\n",
      "memory usage: 11.8+ MB\n",
      "None \n",
      "\n",
      " PatientId          62299\n",
      "AppointmentID     110527\n",
      "Gender                 2\n",
      "ScheduledDay      103549\n",
      "AppointmentDay        27\n",
      "Age                  104\n",
      "Neighbourhood         81\n",
      "Scholarship            2\n",
      "Hipertension           2\n",
      "Diabetes               2\n",
      "Alcoholism             2\n",
      "Handcap                5\n",
      "SMS_received           2\n",
      "No-show                2\n",
      "dtype: int64 \n",
      "\n",
      "           PatientId  AppointmentID            Age    Scholarship  \\\n",
      "count  1.105270e+05   1.105270e+05  110527.000000  110527.000000   \n",
      "mean   1.474963e+14   5.675305e+06      37.088874       0.098266   \n",
      "std    2.560949e+14   7.129575e+04      23.110205       0.297675   \n",
      "min    3.921784e+04   5.030230e+06      -1.000000       0.000000   \n",
      "25%    4.172614e+12   5.640286e+06      18.000000       0.000000   \n",
      "50%    3.173184e+13   5.680573e+06      37.000000       0.000000   \n",
      "75%    9.439172e+13   5.725524e+06      55.000000       0.000000   \n",
      "max    9.999816e+14   5.790484e+06     115.000000       1.000000   \n",
      "\n",
      "        Hipertension       Diabetes     Alcoholism        Handcap  \\\n",
      "count  110527.000000  110527.000000  110527.000000  110527.000000   \n",
      "mean        0.197246       0.071865       0.030400       0.022248   \n",
      "std         0.397921       0.258265       0.171686       0.161543   \n",
      "min         0.000000       0.000000       0.000000       0.000000   \n",
      "25%         0.000000       0.000000       0.000000       0.000000   \n",
      "50%         0.000000       0.000000       0.000000       0.000000   \n",
      "75%         0.000000       0.000000       0.000000       0.000000   \n",
      "max         1.000000       1.000000       1.000000       4.000000   \n",
      "\n",
      "        SMS_received  \n",
      "count  110527.000000  \n",
      "mean        0.321026  \n",
      "std         0.466873  \n",
      "min         0.000000  \n",
      "25%         0.000000  \n",
      "50%         0.000000  \n",
      "75%         1.000000  \n",
      "max         1.000000  \n"
     ]
    }
   ],
   "source": [
    "x, y ,z= general_prop(df)\n",
    "print(x ,\"\\n\\n\", y, \"\\n\\n\", z)"
   ]
  },
  {
   "cell_type": "code",
   "execution_count": 19,
   "metadata": {
    "colab": {
     "base_uri": "https://localhost:8080/"
    },
    "id": "xm7DtRq0NSj7",
    "outputId": "dc3a24d5-50b1-44b5-b24d-adc265e78f9d"
   },
   "outputs": [
    {
     "name": "stdout",
     "output_type": "stream",
     "text": [
      "Overall full duplications in dataset: False    110527\n",
      "dtype: int64 \n",
      "\n",
      "duplicated patient IDs:  48228 \n",
      "\n",
      "\n"
     ]
    }
   ],
   "source": [
    "check_dup(df)"
   ]
  },
  {
   "cell_type": "code",
   "execution_count": 20,
   "metadata": {
    "colab": {
     "base_uri": "https://localhost:8080/"
    },
    "id": "xXG7x8V1NStA",
    "outputId": "6c1478c2-5149-4860-f487-7a74847973d0"
   },
   "outputs": [
    {
     "name": "stdout",
     "output_type": "stream",
     "text": [
      "0     29872499824296.0\n",
      "1    558997776694438.0\n",
      "2      4262962299951.0\n",
      "Name: PatientId, dtype: object\n"
     ]
    }
   ],
   "source": [
    "to_str(df)"
   ]
  },
  {
   "cell_type": "markdown",
   "metadata": {
    "id": "Fwl_6a0fQDnQ"
   },
   "source": [
    "**Viewing a pie chart for \"Yes's\" and \"No's\" in the (no_show) column \"dependent variable\"** "
   ]
  },
  {
   "cell_type": "code",
   "execution_count": 21,
   "metadata": {
    "colab": {
     "base_uri": "https://localhost:8080/",
     "height": 248
    },
    "id": "LdiIFin2QQmv",
    "outputId": "75ecb0e7-cabc-4eea-9791-576a88d6e301"
   },
   "outputs": [
    {
     "data": {
      "image/png": "[encoded data removed]",
      "text/plain": [
       "<Figure size 432x288 with 1 Axes>"
      ]
     },
     "metadata": {},
     "output_type": "display_data"
    }
   ],
   "source": [
    "df[\"No-show\"].value_counts().plot(kind='pie'); # major is \"NO\""
   ]
  },
  {
   "cell_type": "markdown",
   "metadata": {
    "id": "U8QUqR7va92s"
   },
   "source": [
    "\n",
    "### Data Cleaning **( Renaming columns lables, Changing inappropriate datatypes of attributes , dropping irrelivant or errant columns/rows)**"
   ]
  },
  {
   "cell_type": "markdown",
   "metadata": {
    "id": "9cupcYkaYM2E"
   },
   "source": [
    "* ***Renaming columns lables to be converted to lowercase and having any 2 words separated with \"_\" :***"
   ]
  },
  {
   "cell_type": "code",
   "execution_count": 22,
   "metadata": {
    "colab": {
     "base_uri": "https://localhost:8080/"
    },
    "id": "waqhrsQoKqf-",
    "outputId": "8ecf21f8-5a2f-4290-b700-62ef73e493c5"
   },
   "outputs": [
    {
     "data": {
      "text/plain": [
       "Index(['patient_id', 'appointment_id', 'gender', 'scheduled_day',\n",
       "       'appointment_day', 'age', 'neighbourhood', 'scholarship',\n",
       "       'hipertension', 'diabetes', 'alcoholism', 'handcap', 'sms_received',\n",
       "       'no_show'],\n",
       "      dtype='object')"
      ]
     },
     "execution_count": 22,
     "metadata": {},
     "output_type": "execute_result"
    }
   ],
   "source": [
    "df.rename(columns=lambda x: x.lower().replace(\"id\",\"_id\").replace(\"day\",\"_day\").replace(\"-\",\"_\"), inplace=True)\n",
    "df.columns"
   ]
  },
  {
   "cell_type": "markdown",
   "metadata": {
    "id": "yKvpEbOAJHGq"
   },
   "source": [
    " * ***Changing datatypes of scheduled_day & appointment_day to datetime :***"
   ]
  },
  {
   "cell_type": "code",
   "execution_count": 23,
   "metadata": {
    "colab": {
     "base_uri": "https://localhost:8080/"
    },
    "id": "RJp_wWT5uOyk",
    "outputId": "8d86b975-6c85-4ec1-98b1-52b2893e7595"
   },
   "outputs": [
    {
     "name": "stdout",
     "output_type": "stream",
     "text": [
      "<class 'pandas.core.frame.DataFrame'>\n",
      "RangeIndex: 110527 entries, 0 to 110526\n",
      "Data columns (total 14 columns):\n",
      " #   Column           Non-Null Count   Dtype              \n",
      "---  ------           --------------   -----              \n",
      " 0   patient_id       110527 non-null  object             \n",
      " 1   appointment_id   110527 non-null  int64              \n",
      " 2   gender           110527 non-null  object             \n",
      " 3   scheduled_day    110527 non-null  datetime64[ns, UTC]\n",
      " 4   appointment_day  110527 non-null  datetime64[ns, UTC]\n",
      " 5   age              110527 non-null  int64              \n",
      " 6   neighbourhood    110527 non-null  object             \n",
      " 7   scholarship      110527 non-null  int64              \n",
      " 8   hipertension     110527 non-null  int64              \n",
      " 9   diabetes         110527 non-null  int64              \n",
      " 10  alcoholism       110527 non-null  int64              \n",
      " 11  handcap          110527 non-null  int64              \n",
      " 12  sms_received     110527 non-null  int64              \n",
      " 13  no_show          110527 non-null  object             \n",
      "dtypes: datetime64[ns, UTC](2), int64(8), object(4)\n",
      "memory usage: 11.8+ MB\n"
     ]
    }
   ],
   "source": [
    "df['appointment_day']= pd.to_datetime(df['appointment_day'])\n",
    "df['scheduled_day']= pd.to_datetime(df['scheduled_day'])\n",
    "df.info()\n",
    "#scheduled_day & appointment_day attributes converted to datetime datatype"
   ]
  },
  {
   "cell_type": "markdown",
   "metadata": {
    "id": "CS1pv215I1Sl"
   },
   "source": [
    "* ***Dropping inappropriate or unreliable rows/columns :***"
   ]
  },
  {
   "cell_type": "markdown",
   "metadata": {
    "id": "8fxmw7T8aQ64"
   },
   "source": [
    "\n",
    "1. * **Dropping those rows with unrealistic Ages :**\n"
   ]
  },
  {
   "cell_type": "code",
   "execution_count": 24,
   "metadata": {
    "colab": {
     "base_uri": "https://localhost:8080/",
     "height": 284
    },
    "id": "Dm1GKh5fDnaF",
    "outputId": "d6e60b78-0a33-43bc-c52d-d7fb4307c57d"
   },
   "outputs": [
    {
     "data": {
      "text/html": [
       "<div>\n",
       "<style scoped>\n",
       "    .dataframe tbody tr th:only-of-type {\n",
       "        vertical-align: middle;\n",
       "    }\n",
       "\n",
       "    .dataframe tbody tr th {\n",
       "        vertical-align: top;\n",
       "    }\n",
       "\n",
       "    .dataframe thead th {\n",
       "        text-align: right;\n",
       "    }\n",
       "</style>\n",
       "<table border=\"1\" class=\"dataframe\">\n",
       "  <thead>\n",
       "    <tr style=\"text-align: right;\">\n",
       "      <th></th>\n",
       "      <th>appointment_id</th>\n",
       "      <th>age</th>\n",
       "      <th>scholarship</th>\n",
       "      <th>hipertension</th>\n",
       "      <th>diabetes</th>\n",
       "      <th>alcoholism</th>\n",
       "      <th>handcap</th>\n",
       "      <th>sms_received</th>\n",
       "    </tr>\n",
       "  </thead>\n",
       "  <tbody>\n",
       "    <tr>\n",
       "      <th>count</th>\n",
       "      <td>1.069870e+05</td>\n",
       "      <td>106987.000000</td>\n",
       "      <td>106987.000000</td>\n",
       "      <td>106987.000000</td>\n",
       "      <td>106987.000000</td>\n",
       "      <td>106987.000000</td>\n",
       "      <td>106987.000000</td>\n",
       "      <td>106987.000000</td>\n",
       "    </tr>\n",
       "    <tr>\n",
       "      <th>mean</th>\n",
       "      <td>5.675434e+06</td>\n",
       "      <td>38.316085</td>\n",
       "      <td>0.101031</td>\n",
       "      <td>0.203772</td>\n",
       "      <td>0.074243</td>\n",
       "      <td>0.031406</td>\n",
       "      <td>0.022975</td>\n",
       "      <td>0.323264</td>\n",
       "    </tr>\n",
       "    <tr>\n",
       "      <th>std</th>\n",
       "      <td>7.133274e+04</td>\n",
       "      <td>22.466214</td>\n",
       "      <td>0.301371</td>\n",
       "      <td>0.402804</td>\n",
       "      <td>0.262167</td>\n",
       "      <td>0.174412</td>\n",
       "      <td>0.164115</td>\n",
       "      <td>0.467725</td>\n",
       "    </tr>\n",
       "    <tr>\n",
       "      <th>min</th>\n",
       "      <td>5.030230e+06</td>\n",
       "      <td>1.000000</td>\n",
       "      <td>0.000000</td>\n",
       "      <td>0.000000</td>\n",
       "      <td>0.000000</td>\n",
       "      <td>0.000000</td>\n",
       "      <td>0.000000</td>\n",
       "      <td>0.000000</td>\n",
       "    </tr>\n",
       "    <tr>\n",
       "      <th>25%</th>\n",
       "      <td>5.640490e+06</td>\n",
       "      <td>19.000000</td>\n",
       "      <td>0.000000</td>\n",
       "      <td>0.000000</td>\n",
       "      <td>0.000000</td>\n",
       "      <td>0.000000</td>\n",
       "      <td>0.000000</td>\n",
       "      <td>0.000000</td>\n",
       "    </tr>\n",
       "    <tr>\n",
       "      <th>50%</th>\n",
       "      <td>5.680744e+06</td>\n",
       "      <td>38.000000</td>\n",
       "      <td>0.000000</td>\n",
       "      <td>0.000000</td>\n",
       "      <td>0.000000</td>\n",
       "      <td>0.000000</td>\n",
       "      <td>0.000000</td>\n",
       "      <td>0.000000</td>\n",
       "    </tr>\n",
       "    <tr>\n",
       "      <th>75%</th>\n",
       "      <td>5.725634e+06</td>\n",
       "      <td>56.000000</td>\n",
       "      <td>0.000000</td>\n",
       "      <td>0.000000</td>\n",
       "      <td>0.000000</td>\n",
       "      <td>0.000000</td>\n",
       "      <td>0.000000</td>\n",
       "      <td>1.000000</td>\n",
       "    </tr>\n",
       "    <tr>\n",
       "      <th>max</th>\n",
       "      <td>5.790484e+06</td>\n",
       "      <td>115.000000</td>\n",
       "      <td>1.000000</td>\n",
       "      <td>1.000000</td>\n",
       "      <td>1.000000</td>\n",
       "      <td>1.000000</td>\n",
       "      <td>4.000000</td>\n",
       "      <td>1.000000</td>\n",
       "    </tr>\n",
       "  </tbody>\n",
       "</table>\n",
       "</div>"
      ],
      "text/plain": [
       "       appointment_id            age    scholarship   hipertension  \\\n",
       "count    1.069870e+05  106987.000000  106987.000000  106987.000000   \n",
       "mean     5.675434e+06      38.316085       0.101031       0.203772   \n",
       "std      7.133274e+04      22.466214       0.301371       0.402804   \n",
       "min      5.030230e+06       1.000000       0.000000       0.000000   \n",
       "25%      5.640490e+06      19.000000       0.000000       0.000000   \n",
       "50%      5.680744e+06      38.000000       0.000000       0.000000   \n",
       "75%      5.725634e+06      56.000000       0.000000       0.000000   \n",
       "max      5.790484e+06     115.000000       1.000000       1.000000   \n",
       "\n",
       "            diabetes     alcoholism        handcap   sms_received  \n",
       "count  106987.000000  106987.000000  106987.000000  106987.000000  \n",
       "mean        0.074243       0.031406       0.022975       0.323264  \n",
       "std         0.262167       0.174412       0.164115       0.467725  \n",
       "min         0.000000       0.000000       0.000000       0.000000  \n",
       "25%         0.000000       0.000000       0.000000       0.000000  \n",
       "50%         0.000000       0.000000       0.000000       0.000000  \n",
       "75%         0.000000       0.000000       0.000000       1.000000  \n",
       "max         1.000000       1.000000       4.000000       1.000000  "
      ]
     },
     "execution_count": 24,
     "metadata": {},
     "output_type": "execute_result"
    }
   ],
   "source": [
    "df.drop(df[df['age'] <= 0].index, inplace = True)\n",
    "df.describe() "
   ]
  },
  {
   "cell_type": "markdown",
   "metadata": {
    "id": "XzqB3aZHa8zv"
   },
   "source": [
    "\n",
    "\n",
    "1.   * **Dropping Age Outliers :**\n",
    "\n"
   ]
  },
  {
   "cell_type": "code",
   "execution_count": 25,
   "metadata": {
    "colab": {
     "base_uri": "https://localhost:8080/",
     "height": 284
    },
    "id": "_lvSpqk6UV4r",
    "outputId": "5dcbe4df-cf7b-4b2b-d962-62c09a61c86c"
   },
   "outputs": [
    {
     "data": {
      "text/html": [
       "<div>\n",
       "<style scoped>\n",
       "    .dataframe tbody tr th:only-of-type {\n",
       "        vertical-align: middle;\n",
       "    }\n",
       "\n",
       "    .dataframe tbody tr th {\n",
       "        vertical-align: top;\n",
       "    }\n",
       "\n",
       "    .dataframe thead th {\n",
       "        text-align: right;\n",
       "    }\n",
       "</style>\n",
       "<table border=\"1\" class=\"dataframe\">\n",
       "  <thead>\n",
       "    <tr style=\"text-align: right;\">\n",
       "      <th></th>\n",
       "      <th>appointment_id</th>\n",
       "      <th>age</th>\n",
       "      <th>scholarship</th>\n",
       "      <th>hipertension</th>\n",
       "      <th>diabetes</th>\n",
       "      <th>alcoholism</th>\n",
       "      <th>handcap</th>\n",
       "      <th>sms_received</th>\n",
       "    </tr>\n",
       "  </thead>\n",
       "  <tbody>\n",
       "    <tr>\n",
       "      <th>count</th>\n",
       "      <td>1.069760e+05</td>\n",
       "      <td>106976.000000</td>\n",
       "      <td>106976.000000</td>\n",
       "      <td>106976.000000</td>\n",
       "      <td>106976.000000</td>\n",
       "      <td>106976.000000</td>\n",
       "      <td>106976.000000</td>\n",
       "      <td>106976.000000</td>\n",
       "    </tr>\n",
       "    <tr>\n",
       "      <th>mean</th>\n",
       "      <td>5.675432e+06</td>\n",
       "      <td>38.309004</td>\n",
       "      <td>0.101041</td>\n",
       "      <td>0.203784</td>\n",
       "      <td>0.074250</td>\n",
       "      <td>0.031409</td>\n",
       "      <td>0.022921</td>\n",
       "      <td>0.323278</td>\n",
       "    </tr>\n",
       "    <tr>\n",
       "      <th>std</th>\n",
       "      <td>7.133383e+04</td>\n",
       "      <td>22.456395</td>\n",
       "      <td>0.301385</td>\n",
       "      <td>0.402812</td>\n",
       "      <td>0.262179</td>\n",
       "      <td>0.174421</td>\n",
       "      <td>0.163960</td>\n",
       "      <td>0.467730</td>\n",
       "    </tr>\n",
       "    <tr>\n",
       "      <th>min</th>\n",
       "      <td>5.030230e+06</td>\n",
       "      <td>1.000000</td>\n",
       "      <td>0.000000</td>\n",
       "      <td>0.000000</td>\n",
       "      <td>0.000000</td>\n",
       "      <td>0.000000</td>\n",
       "      <td>0.000000</td>\n",
       "      <td>0.000000</td>\n",
       "    </tr>\n",
       "    <tr>\n",
       "      <th>25%</th>\n",
       "      <td>5.640488e+06</td>\n",
       "      <td>19.000000</td>\n",
       "      <td>0.000000</td>\n",
       "      <td>0.000000</td>\n",
       "      <td>0.000000</td>\n",
       "      <td>0.000000</td>\n",
       "      <td>0.000000</td>\n",
       "      <td>0.000000</td>\n",
       "    </tr>\n",
       "    <tr>\n",
       "      <th>50%</th>\n",
       "      <td>5.680740e+06</td>\n",
       "      <td>38.000000</td>\n",
       "      <td>0.000000</td>\n",
       "      <td>0.000000</td>\n",
       "      <td>0.000000</td>\n",
       "      <td>0.000000</td>\n",
       "      <td>0.000000</td>\n",
       "      <td>0.000000</td>\n",
       "    </tr>\n",
       "    <tr>\n",
       "      <th>75%</th>\n",
       "      <td>5.725632e+06</td>\n",
       "      <td>56.000000</td>\n",
       "      <td>0.000000</td>\n",
       "      <td>0.000000</td>\n",
       "      <td>0.000000</td>\n",
       "      <td>0.000000</td>\n",
       "      <td>0.000000</td>\n",
       "      <td>1.000000</td>\n",
       "    </tr>\n",
       "    <tr>\n",
       "      <th>max</th>\n",
       "      <td>5.790484e+06</td>\n",
       "      <td>99.000000</td>\n",
       "      <td>1.000000</td>\n",
       "      <td>1.000000</td>\n",
       "      <td>1.000000</td>\n",
       "      <td>1.000000</td>\n",
       "      <td>4.000000</td>\n",
       "      <td>1.000000</td>\n",
       "    </tr>\n",
       "  </tbody>\n",
       "</table>\n",
       "</div>"
      ],
      "text/plain": [
       "       appointment_id            age    scholarship   hipertension  \\\n",
       "count    1.069760e+05  106976.000000  106976.000000  106976.000000   \n",
       "mean     5.675432e+06      38.309004       0.101041       0.203784   \n",
       "std      7.133383e+04      22.456395       0.301385       0.402812   \n",
       "min      5.030230e+06       1.000000       0.000000       0.000000   \n",
       "25%      5.640488e+06      19.000000       0.000000       0.000000   \n",
       "50%      5.680740e+06      38.000000       0.000000       0.000000   \n",
       "75%      5.725632e+06      56.000000       0.000000       0.000000   \n",
       "max      5.790484e+06      99.000000       1.000000       1.000000   \n",
       "\n",
       "            diabetes     alcoholism        handcap   sms_received  \n",
       "count  106976.000000  106976.000000  106976.000000  106976.000000  \n",
       "mean        0.074250       0.031409       0.022921       0.323278  \n",
       "std         0.262179       0.174421       0.163960       0.467730  \n",
       "min         0.000000       0.000000       0.000000       0.000000  \n",
       "25%         0.000000       0.000000       0.000000       0.000000  \n",
       "50%         0.000000       0.000000       0.000000       0.000000  \n",
       "75%         0.000000       0.000000       0.000000       1.000000  \n",
       "max         1.000000       1.000000       4.000000       1.000000  "
      ]
     },
     "execution_count": 25,
     "metadata": {},
     "output_type": "execute_result"
    }
   ],
   "source": [
    "df.drop(df[df['age'] >= 100].index, inplace = True)\n",
    "df.describe()"
   ]
  },
  {
   "cell_type": "markdown",
   "metadata": {
    "id": "dWlohtYIcu71"
   },
   "source": [
    "\n",
    "\n",
    "2.  **Dropping error input rows :** \n",
    "\n"
   ]
  },
  {
   "cell_type": "markdown",
   "metadata": {
    "id": "RwI7Q-DobYYF"
   },
   "source": [
    "* **Confirming that sched. time was after the appoint. time ((** mentioned as **1st** case in the duplication-investigating part above**))**"
   ]
  },
  {
   "cell_type": "code",
   "execution_count": 26,
   "metadata": {
    "colab": {
     "base_uri": "https://localhost:8080/"
    },
    "id": "t_ASIqM2dwiN",
    "outputId": "3257f087-4369-48e0-c134-6d8fc4784d92"
   },
   "outputs": [
    {
     "data": {
      "text/plain": [
       "True"
      ]
     },
     "execution_count": 26,
     "metadata": {},
     "output_type": "execute_result"
    }
   ],
   "source": [
    "x= df[df['patient_id']=='927483951542.0']\n",
    "x.iloc[1]['scheduled_day'] > x.iloc[1]['appointment_day']"
   ]
  },
  {
   "cell_type": "code",
   "execution_count": 27,
   "metadata": {
    "colab": {
     "base_uri": "https://localhost:8080/"
    },
    "id": "tWC_nWdtE_EX",
    "outputId": "c3be999b-e6ff-4dbe-8790-cd6353843e9d"
   },
   "outputs": [
    {
     "data": {
      "text/plain": [
       "(69819, 14)"
      ]
     },
     "execution_count": 27,
     "metadata": {},
     "output_type": "execute_result"
    }
   ],
   "source": [
    "#Dropping such rows\n",
    "df.drop(df[df['appointment_day'] < df['scheduled_day']].index, inplace = True)\n",
    "df.shape"
   ]
  },
  {
   "cell_type": "markdown",
   "metadata": {
    "id": "lBu4mOZtYzrT"
   },
   "source": [
    "\n",
    "\n",
    "3.   **Dropping \"appoint.id\" column :** ((***2nd*** *case*-part1))\n",
    "\n",
    "\n",
    "\n",
    "\n",
    "\n",
    "\n",
    "\n"
   ]
  },
  {
   "cell_type": "code",
   "execution_count": 28,
   "metadata": {
    "colab": {
     "base_uri": "https://localhost:8080/",
     "height": 114
    },
    "id": "cDShs702d6Ml",
    "outputId": "3a7eb820-a2d2-4912-90d3-713fafebad73"
   },
   "outputs": [
    {
     "data": {
      "text/html": [
       "<div>\n",
       "<style scoped>\n",
       "    .dataframe tbody tr th:only-of-type {\n",
       "        vertical-align: middle;\n",
       "    }\n",
       "\n",
       "    .dataframe tbody tr th {\n",
       "        vertical-align: top;\n",
       "    }\n",
       "\n",
       "    .dataframe thead th {\n",
       "        text-align: right;\n",
       "    }\n",
       "</style>\n",
       "<table border=\"1\" class=\"dataframe\">\n",
       "  <thead>\n",
       "    <tr style=\"text-align: right;\">\n",
       "      <th></th>\n",
       "      <th>patient_id</th>\n",
       "      <th>gender</th>\n",
       "      <th>scheduled_day</th>\n",
       "      <th>appointment_day</th>\n",
       "      <th>age</th>\n",
       "      <th>neighbourhood</th>\n",
       "      <th>scholarship</th>\n",
       "      <th>hipertension</th>\n",
       "      <th>diabetes</th>\n",
       "      <th>alcoholism</th>\n",
       "      <th>handcap</th>\n",
       "      <th>sms_received</th>\n",
       "      <th>no_show</th>\n",
       "    </tr>\n",
       "  </thead>\n",
       "  <tbody>\n",
       "    <tr>\n",
       "      <th>5</th>\n",
       "      <td>95985133231274.0</td>\n",
       "      <td>F</td>\n",
       "      <td>2016-04-27 08:36:51+00:00</td>\n",
       "      <td>2016-04-29 00:00:00+00:00</td>\n",
       "      <td>76</td>\n",
       "      <td>REPÚBLICA</td>\n",
       "      <td>0</td>\n",
       "      <td>1</td>\n",
       "      <td>0</td>\n",
       "      <td>0</td>\n",
       "      <td>0</td>\n",
       "      <td>0</td>\n",
       "      <td>No</td>\n",
       "    </tr>\n",
       "  </tbody>\n",
       "</table>\n",
       "</div>"
      ],
      "text/plain": [
       "         patient_id gender             scheduled_day  \\\n",
       "5  95985133231274.0      F 2016-04-27 08:36:51+00:00   \n",
       "\n",
       "            appointment_day  age neighbourhood  scholarship  hipertension  \\\n",
       "5 2016-04-29 00:00:00+00:00   76     REPÚBLICA            0             1   \n",
       "\n",
       "   diabetes  alcoholism  handcap  sms_received no_show  \n",
       "5         0           0        0             0      No  "
      ]
     },
     "execution_count": 28,
     "metadata": {},
     "output_type": "execute_result"
    }
   ],
   "source": [
    "df.drop(['appointment_id'], axis=1,inplace=True)\n",
    "df.head(1)"
   ]
  },
  {
   "cell_type": "code",
   "execution_count": 29,
   "metadata": {
    "colab": {
     "base_uri": "https://localhost:8080/"
    },
    "id": "79wi3vhKd6X9",
    "outputId": "5026ec9b-11fd-40e0-b6ef-4da08480c82d"
   },
   "outputs": [
    {
     "data": {
      "text/plain": [
       "542"
      ]
     },
     "execution_count": 29,
     "metadata": {},
     "output_type": "execute_result"
    }
   ],
   "source": [
    "# checking for duplicated rows after dropping the appoit.id col\n",
    "df.duplicated().sum()"
   ]
  },
  {
   "cell_type": "markdown",
   "metadata": {
    "id": "2i9WAr9oZ4-c"
   },
   "source": [
    "\n",
    "4.   **Dropping duplicate rows :**\n",
    "\n"
   ]
  },
  {
   "cell_type": "code",
   "execution_count": 30,
   "metadata": {
    "colab": {
     "base_uri": "https://localhost:8080/"
    },
    "id": "kYpBoBgGd6iL",
    "outputId": "ca30c841-42cc-4dce-c615-1448655523b6"
   },
   "outputs": [
    {
     "data": {
      "text/plain": [
       "(69277, 13)"
      ]
     },
     "execution_count": 30,
     "metadata": {},
     "output_type": "execute_result"
    }
   ],
   "source": [
    "df.drop_duplicates(inplace=True)\n",
    "df.shape"
   ]
  },
  {
   "cell_type": "markdown",
   "metadata": {
    "id": "dY4pBVychRsS"
   },
   "source": [
    "> Investigating more to try solve the rest of the 2nd case:\n",
    "\n"
   ]
  },
  {
   "cell_type": "code",
   "execution_count": 31,
   "metadata": {
    "id": "N5xBopXiGvPS"
   },
   "outputs": [],
   "source": [
    "# inv= df.where(df['patient_id']=='12154843752835.0').groupby([\"patient_id\", \"appointment_day\"])['no_show'].value_counts()\n",
    "# inv"
   ]
  },
  {
   "cell_type": "markdown",
   "metadata": {
    "id": "PKzRszK0h68f"
   },
   "source": [
    "***Splitting showing and not showing up patients into two separate dataframes :***"
   ]
  },
  {
   "cell_type": "markdown",
   "metadata": {
    "id": "mfXvF_1LgLE9"
   },
   "source": [
    "1. *Creating separate dataframe of patients who showed up*"
   ]
  },
  {
   "cell_type": "code",
   "execution_count": 32,
   "metadata": {
    "colab": {
     "base_uri": "https://localhost:8080/"
    },
    "id": "VlSQuQi4XbDQ",
    "outputId": "525366ab-af1f-445d-ae84-0c9266dd6349"
   },
   "outputs": [
    {
     "name": "stdout",
     "output_type": "stream",
     "text": [
      "(49548, 13) \n",
      "\n",
      " No    49548\n",
      "Name: no_show, dtype: int64\n"
     ]
    }
   ],
   "source": [
    "showed= df[df['no_show']==\"No\"].copy()\n",
    "print(showed.shape ,'\\n\\n', showed['no_show'].value_counts())"
   ]
  },
  {
   "cell_type": "markdown",
   "metadata": {
    "id": "tE5E7msmgdtV"
   },
   "source": [
    "2. *Creating separate dataframe of patients who didn't show up*"
   ]
  },
  {
   "cell_type": "code",
   "execution_count": 33,
   "metadata": {
    "colab": {
     "base_uri": "https://localhost:8080/"
    },
    "id": "8jqK5IdChrn4",
    "outputId": "904f1630-7c10-482a-e2e8-b300308cd81f"
   },
   "outputs": [
    {
     "name": "stdout",
     "output_type": "stream",
     "text": [
      "(19729, 13) \n",
      "\n",
      " Yes    19729\n",
      "Name: no_show, dtype: int64\n"
     ]
    }
   ],
   "source": [
    "not_showed= df[df['no_show']==\"Yes\"].copy()\n",
    "print(not_showed.shape ,'\\n\\n', not_showed['no_show'].value_counts())"
   ]
  },
  {
   "cell_type": "markdown",
   "metadata": {
    "id": "mCreYkI0N0_t"
   },
   "source": [
    "* **Dropping [\"no-show\"] column from both dataframes since we already know the ['no-show'] value for all rows in each one:**"
   ]
  },
  {
   "cell_type": "code",
   "execution_count": 34,
   "metadata": {
    "colab": {
     "base_uri": "https://localhost:8080/"
    },
    "id": "PD-pAoHapypP",
    "outputId": "e80001b4-b9e0-4a52-e2d7-dad9719a1f89"
   },
   "outputs": [
    {
     "name": "stdout",
     "output_type": "stream",
     "text": [
      "Index(['patient_id', 'gender', 'scheduled_day', 'appointment_day', 'age',\n",
      "       'neighbourhood', 'scholarship', 'hipertension', 'diabetes',\n",
      "       'alcoholism', 'handcap', 'sms_received'],\n",
      "      dtype='object') \t (19729, 12) \n",
      "\n",
      " Index(['patient_id', 'gender', 'scheduled_day', 'appointment_day', 'age',\n",
      "       'neighbourhood', 'scholarship', 'hipertension', 'diabetes',\n",
      "       'alcoholism', 'handcap', 'sms_received'],\n",
      "      dtype='object') \t (49548, 12)\n"
     ]
    }
   ],
   "source": [
    "showed.drop(['no_show'],axis=1,inplace=True)\n",
    "not_showed.drop(['no_show'],axis=1,inplace=True)\n",
    "print(not_showed.columns, \"\\t\", not_showed.shape ,'\\n\\n', showed.columns, \"\\t\", showed.shape)"
   ]
  },
  {
   "cell_type": "markdown",
   "metadata": {
    "id": "mlN3vzJss-8i"
   },
   "source": [
    "**Summary discription of appointment days within showing and non-showing patients**"
   ]
  },
  {
   "cell_type": "code",
   "execution_count": 35,
   "metadata": {
    "colab": {
     "base_uri": "https://localhost:8080/"
    },
    "id": "xRzMEPH1aS-D",
    "outputId": "ac84e2e8-cf4e-4819-ca8b-d2af2e6f1b99"
   },
   "outputs": [
    {
     "name": "stdout",
     "output_type": "stream",
     "text": [
      "count                         49548\n",
      "unique                           27\n",
      "top       2016-06-06 00:00:00+00:00\n",
      "freq                           2171\n",
      "first     2016-04-29 00:00:00+00:00\n",
      "last      2016-06-08 00:00:00+00:00\n",
      "Name: appointment_day, dtype: object \n",
      "\n",
      "\n",
      " count                         19729\n",
      "unique                           27\n",
      "top       2016-05-16 00:00:00+00:00\n",
      "freq                            929\n",
      "first     2016-04-29 00:00:00+00:00\n",
      "last      2016-06-08 00:00:00+00:00\n",
      "Name: appointment_day, dtype: object\n"
     ]
    },
    {
     "name": "stderr",
     "output_type": "stream",
     "text": [
      "<ipython-input-35-ce132667bcdb>:1: FutureWarning: Treating datetime data as categorical rather than numeric in `.describe` is deprecated and will be removed in a future version of pandas. Specify `datetime_is_numeric=True` to silence this warning and adopt the future behavior now.\n",
      "  print(showed.appointment_day.describe() , \"\\n\\n\\n\",not_showed.appointment_day.describe())\n",
      "<ipython-input-35-ce132667bcdb>:1: FutureWarning: Treating datetime data as categorical rather than numeric in `.describe` is deprecated and will be removed in a future version of pandas. Specify `datetime_is_numeric=True` to silence this warning and adopt the future behavior now.\n",
      "  print(showed.appointment_day.describe() , \"\\n\\n\\n\",not_showed.appointment_day.describe())\n"
     ]
    }
   ],
   "source": [
    "print(showed.appointment_day.describe() , \"\\n\\n\\n\",not_showed.appointment_day.describe())"
   ]
  },
  {
   "cell_type": "markdown",
   "metadata": {
    "id": "Xb20OMI_t0bB"
   },
   "source": [
    "**Summary discription of scheduled days within showing and non-showing patients**"
   ]
  },
  {
   "cell_type": "code",
   "execution_count": 36,
   "metadata": {
    "colab": {
     "base_uri": "https://localhost:8080/"
    },
    "id": "lDBsq5K4c0wi",
    "outputId": "aeb3a1a8-5d26-487b-876e-1e035b10462a"
   },
   "outputs": [
    {
     "name": "stdout",
     "output_type": "stream",
     "text": [
      "count                         19729\n",
      "unique                        19204\n",
      "top       2016-04-25 17:17:46+00:00\n",
      "freq                             21\n",
      "first     2015-12-03 08:17:28+00:00\n",
      "last      2016-06-07 16:48:02+00:00\n",
      "Name: scheduled_day, dtype: object \n",
      "\n",
      "\n",
      " count                         49548\n",
      "unique                        48094\n",
      "top       2016-03-29 10:44:23+00:00\n",
      "freq                             11\n",
      "first     2015-11-10 07:13:56+00:00\n",
      "last      2016-06-07 19:03:57+00:00\n",
      "Name: scheduled_day, dtype: object\n"
     ]
    },
    {
     "name": "stderr",
     "output_type": "stream",
     "text": [
      "<ipython-input-36-69c19ab09c2a>:1: FutureWarning: Treating datetime data as categorical rather than numeric in `.describe` is deprecated and will be removed in a future version of pandas. Specify `datetime_is_numeric=True` to silence this warning and adopt the future behavior now.\n",
      "  print(not_showed.scheduled_day.describe(), \"\\n\\n\\n\", showed.scheduled_day.describe())\n",
      "<ipython-input-36-69c19ab09c2a>:1: FutureWarning: Treating datetime data as categorical rather than numeric in `.describe` is deprecated and will be removed in a future version of pandas. Specify `datetime_is_numeric=True` to silence this warning and adopt the future behavior now.\n",
      "  print(not_showed.scheduled_day.describe(), \"\\n\\n\\n\", showed.scheduled_day.describe())\n"
     ]
    }
   ],
   "source": [
    "print(not_showed.scheduled_day.describe(), \"\\n\\n\\n\", showed.scheduled_day.describe())\n",
    "#unique values are much"
   ]
  },
  {
   "cell_type": "markdown",
   "metadata": {
    "id": "1I4JMiHwtUUh"
   },
   "source": [
    "\n",
    "\n",
    "> *On its own, **\"scheduled_day\"** seems to be irrelivant or unreliable to build any intuition on, could be if we could find a relationship between it and the **appointment day**.* \n",
    "* I don't think we'd really care about the date on which the patient has called or 'somehow' ordered his appointment..! But maybe we might care about the period of time between the 2 dates! It may have an effect..\n"
   ]
  },
  {
   "cell_type": "markdown",
   "metadata": {
    "id": "8ZFkPbrbj-D7"
   },
   "source": [
    "**Relationships between scheduling and appointment dates in both cases of showing and non-showing patients**"
   ]
  },
  {
   "cell_type": "code",
   "execution_count": 37,
   "metadata": {
    "colab": {
     "base_uri": "https://localhost:8080/",
     "height": 114
    },
    "id": "Upff7FSQke9c",
    "outputId": "81ab25c1-a549-4ac7-a3a3-760bf6ecb540"
   },
   "outputs": [
    {
     "data": {
      "text/html": [
       "<div>\n",
       "<style scoped>\n",
       "    .dataframe tbody tr th:only-of-type {\n",
       "        vertical-align: middle;\n",
       "    }\n",
       "\n",
       "    .dataframe tbody tr th {\n",
       "        vertical-align: top;\n",
       "    }\n",
       "\n",
       "    .dataframe thead th {\n",
       "        text-align: right;\n",
       "    }\n",
       "</style>\n",
       "<table border=\"1\" class=\"dataframe\">\n",
       "  <thead>\n",
       "    <tr style=\"text-align: right;\">\n",
       "      <th></th>\n",
       "      <th>patient_id</th>\n",
       "      <th>gender</th>\n",
       "      <th>scheduled_day</th>\n",
       "      <th>appointment_day</th>\n",
       "      <th>age</th>\n",
       "      <th>neighbourhood</th>\n",
       "      <th>scholarship</th>\n",
       "      <th>hipertension</th>\n",
       "      <th>diabetes</th>\n",
       "      <th>alcoholism</th>\n",
       "      <th>handcap</th>\n",
       "      <th>sms_received</th>\n",
       "      <th>diff</th>\n",
       "    </tr>\n",
       "  </thead>\n",
       "  <tbody>\n",
       "    <tr>\n",
       "      <th>5</th>\n",
       "      <td>95985133231274.0</td>\n",
       "      <td>F</td>\n",
       "      <td>2016-04-27 08:36:51+00:00</td>\n",
       "      <td>2016-04-29 00:00:00+00:00</td>\n",
       "      <td>76</td>\n",
       "      <td>REPÚBLICA</td>\n",
       "      <td>0</td>\n",
       "      <td>1</td>\n",
       "      <td>0</td>\n",
       "      <td>0</td>\n",
       "      <td>0</td>\n",
       "      <td>0</td>\n",
       "      <td>1 days 15:23:09</td>\n",
       "    </tr>\n",
       "  </tbody>\n",
       "</table>\n",
       "</div>"
      ],
      "text/plain": [
       "         patient_id gender             scheduled_day  \\\n",
       "5  95985133231274.0      F 2016-04-27 08:36:51+00:00   \n",
       "\n",
       "            appointment_day  age neighbourhood  scholarship  hipertension  \\\n",
       "5 2016-04-29 00:00:00+00:00   76     REPÚBLICA            0             1   \n",
       "\n",
       "   diabetes  alcoholism  handcap  sms_received            diff  \n",
       "5         0           0        0             0 1 days 15:23:09  "
      ]
     },
     "execution_count": 37,
     "metadata": {},
     "output_type": "execute_result"
    }
   ],
   "source": [
    "#assigning a new column to the 2 dataframes in which we compute the difference in time \n",
    "#between the scheduled and appointment days\n",
    "\n",
    "new_showed= showed.assign(diff=showed['appointment_day']-showed['scheduled_day']).copy()\n",
    "new_not_showed= not_showed.assign(diff=not_showed['appointment_day']-not_showed['scheduled_day']).copy()\n",
    "new_showed.head(1) "
   ]
  },
  {
   "cell_type": "markdown",
   "metadata": {
    "id": "ija-ocuKxyCh"
   },
   "source": [
    "Viewing shapes of each new datasets"
   ]
  },
  {
   "cell_type": "code",
   "execution_count": 38,
   "metadata": {
    "colab": {
     "base_uri": "https://localhost:8080/"
    },
    "id": "TiLZYGFNw_P_",
    "outputId": "518c4db1-f9ab-450a-a6e7-05160baae6e2"
   },
   "outputs": [
    {
     "name": "stdout",
     "output_type": "stream",
     "text": [
      "new_showed's Shape: (49548, 13) \t new_not_showed's Shape: (19729, 13)\n"
     ]
    }
   ],
   "source": [
    "print(\"new_showed's Shape:\", new_showed.shape, \"\\t\",\"new_not_showed's Shape:\",new_not_showed.shape)"
   ]
  },
  {
   "cell_type": "code",
   "execution_count": 39,
   "metadata": {
    "id": "2mv0JvcIsRBz"
   },
   "outputs": [],
   "source": [
    "showed_diff= showed['appointment_day']-showed['scheduled_day']\n",
    "not_showed_diff= not_showed['appointment_day']-not_showed['scheduled_day']"
   ]
  },
  {
   "cell_type": "markdown",
   "metadata": {
    "id": "mWmgx6CCn7UW"
   },
   "source": [
    "> *Now that we have our new attribute [\"diff\"] which holds the period of time between the 2 dates--in order to see if that has an effect on the absence of patients, we're now able to **drop** the [\"scheduled_day\"] column ((**2nd** *case*-part2)), to be able to **drop** those **rows of duplication** of the same appointment day , and keep the row with the \"No\" record of the ['no-show'] column if there were different ['no-show']-records for these duplicated rows((**3rd** *case*)).* \n",
    "* \"meaning that if there was different row records of the same patient with 'almost' the same data ***appointing to the same date*** , and we had a \"*NO*\" value for them **-**indicating that they had come to their appointment**-** in any of these row records , then it's going to be redundant to keep the \"Yes\"-[ 'no-show' ] assigned row.\n",
    "\n",
    "\n"
   ]
  },
  {
   "cell_type": "markdown",
   "metadata": {
    "id": "UtMWzX0P4XiJ"
   },
   "source": [
    "* ***Dropping ['scheduled_day'] col. from showed & not_showed dataframes :***"
   ]
  },
  {
   "cell_type": "code",
   "execution_count": 40,
   "metadata": {
    "colab": {
     "base_uri": "https://localhost:8080/"
    },
    "id": "iNcQ9iCrvvfL",
    "outputId": "29d36179-a834-45aa-cf5a-060e45eb179e"
   },
   "outputs": [
    {
     "data": {
      "text/plain": [
       "0"
      ]
     },
     "execution_count": 40,
     "metadata": {},
     "output_type": "execute_result"
    }
   ],
   "source": [
    "# checking for number of duplicates before dropping the ['scheduled_day'] col.\n",
    "sum(showed.duplicated()) # 0\n",
    "sum(not_showed.duplicated()) #0"
   ]
  },
  {
   "cell_type": "code",
   "execution_count": 41,
   "metadata": {
    "id": "pLUi4cP9wmxH"
   },
   "outputs": [],
   "source": [
    "showed.drop(['scheduled_day'], axis=1,inplace=True)\n",
    "not_showed.drop(['scheduled_day'], axis=1,inplace=True)"
   ]
  },
  {
   "cell_type": "markdown",
   "metadata": {
    "id": "YzRvG1--9TMz"
   },
   "source": [
    "Showing columns and new shapes of the 2 datasets"
   ]
  },
  {
   "cell_type": "code",
   "execution_count": 42,
   "metadata": {
    "colab": {
     "base_uri": "https://localhost:8080/"
    },
    "id": "kwcvF4mu331N",
    "outputId": "f3f837e4-35f3-4622-f035-3fca42799269"
   },
   "outputs": [
    {
     "name": "stdout",
     "output_type": "stream",
     "text": [
      "Index(['patient_id', 'gender', 'appointment_day', 'age', 'neighbourhood',\n",
      "       'scholarship', 'hipertension', 'diabetes', 'alcoholism', 'handcap',\n",
      "       'sms_received'],\n",
      "      dtype='object') \t shape: (19729, 11) \n",
      "\n",
      " Index(['patient_id', 'gender', 'appointment_day', 'age', 'neighbourhood',\n",
      "       'scholarship', 'hipertension', 'diabetes', 'alcoholism', 'handcap',\n",
      "       'sms_received'],\n",
      "      dtype='object') shape: (49548, 11)\n"
     ]
    }
   ],
   "source": [
    "print(not_showed.columns , \"\\t\",\"shape:\",not_showed.shape ,\"\\n\\n\", showed.columns,\"shape:\", showed.shape)"
   ]
  },
  {
   "cell_type": "markdown",
   "metadata": {
    "id": "IBV4807T9IFH"
   },
   "source": [
    "**Checking for number of duplicates after dropping**"
   ]
  },
  {
   "cell_type": "code",
   "execution_count": 43,
   "metadata": {
    "colab": {
     "base_uri": "https://localhost:8080/"
    },
    "id": "7GS0S9grytAF",
    "outputId": "6668d1d3-9c2e-4309-8595-2c9bf6654ab1"
   },
   "outputs": [
    {
     "name": "stdout",
     "output_type": "stream",
     "text": [
      "showed duplicates:  640 \t not_showed duplicates:  286\n"
     ]
    }
   ],
   "source": [
    "print(\"showed duplicates: \",showed.duplicated().sum(), \"\\t\",\"not_showed duplicates: \", sum(not_showed.duplicated()))"
   ]
  },
  {
   "cell_type": "markdown",
   "metadata": {
    "id": "acAHRqMW4RQ8"
   },
   "source": [
    "**Saving indecies of duplicates in each dataframe, in order to drop them from the new created dataframes with the ['diff'] attribute.**"
   ]
  },
  {
   "cell_type": "code",
   "execution_count": 44,
   "metadata": {
    "colab": {
     "base_uri": "https://localhost:8080/"
    },
    "id": "dExuXJ2zv33C",
    "outputId": "d78e6f78-c986-4eb3-eae8-c05e388032e6"
   },
   "outputs": [
    {
     "data": {
      "text/plain": [
       "Int64Index([   808,    940,   1478,   2022,   2097,   2103,   2141,   2199,\n",
       "              2780,   3082,\n",
       "            ...\n",
       "            109197, 109214, 109246, 109257, 109315, 109770, 110037, 110046,\n",
       "            110082, 110178],\n",
       "           dtype='int64', length=640)"
      ]
     },
     "execution_count": 44,
     "metadata": {},
     "output_type": "execute_result"
    }
   ],
   "source": [
    "showed_dup_ind=showed[showed.duplicated()].index\n",
    "showed_dup_ind"
   ]
  },
  {
   "cell_type": "code",
   "execution_count": 45,
   "metadata": {
    "colab": {
     "base_uri": "https://localhost:8080/"
    },
    "id": "Jejxm69c81Hc",
    "outputId": "958969f7-ecc6-462b-b10b-eea70e97cf36"
   },
   "outputs": [
    {
     "data": {
      "text/plain": [
       "Int64Index([  1773,   1955,   2101,   2250,   3749,   7397,   7780,   8407,\n",
       "              8420,   9518,\n",
       "            ...\n",
       "            103589, 106130, 106133, 106421, 106787, 106961, 106964, 109503,\n",
       "            109992, 110430],\n",
       "           dtype='int64', length=286)"
      ]
     },
     "execution_count": 45,
     "metadata": {},
     "output_type": "execute_result"
    }
   ],
   "source": [
    "not_showed_dup_ind=not_showed[not_showed.duplicated()].index\n",
    "not_showed_dup_ind"
   ]
  },
  {
   "cell_type": "markdown",
   "metadata": {
    "id": "4NuXwOUB43h1"
   },
   "source": [
    "* ***Dropping duplicates from new dataframes***"
   ]
  },
  {
   "cell_type": "code",
   "execution_count": 46,
   "metadata": {
    "colab": {
     "base_uri": "https://localhost:8080/"
    },
    "id": "NMVXjdddzVty",
    "outputId": "5cd35ac5-7e8d-45fb-d6ec-a221816b827e"
   },
   "outputs": [
    {
     "data": {
      "text/plain": [
       "(48908, 13)"
      ]
     },
     "execution_count": 46,
     "metadata": {},
     "output_type": "execute_result"
    }
   ],
   "source": [
    "new_showed.drop(showed_dup_ind,inplace=True)\n",
    "new_showed.shape # 48908: \"49548 - 640\""
   ]
  },
  {
   "cell_type": "code",
   "execution_count": 47,
   "metadata": {
    "colab": {
     "base_uri": "https://localhost:8080/"
    },
    "id": "OI9Fvfex0vCx",
    "outputId": "1c02197b-62a2-40be-d98b-f8192e95e2d5"
   },
   "outputs": [
    {
     "data": {
      "text/plain": [
       "(19443, 13)"
      ]
     },
     "execution_count": 47,
     "metadata": {},
     "output_type": "execute_result"
    }
   ],
   "source": [
    "new_not_showed.drop(not_showed_dup_ind, inplace=True)\n",
    "new_not_showed.shape # 19443: \"19729 - 286\""
   ]
  },
  {
   "cell_type": "markdown",
   "metadata": {
    "id": "V80BM11JarlN"
   },
   "source": [
    "> Investigating more to try solve the rest of the 2nd case:\n",
    "\n"
   ]
  },
  {
   "cell_type": "markdown",
   "metadata": {
    "id": "Vg-H29Vwf4zB"
   },
   "source": [
    "**Searching if there are remaining duplicates in the non-showing up patients dataset**"
   ]
  },
  {
   "cell_type": "code",
   "execution_count": 48,
   "metadata": {
    "colab": {
     "base_uri": "https://localhost:8080/"
    },
    "id": "Nen4-R-I7Ez9",
    "outputId": "cb7d5f24-d518-456f-90c5-37249daa46d8"
   },
   "outputs": [
    {
     "data": {
      "text/plain": [
       "patient_id         appointment_day          \n",
       "111415561531417.0  2016-06-06 00:00:00+00:00    2\n",
       "11474894783.0      2016-05-11 00:00:00+00:00    2\n",
       "11861653483611.0   2016-05-10 00:00:00+00:00    2\n",
       "1189897442726.0    2016-05-11 00:00:00+00:00    2\n",
       "                   2016-05-25 00:00:00+00:00    2\n",
       "                                               ..\n",
       "99871477366383.0   2016-05-06 00:00:00+00:00    2\n",
       "                   2016-05-24 00:00:00+00:00    2\n",
       "                   2016-06-07 00:00:00+00:00    2\n",
       "9994328955474.0    2016-06-01 00:00:00+00:00    2\n",
       "99966898398164.0   2016-06-06 00:00:00+00:00    2\n",
       "Name: appointment_day, Length: 491, dtype: int64"
      ]
     },
     "execution_count": 48,
     "metadata": {},
     "output_type": "execute_result"
    }
   ],
   "source": [
    "dup_appoint= new_not_showed.groupby('patient_id')['appointment_day'].value_counts()\n",
    "dup_appoint[dup_appoint>1]"
   ]
  },
  {
   "cell_type": "markdown",
   "metadata": {
    "id": "T3cn2MmO9wwz"
   },
   "source": [
    "\n",
    "\n",
    "> *There are still some duplicate appointment dates for the same patient*\n",
    "\n"
   ]
  },
  {
   "cell_type": "markdown",
   "metadata": {
    "id": "S-gOVdWpflAU"
   },
   "source": [
    "Investigating some information about instances of duplicated patient IDs with the same appointment dates"
   ]
  },
  {
   "cell_type": "code",
   "execution_count": 49,
   "metadata": {
    "colab": {
     "base_uri": "https://localhost:8080/",
     "height": 160
    },
    "id": "TbF7c3Vc7dqf",
    "outputId": "d86bea3d-fa9a-4c9e-a734-ce072aecafc7"
   },
   "outputs": [
    {
     "data": {
      "text/html": [
       "<div>\n",
       "<style scoped>\n",
       "    .dataframe tbody tr th:only-of-type {\n",
       "        vertical-align: middle;\n",
       "    }\n",
       "\n",
       "    .dataframe tbody tr th {\n",
       "        vertical-align: top;\n",
       "    }\n",
       "\n",
       "    .dataframe thead th {\n",
       "        text-align: right;\n",
       "    }\n",
       "</style>\n",
       "<table border=\"1\" class=\"dataframe\">\n",
       "  <thead>\n",
       "    <tr style=\"text-align: right;\">\n",
       "      <th></th>\n",
       "      <th>patient_id</th>\n",
       "      <th>gender</th>\n",
       "      <th>scheduled_day</th>\n",
       "      <th>appointment_day</th>\n",
       "      <th>age</th>\n",
       "      <th>neighbourhood</th>\n",
       "      <th>scholarship</th>\n",
       "      <th>hipertension</th>\n",
       "      <th>diabetes</th>\n",
       "      <th>alcoholism</th>\n",
       "      <th>handcap</th>\n",
       "      <th>sms_received</th>\n",
       "      <th>diff</th>\n",
       "    </tr>\n",
       "  </thead>\n",
       "  <tbody>\n",
       "    <tr>\n",
       "      <th>103284</th>\n",
       "      <td>111415561531417.0</td>\n",
       "      <td>F</td>\n",
       "      <td>2016-05-19 16:13:52+00:00</td>\n",
       "      <td>2016-06-06 00:00:00+00:00</td>\n",
       "      <td>45</td>\n",
       "      <td>SANTA MARTHA</td>\n",
       "      <td>0</td>\n",
       "      <td>0</td>\n",
       "      <td>0</td>\n",
       "      <td>0</td>\n",
       "      <td>0</td>\n",
       "      <td>0</td>\n",
       "      <td>17 days 07:46:08</td>\n",
       "    </tr>\n",
       "    <tr>\n",
       "      <th>105563</th>\n",
       "      <td>111415561531417.0</td>\n",
       "      <td>F</td>\n",
       "      <td>2016-05-04 10:02:43+00:00</td>\n",
       "      <td>2016-06-06 00:00:00+00:00</td>\n",
       "      <td>45</td>\n",
       "      <td>SANTA MARTHA</td>\n",
       "      <td>0</td>\n",
       "      <td>0</td>\n",
       "      <td>0</td>\n",
       "      <td>0</td>\n",
       "      <td>0</td>\n",
       "      <td>1</td>\n",
       "      <td>32 days 13:57:17</td>\n",
       "    </tr>\n",
       "  </tbody>\n",
       "</table>\n",
       "</div>"
      ],
      "text/plain": [
       "               patient_id gender             scheduled_day  \\\n",
       "103284  111415561531417.0      F 2016-05-19 16:13:52+00:00   \n",
       "105563  111415561531417.0      F 2016-05-04 10:02:43+00:00   \n",
       "\n",
       "                 appointment_day  age neighbourhood  scholarship  \\\n",
       "103284 2016-06-06 00:00:00+00:00   45  SANTA MARTHA            0   \n",
       "105563 2016-06-06 00:00:00+00:00   45  SANTA MARTHA            0   \n",
       "\n",
       "        hipertension  diabetes  alcoholism  handcap  sms_received  \\\n",
       "103284             0         0           0        0             0   \n",
       "105563             0         0           0        0             1   \n",
       "\n",
       "                   diff  \n",
       "103284 17 days 07:46:08  \n",
       "105563 32 days 13:57:17  "
      ]
     },
     "execution_count": 49,
     "metadata": {},
     "output_type": "execute_result"
    }
   ],
   "source": [
    "new_not_showed[new_not_showed['patient_id']=='111415561531417.0']"
   ]
  },
  {
   "cell_type": "code",
   "execution_count": 50,
   "metadata": {
    "colab": {
     "base_uri": "https://localhost:8080/",
     "height": 346
    },
    "id": "YJmNIDDq808g",
    "outputId": "f60ecbc3-d32e-4153-fd6a-4aed13511d4a"
   },
   "outputs": [
    {
     "data": {
      "text/html": [
       "<div>\n",
       "<style scoped>\n",
       "    .dataframe tbody tr th:only-of-type {\n",
       "        vertical-align: middle;\n",
       "    }\n",
       "\n",
       "    .dataframe tbody tr th {\n",
       "        vertical-align: top;\n",
       "    }\n",
       "\n",
       "    .dataframe thead th {\n",
       "        text-align: right;\n",
       "    }\n",
       "</style>\n",
       "<table border=\"1\" class=\"dataframe\">\n",
       "  <thead>\n",
       "    <tr style=\"text-align: right;\">\n",
       "      <th></th>\n",
       "      <th>patient_id</th>\n",
       "      <th>gender</th>\n",
       "      <th>scheduled_day</th>\n",
       "      <th>appointment_day</th>\n",
       "      <th>age</th>\n",
       "      <th>neighbourhood</th>\n",
       "      <th>scholarship</th>\n",
       "      <th>hipertension</th>\n",
       "      <th>diabetes</th>\n",
       "      <th>alcoholism</th>\n",
       "      <th>handcap</th>\n",
       "      <th>sms_received</th>\n",
       "      <th>diff</th>\n",
       "    </tr>\n",
       "  </thead>\n",
       "  <tbody>\n",
       "    <tr>\n",
       "      <th>66216</th>\n",
       "      <td>99871477366383.0</td>\n",
       "      <td>F</td>\n",
       "      <td>2016-04-27 09:44:00+00:00</td>\n",
       "      <td>2016-05-24 00:00:00+00:00</td>\n",
       "      <td>13</td>\n",
       "      <td>JARDIM CAMBURI</td>\n",
       "      <td>0</td>\n",
       "      <td>0</td>\n",
       "      <td>0</td>\n",
       "      <td>0</td>\n",
       "      <td>0</td>\n",
       "      <td>1</td>\n",
       "      <td>26 days 14:16:00</td>\n",
       "    </tr>\n",
       "    <tr>\n",
       "      <th>66219</th>\n",
       "      <td>99871477366383.0</td>\n",
       "      <td>F</td>\n",
       "      <td>2016-04-27 09:44:00+00:00</td>\n",
       "      <td>2016-05-24 00:00:00+00:00</td>\n",
       "      <td>13</td>\n",
       "      <td>JARDIM CAMBURI</td>\n",
       "      <td>0</td>\n",
       "      <td>0</td>\n",
       "      <td>0</td>\n",
       "      <td>0</td>\n",
       "      <td>0</td>\n",
       "      <td>0</td>\n",
       "      <td>26 days 14:16:00</td>\n",
       "    </tr>\n",
       "    <tr>\n",
       "      <th>66247</th>\n",
       "      <td>99871477366383.0</td>\n",
       "      <td>F</td>\n",
       "      <td>2016-03-29 08:31:45+00:00</td>\n",
       "      <td>2016-05-06 00:00:00+00:00</td>\n",
       "      <td>13</td>\n",
       "      <td>JARDIM CAMBURI</td>\n",
       "      <td>0</td>\n",
       "      <td>0</td>\n",
       "      <td>0</td>\n",
       "      <td>0</td>\n",
       "      <td>0</td>\n",
       "      <td>1</td>\n",
       "      <td>37 days 15:28:15</td>\n",
       "    </tr>\n",
       "    <tr>\n",
       "      <th>66248</th>\n",
       "      <td>99871477366383.0</td>\n",
       "      <td>F</td>\n",
       "      <td>2016-03-29 08:31:45+00:00</td>\n",
       "      <td>2016-05-06 00:00:00+00:00</td>\n",
       "      <td>13</td>\n",
       "      <td>JARDIM CAMBURI</td>\n",
       "      <td>0</td>\n",
       "      <td>0</td>\n",
       "      <td>0</td>\n",
       "      <td>0</td>\n",
       "      <td>0</td>\n",
       "      <td>0</td>\n",
       "      <td>37 days 15:28:15</td>\n",
       "    </tr>\n",
       "    <tr>\n",
       "      <th>92642</th>\n",
       "      <td>99871477366383.0</td>\n",
       "      <td>F</td>\n",
       "      <td>2016-05-24 08:45:10+00:00</td>\n",
       "      <td>2016-06-07 00:00:00+00:00</td>\n",
       "      <td>13</td>\n",
       "      <td>JARDIM CAMBURI</td>\n",
       "      <td>0</td>\n",
       "      <td>0</td>\n",
       "      <td>0</td>\n",
       "      <td>0</td>\n",
       "      <td>0</td>\n",
       "      <td>1</td>\n",
       "      <td>13 days 15:14:50</td>\n",
       "    </tr>\n",
       "    <tr>\n",
       "      <th>92643</th>\n",
       "      <td>99871477366383.0</td>\n",
       "      <td>F</td>\n",
       "      <td>2016-05-24 08:45:10+00:00</td>\n",
       "      <td>2016-06-07 00:00:00+00:00</td>\n",
       "      <td>13</td>\n",
       "      <td>JARDIM CAMBURI</td>\n",
       "      <td>0</td>\n",
       "      <td>0</td>\n",
       "      <td>0</td>\n",
       "      <td>0</td>\n",
       "      <td>0</td>\n",
       "      <td>0</td>\n",
       "      <td>13 days 15:14:50</td>\n",
       "    </tr>\n",
       "  </tbody>\n",
       "</table>\n",
       "</div>"
      ],
      "text/plain": [
       "             patient_id gender             scheduled_day  \\\n",
       "66216  99871477366383.0      F 2016-04-27 09:44:00+00:00   \n",
       "66219  99871477366383.0      F 2016-04-27 09:44:00+00:00   \n",
       "66247  99871477366383.0      F 2016-03-29 08:31:45+00:00   \n",
       "66248  99871477366383.0      F 2016-03-29 08:31:45+00:00   \n",
       "92642  99871477366383.0      F 2016-05-24 08:45:10+00:00   \n",
       "92643  99871477366383.0      F 2016-05-24 08:45:10+00:00   \n",
       "\n",
       "                appointment_day  age   neighbourhood  scholarship  \\\n",
       "66216 2016-05-24 00:00:00+00:00   13  JARDIM CAMBURI            0   \n",
       "66219 2016-05-24 00:00:00+00:00   13  JARDIM CAMBURI            0   \n",
       "66247 2016-05-06 00:00:00+00:00   13  JARDIM CAMBURI            0   \n",
       "66248 2016-05-06 00:00:00+00:00   13  JARDIM CAMBURI            0   \n",
       "92642 2016-06-07 00:00:00+00:00   13  JARDIM CAMBURI            0   \n",
       "92643 2016-06-07 00:00:00+00:00   13  JARDIM CAMBURI            0   \n",
       "\n",
       "       hipertension  diabetes  alcoholism  handcap  sms_received  \\\n",
       "66216             0         0           0        0             1   \n",
       "66219             0         0           0        0             0   \n",
       "66247             0         0           0        0             1   \n",
       "66248             0         0           0        0             0   \n",
       "92642             0         0           0        0             1   \n",
       "92643             0         0           0        0             0   \n",
       "\n",
       "                  diff  \n",
       "66216 26 days 14:16:00  \n",
       "66219 26 days 14:16:00  \n",
       "66247 37 days 15:28:15  \n",
       "66248 37 days 15:28:15  \n",
       "92642 13 days 15:14:50  \n",
       "92643 13 days 15:14:50  "
      ]
     },
     "execution_count": 50,
     "metadata": {},
     "output_type": "execute_result"
    }
   ],
   "source": [
    "new_not_showed[new_not_showed['patient_id']=='99871477366383.0']   "
   ]
  },
  {
   "cell_type": "markdown",
   "metadata": {
    "id": "YhmI_MCt92nz"
   },
   "source": [
    "\n",
    "> *Other than the scheduled_day, seems that the differences in ['sms_recieved'] column's values are hiding some duplicates...((**2nd case** -part3))*"
   ]
  },
  {
   "cell_type": "markdown",
   "metadata": {
    "id": "gWr0KkSGgt6e"
   },
   "source": [
    "**Checking if there are appointments that are having more than 2 different values of (sms_received)**; *duplicated more than twice*"
   ]
  },
  {
   "cell_type": "code",
   "execution_count": 51,
   "metadata": {
    "colab": {
     "base_uri": "https://localhost:8080/"
    },
    "id": "sSDd9Zu_9gyU",
    "outputId": "1d18095f-ed5e-44c9-f040-85ed95ebe63c"
   },
   "outputs": [
    {
     "data": {
      "text/plain": [
       "Series([], Name: appointment_day, dtype: int64)"
      ]
     },
     "execution_count": 51,
     "metadata": {},
     "output_type": "execute_result"
    }
   ],
   "source": [
    "x= new_not_showed.groupby('patient_id').appointment_day.value_counts()\n",
    "x[x>2]"
   ]
  },
  {
   "cell_type": "markdown",
   "metadata": {
    "id": "wFV3cLKeOeiv"
   },
   "source": [
    "> *No appointment is duplicated more than twice ((according to the 2 unique values of \"sms_recieved\"))*\n",
    "\n"
   ]
  },
  {
   "cell_type": "markdown",
   "metadata": {
    "id": "6Brkuy2xhukm"
   },
   "source": [
    "\n",
    ">*Now since we're already dealing with the dataset of non-showing patients,then having 2 identical records for the same patient with the same appointment date and time just because of the 2 different values of the (sms_received) attribute seems to be illogical!* \n",
    "* That is, if it's the case that the patient has already received an sms (regardless what time), then keeping the other record of not receiving one is no more considered useful.\n",
    "\n",
    "\n",
    "> **Hence, we are going to keep those known to have been duplicated records with the sms_recieved column assigned to (1), and drop others with it assigned to (0)**.\n",
    "\n"
   ]
  },
  {
   "cell_type": "markdown",
   "metadata": {
    "id": "7b_oPuJkMKSO"
   },
   "source": [
    "**Creating an (ind) list holding duplicated IDs with duplicated appointment dates:**"
   ]
  },
  {
   "cell_type": "code",
   "execution_count": 52,
   "metadata": {
    "colab": {
     "base_uri": "https://localhost:8080/"
    },
    "id": "0cicDIjGMWzk",
    "outputId": "b1eb6d75-3a73-45de-8a46-b09b41e8090f"
   },
   "outputs": [
    {
     "data": {
      "text/plain": [
       "['111415561531417.0', '11474894783.0', '11861653483611.0']"
      ]
     },
     "execution_count": 52,
     "metadata": {},
     "output_type": "execute_result"
    }
   ],
   "source": [
    "ind= list(dup_appoint[dup_appoint>1].index.get_level_values('patient_id'))\n",
    "ind[:3]"
   ]
  },
  {
   "cell_type": "markdown",
   "metadata": {
    "id": "oorvz2A21Sh1"
   },
   "source": [
    "* ***Dropping duplictaed rows with sms_recieved assigned to (0)***"
   ]
  },
  {
   "cell_type": "code",
   "execution_count": 53,
   "metadata": {
    "colab": {
     "base_uri": "https://localhost:8080/"
    },
    "id": "d9owwy-tZhIE",
    "outputId": "6871c736-2293-4bea-915e-854c00d9517f"
   },
   "outputs": [
    {
     "data": {
      "text/plain": [
       "(18849, 13)"
      ]
     },
     "execution_count": 53,
     "metadata": {},
     "output_type": "execute_result"
    }
   ],
   "source": [
    "new_not_showed.drop(new_not_showed[(new_not_showed['patient_id'].isin(ind)) & (new_not_showed['sms_received'] == 0)].index,inplace=True)\n",
    "new_not_showed.shape"
   ]
  },
  {
   "cell_type": "markdown",
   "metadata": {
    "id": "fpw0dafpV8SG"
   },
   "source": [
    "**Confirming that duplicates of unique patients with the same appointment dates are gone**"
   ]
  },
  {
   "cell_type": "code",
   "execution_count": 54,
   "metadata": {
    "colab": {
     "base_uri": "https://localhost:8080/"
    },
    "id": "DNQIGfuNbw4k",
    "outputId": "a4826a73-f07f-46c0-bbc7-191720404960"
   },
   "outputs": [
    {
     "data": {
      "text/plain": [
       "Series([], Name: sms_received, dtype: int64)"
      ]
     },
     "execution_count": 54,
     "metadata": {},
     "output_type": "execute_result"
    }
   ],
   "source": [
    "y=new_not_showed.groupby(['patient_id','appointment_day']).sms_received.nunique()\n",
    "y[y>1]"
   ]
  },
  {
   "cell_type": "markdown",
   "metadata": {
    "id": "KJiYwQpI1x_b"
   },
   "source": [
    "*APPLYING THE SAME OPERATIONS TO THE SHOWING PATIENTS DATASET*\n",
    "\n",
    "\n",
    "\n",
    "---\n",
    "\n",
    "\n",
    "\n"
   ]
  },
  {
   "cell_type": "markdown",
   "metadata": {
    "id": "lsVqKLXh3Jwe"
   },
   "source": [
    "**Searching if there are remaining duplicates in the showing up patients dataset ((**after dropping duplicate rows that appeared when we dropped ['scheduled_day'] column..**))**"
   ]
  },
  {
   "cell_type": "code",
   "execution_count": 55,
   "metadata": {
    "colab": {
     "base_uri": "https://localhost:8080/"
    },
    "id": "xn2ljlBL3Mj8",
    "outputId": "25cc8e8d-4478-46eb-9aa2-8ab08182cdbd"
   },
   "outputs": [
    {
     "data": {
      "text/plain": [
       "patient_id         appointment_day          \n",
       "1115255573477.0    2016-05-03 00:00:00+00:00    2\n",
       "                   2016-06-01 00:00:00+00:00    2\n",
       "11278853454662.0   2016-05-04 00:00:00+00:00    2\n",
       "113952483828156.0  2016-05-31 00:00:00+00:00    2\n",
       "11397859663279.0   2016-06-06 00:00:00+00:00    2\n",
       "                                               ..\n",
       "992767386189371.0  2016-05-11 00:00:00+00:00    2\n",
       "992946715149969.0  2016-06-07 00:00:00+00:00    2\n",
       "99391982821283.0   2016-05-31 00:00:00+00:00    2\n",
       "99517221997498.0   2016-05-03 00:00:00+00:00    2\n",
       "99646866755844.0   2016-06-03 00:00:00+00:00    2\n",
       "Name: appointment_day, Length: 1148, dtype: int64"
      ]
     },
     "execution_count": 55,
     "metadata": {},
     "output_type": "execute_result"
    }
   ],
   "source": [
    "dup_appoint2= new_showed.groupby('patient_id')['appointment_day'].value_counts()\n",
    "dup_appoint2[dup_appoint2 >1]\n"
   ]
  },
  {
   "cell_type": "markdown",
   "metadata": {
    "id": "4qivJzZAGiPV"
   },
   "source": [
    "> *There are still some duplicate appointment dates for the same patient*\n"
   ]
  },
  {
   "cell_type": "markdown",
   "metadata": {
    "id": "t_oqsL_1Hc7D"
   },
   "source": [
    "Investigating some information about instances of duplicated patient IDs with the same appointment dates"
   ]
  },
  {
   "cell_type": "code",
   "execution_count": 56,
   "metadata": {
    "colab": {
     "base_uri": "https://localhost:8080/",
     "height": 253
    },
    "id": "xAh1Z3IG3MtM",
    "outputId": "15d912b0-aa5a-49a4-d671-026c7dbdbf4d"
   },
   "outputs": [
    {
     "data": {
      "text/html": [
       "<div>\n",
       "<style scoped>\n",
       "    .dataframe tbody tr th:only-of-type {\n",
       "        vertical-align: middle;\n",
       "    }\n",
       "\n",
       "    .dataframe tbody tr th {\n",
       "        vertical-align: top;\n",
       "    }\n",
       "\n",
       "    .dataframe thead th {\n",
       "        text-align: right;\n",
       "    }\n",
       "</style>\n",
       "<table border=\"1\" class=\"dataframe\">\n",
       "  <thead>\n",
       "    <tr style=\"text-align: right;\">\n",
       "      <th></th>\n",
       "      <th>patient_id</th>\n",
       "      <th>gender</th>\n",
       "      <th>scheduled_day</th>\n",
       "      <th>appointment_day</th>\n",
       "      <th>age</th>\n",
       "      <th>neighbourhood</th>\n",
       "      <th>scholarship</th>\n",
       "      <th>hipertension</th>\n",
       "      <th>diabetes</th>\n",
       "      <th>alcoholism</th>\n",
       "      <th>handcap</th>\n",
       "      <th>sms_received</th>\n",
       "      <th>diff</th>\n",
       "    </tr>\n",
       "  </thead>\n",
       "  <tbody>\n",
       "    <tr>\n",
       "      <th>31226</th>\n",
       "      <td>1115255573477.0</td>\n",
       "      <td>M</td>\n",
       "      <td>2016-04-29 07:33:32+00:00</td>\n",
       "      <td>2016-05-03 00:00:00+00:00</td>\n",
       "      <td>60</td>\n",
       "      <td>CENTRO</td>\n",
       "      <td>0</td>\n",
       "      <td>0</td>\n",
       "      <td>0</td>\n",
       "      <td>0</td>\n",
       "      <td>0</td>\n",
       "      <td>1</td>\n",
       "      <td>3 days 16:26:28</td>\n",
       "    </tr>\n",
       "    <tr>\n",
       "      <th>31231</th>\n",
       "      <td>1115255573477.0</td>\n",
       "      <td>M</td>\n",
       "      <td>2016-04-29 07:33:43+00:00</td>\n",
       "      <td>2016-05-03 00:00:00+00:00</td>\n",
       "      <td>60</td>\n",
       "      <td>CENTRO</td>\n",
       "      <td>0</td>\n",
       "      <td>0</td>\n",
       "      <td>0</td>\n",
       "      <td>0</td>\n",
       "      <td>0</td>\n",
       "      <td>0</td>\n",
       "      <td>3 days 16:26:17</td>\n",
       "    </tr>\n",
       "    <tr>\n",
       "      <th>101631</th>\n",
       "      <td>1115255573477.0</td>\n",
       "      <td>M</td>\n",
       "      <td>2016-05-19 17:24:01+00:00</td>\n",
       "      <td>2016-06-01 00:00:00+00:00</td>\n",
       "      <td>60</td>\n",
       "      <td>CENTRO</td>\n",
       "      <td>0</td>\n",
       "      <td>0</td>\n",
       "      <td>0</td>\n",
       "      <td>0</td>\n",
       "      <td>0</td>\n",
       "      <td>0</td>\n",
       "      <td>12 days 06:35:59</td>\n",
       "    </tr>\n",
       "    <tr>\n",
       "      <th>101635</th>\n",
       "      <td>1115255573477.0</td>\n",
       "      <td>M</td>\n",
       "      <td>2016-05-19 17:24:01+00:00</td>\n",
       "      <td>2016-06-01 00:00:00+00:00</td>\n",
       "      <td>60</td>\n",
       "      <td>CENTRO</td>\n",
       "      <td>0</td>\n",
       "      <td>0</td>\n",
       "      <td>0</td>\n",
       "      <td>0</td>\n",
       "      <td>0</td>\n",
       "      <td>1</td>\n",
       "      <td>12 days 06:35:59</td>\n",
       "    </tr>\n",
       "  </tbody>\n",
       "</table>\n",
       "</div>"
      ],
      "text/plain": [
       "             patient_id gender             scheduled_day  \\\n",
       "31226   1115255573477.0      M 2016-04-29 07:33:32+00:00   \n",
       "31231   1115255573477.0      M 2016-04-29 07:33:43+00:00   \n",
       "101631  1115255573477.0      M 2016-05-19 17:24:01+00:00   \n",
       "101635  1115255573477.0      M 2016-05-19 17:24:01+00:00   \n",
       "\n",
       "                 appointment_day  age neighbourhood  scholarship  \\\n",
       "31226  2016-05-03 00:00:00+00:00   60        CENTRO            0   \n",
       "31231  2016-05-03 00:00:00+00:00   60        CENTRO            0   \n",
       "101631 2016-06-01 00:00:00+00:00   60        CENTRO            0   \n",
       "101635 2016-06-01 00:00:00+00:00   60        CENTRO            0   \n",
       "\n",
       "        hipertension  diabetes  alcoholism  handcap  sms_received  \\\n",
       "31226              0         0           0        0             1   \n",
       "31231              0         0           0        0             0   \n",
       "101631             0         0           0        0             0   \n",
       "101635             0         0           0        0             1   \n",
       "\n",
       "                   diff  \n",
       "31226   3 days 16:26:28  \n",
       "31231   3 days 16:26:17  \n",
       "101631 12 days 06:35:59  \n",
       "101635 12 days 06:35:59  "
      ]
     },
     "execution_count": 56,
     "metadata": {},
     "output_type": "execute_result"
    }
   ],
   "source": [
    "new_showed[new_showed['patient_id']=='1115255573477.0']"
   ]
  },
  {
   "cell_type": "code",
   "execution_count": 57,
   "metadata": {
    "colab": {
     "base_uri": "https://localhost:8080/",
     "height": 160
    },
    "id": "8ZD2UQ7O3M17",
    "outputId": "004b01f8-949d-4996-9946-5143f78a65b0"
   },
   "outputs": [
    {
     "data": {
      "text/html": [
       "<div>\n",
       "<style scoped>\n",
       "    .dataframe tbody tr th:only-of-type {\n",
       "        vertical-align: middle;\n",
       "    }\n",
       "\n",
       "    .dataframe tbody tr th {\n",
       "        vertical-align: top;\n",
       "    }\n",
       "\n",
       "    .dataframe thead th {\n",
       "        text-align: right;\n",
       "    }\n",
       "</style>\n",
       "<table border=\"1\" class=\"dataframe\">\n",
       "  <thead>\n",
       "    <tr style=\"text-align: right;\">\n",
       "      <th></th>\n",
       "      <th>patient_id</th>\n",
       "      <th>gender</th>\n",
       "      <th>scheduled_day</th>\n",
       "      <th>appointment_day</th>\n",
       "      <th>age</th>\n",
       "      <th>neighbourhood</th>\n",
       "      <th>scholarship</th>\n",
       "      <th>hipertension</th>\n",
       "      <th>diabetes</th>\n",
       "      <th>alcoholism</th>\n",
       "      <th>handcap</th>\n",
       "      <th>sms_received</th>\n",
       "      <th>diff</th>\n",
       "    </tr>\n",
       "  </thead>\n",
       "  <tbody>\n",
       "    <tr>\n",
       "      <th>58491</th>\n",
       "      <td>99517221997498.0</td>\n",
       "      <td>F</td>\n",
       "      <td>2016-04-20 07:23:44+00:00</td>\n",
       "      <td>2016-05-03 00:00:00+00:00</td>\n",
       "      <td>41</td>\n",
       "      <td>SÃO CRISTÓVÃO</td>\n",
       "      <td>0</td>\n",
       "      <td>0</td>\n",
       "      <td>0</td>\n",
       "      <td>0</td>\n",
       "      <td>0</td>\n",
       "      <td>0</td>\n",
       "      <td>12 days 16:36:16</td>\n",
       "    </tr>\n",
       "    <tr>\n",
       "      <th>65904</th>\n",
       "      <td>99517221997498.0</td>\n",
       "      <td>F</td>\n",
       "      <td>2016-04-20 07:22:13+00:00</td>\n",
       "      <td>2016-05-03 00:00:00+00:00</td>\n",
       "      <td>41</td>\n",
       "      <td>SÃO CRISTÓVÃO</td>\n",
       "      <td>0</td>\n",
       "      <td>0</td>\n",
       "      <td>0</td>\n",
       "      <td>0</td>\n",
       "      <td>0</td>\n",
       "      <td>1</td>\n",
       "      <td>12 days 16:37:47</td>\n",
       "    </tr>\n",
       "  </tbody>\n",
       "</table>\n",
       "</div>"
      ],
      "text/plain": [
       "             patient_id gender             scheduled_day  \\\n",
       "58491  99517221997498.0      F 2016-04-20 07:23:44+00:00   \n",
       "65904  99517221997498.0      F 2016-04-20 07:22:13+00:00   \n",
       "\n",
       "                appointment_day  age  neighbourhood  scholarship  \\\n",
       "58491 2016-05-03 00:00:00+00:00   41  SÃO CRISTÓVÃO            0   \n",
       "65904 2016-05-03 00:00:00+00:00   41  SÃO CRISTÓVÃO            0   \n",
       "\n",
       "       hipertension  diabetes  alcoholism  handcap  sms_received  \\\n",
       "58491             0         0           0        0             0   \n",
       "65904             0         0           0        0             1   \n",
       "\n",
       "                  diff  \n",
       "58491 12 days 16:36:16  \n",
       "65904 12 days 16:37:47  "
      ]
     },
     "execution_count": 57,
     "metadata": {},
     "output_type": "execute_result"
    }
   ],
   "source": [
    "new_showed[new_showed['patient_id']=='99517221997498.0']"
   ]
  },
  {
   "cell_type": "markdown",
   "metadata": {
    "id": "Tn4hj429JkWR"
   },
   "source": [
    ">*['sms_recieved'] column's values are hiding some duplicates..*"
   ]
  },
  {
   "cell_type": "markdown",
   "metadata": {
    "id": "hUoI-0YjO_x6"
   },
   "source": [
    "**Checking if there are appointments that are having more than 2 different values of (sms_received)**; *duplicated more than twice*\n"
   ]
  },
  {
   "cell_type": "code",
   "execution_count": 58,
   "metadata": {
    "colab": {
     "base_uri": "https://localhost:8080/"
    },
    "id": "aFLmprCk3NLU",
    "outputId": "c5fd7b24-65a0-4a8e-ad9a-6e321be9b83e"
   },
   "outputs": [
    {
     "data": {
      "text/plain": [
       "Series([], Name: appointment_day, dtype: int64)"
      ]
     },
     "execution_count": 58,
     "metadata": {},
     "output_type": "execute_result"
    }
   ],
   "source": [
    "x= new_showed.groupby('patient_id').appointment_day.value_counts()\n",
    "x[x>2]"
   ]
  },
  {
   "cell_type": "markdown",
   "metadata": {
    "id": "fMff0AATPdxn"
   },
   "source": [
    "\n",
    "> * No appointment is duplicated more than twice ((according to the 2 unique values of \"sms_recieved\"))*"
   ]
  },
  {
   "cell_type": "markdown",
   "metadata": {
    "id": "lYUdA0WXPjjZ"
   },
   "source": [
    ">*Since already dealing with dataset of showing up patients*, **we are going to keep those known to have been duplicated records with the sms_recieved column assigned to (1), and drop others with it assigned to (0)**.\n"
   ]
  },
  {
   "cell_type": "markdown",
   "metadata": {
    "id": "F6MvdNPnPu85"
   },
   "source": [
    "**Creating an (ind2) list holding duplicated IDs with duplicated appointment dates:**"
   ]
  },
  {
   "cell_type": "code",
   "execution_count": 59,
   "metadata": {
    "colab": {
     "base_uri": "https://localhost:8080/"
    },
    "id": "YwnK46ezPuPK",
    "outputId": "1360166c-e0d3-43bf-d91c-2ffd9f02fca1"
   },
   "outputs": [
    {
     "data": {
      "text/plain": [
       "['1115255573477.0', '1115255573477.0', '11278853454662.0']"
      ]
     },
     "execution_count": 59,
     "metadata": {},
     "output_type": "execute_result"
    }
   ],
   "source": [
    "ind2= list(dup_appoint2[dup_appoint2 >1].index.get_level_values('patient_id'))\n",
    "len(ind2) #1148\n",
    "ind2[:3]"
   ]
  },
  {
   "cell_type": "markdown",
   "metadata": {
    "id": "zLvBGcbKRgE2"
   },
   "source": [
    "* ***Dropping duplicated rows with sms_recieved assigned to (0)***"
   ]
  },
  {
   "cell_type": "code",
   "execution_count": 60,
   "metadata": {
    "colab": {
     "base_uri": "https://localhost:8080/"
    },
    "id": "8frpXLR63NTm",
    "outputId": "9bd82a89-a6be-4886-8d45-96feb79004d1"
   },
   "outputs": [
    {
     "data": {
      "text/plain": [
       "(47105, 13)"
      ]
     },
     "execution_count": 60,
     "metadata": {},
     "output_type": "execute_result"
    }
   ],
   "source": [
    "new_showed.drop(new_showed[(new_showed['patient_id'].isin(ind2)) & (new_showed['sms_received'] == 0)].index,inplace=True)\n",
    "new_showed.shape"
   ]
  },
  {
   "cell_type": "markdown",
   "metadata": {
    "id": "V-PrnZOdSCEK"
   },
   "source": [
    "**confirming that duplicates of unique patients with the same appointment dates are gone:**\n"
   ]
  },
  {
   "cell_type": "code",
   "execution_count": 61,
   "metadata": {
    "colab": {
     "base_uri": "https://localhost:8080/"
    },
    "id": "E5cyh6lW3Nb6",
    "outputId": "a17f7ce4-2b80-4635-f886-dc02474c7b92"
   },
   "outputs": [
    {
     "data": {
      "text/plain": [
       "Series([], Name: sms_received, dtype: int64)"
      ]
     },
     "execution_count": 61,
     "metadata": {},
     "output_type": "execute_result"
    }
   ],
   "source": [
    "y=new_showed.groupby(['patient_id','appointment_day']).sms_received.nunique()\n",
    "y[y>1]"
   ]
  },
  {
   "cell_type": "markdown",
   "metadata": {
    "id": "RgXTKRMbxvFc"
   },
   "source": [
    "* ***Dropping ['scheduled_day'] from both datasets since we no more need it.***"
   ]
  },
  {
   "cell_type": "code",
   "execution_count": 62,
   "metadata": {
    "id": "5hcTUqzSx7-p"
   },
   "outputs": [],
   "source": [
    "new_not_showed.drop(['scheduled_day'],axis=1,inplace=True)\n",
    "new_showed.drop(['scheduled_day'],axis=1,inplace=True)"
   ]
  },
  {
   "cell_type": "markdown",
   "metadata": {
    "id": "dr1RHblzSoTs"
   },
   "source": [
    "**Confirming that there are no remaining duplicates in each of the 2 new dataframes**"
   ]
  },
  {
   "cell_type": "code",
   "execution_count": 63,
   "metadata": {
    "colab": {
     "base_uri": "https://localhost:8080/"
    },
    "id": "y6XdilMgpjAv",
    "outputId": "46273527-d9c5-46b1-8f9f-d108b5b66bf5"
   },
   "outputs": [
    {
     "name": "stdout",
     "output_type": "stream",
     "text": [
      "0 \t 0\n"
     ]
    }
   ],
   "source": [
    "print(new_not_showed.duplicated().sum(), '\\t', new_showed.duplicated().sum())"
   ]
  },
  {
   "cell_type": "code",
   "execution_count": 64,
   "metadata": {
    "colab": {
     "base_uri": "https://localhost:8080/"
    },
    "id": "4Jj_gHHICsvp",
    "outputId": "4e97348a-7087-4735-d114-c109ebf4ca86"
   },
   "outputs": [
    {
     "data": {
      "text/plain": [
       "Series([], Name: appointment_day, dtype: int64)"
      ]
     },
     "execution_count": 64,
     "metadata": {},
     "output_type": "execute_result"
    }
   ],
   "source": [
    "showed_groups=new_showed.groupby('patient_id')['appointment_day'].value_counts()\n",
    "showed_groups[showed_groups>1]"
   ]
  },
  {
   "cell_type": "code",
   "execution_count": 65,
   "metadata": {
    "colab": {
     "base_uri": "https://localhost:8080/"
    },
    "id": "hnR-r_7KC2Mz",
    "outputId": "ae4ccc44-b911-4d04-b962-ad119ed8f325"
   },
   "outputs": [
    {
     "data": {
      "text/plain": [
       "Series([], Name: appointment_day, dtype: int64)"
      ]
     },
     "execution_count": 65,
     "metadata": {},
     "output_type": "execute_result"
    }
   ],
   "source": [
    "not_showed_groups=new_not_showed.groupby('patient_id')['appointment_day'].value_counts()\n",
    "not_showed_groups[not_showed_groups>1]"
   ]
  },
  {
   "cell_type": "code",
   "execution_count": 66,
   "metadata": {
    "colab": {
     "base_uri": "https://localhost:8080/"
    },
    "id": "kereQk9cTY0v",
    "outputId": "dec86338-f699-4607-cdd1-4b225e34807c"
   },
   "outputs": [
    {
     "data": {
      "text/plain": [
       "patient_id         appointment_day          \n",
       "111124532532143.0  2016-06-01 00:00:00+00:00    1\n",
       "11114485119737.0   2016-05-25 00:00:00+00:00    1\n",
       "111296146416322.0  2016-06-06 00:00:00+00:00    1\n",
       "111344723737477.0  2016-04-29 00:00:00+00:00    1\n",
       "111346221769879.0  2016-06-03 00:00:00+00:00    1\n",
       "                                               ..\n",
       "9998948166645.0    2016-04-29 00:00:00+00:00    1\n",
       "99994953287696.0   2016-05-11 00:00:00+00:00    1\n",
       "9999737245272.0    2016-05-13 00:00:00+00:00    1\n",
       "9999951146446.0    2016-04-29 00:00:00+00:00    1\n",
       "                   2016-05-04 00:00:00+00:00    1\n",
       "Name: appointment_day, Length: 18849, dtype: int64"
      ]
     },
     "execution_count": 66,
     "metadata": {},
     "output_type": "execute_result"
    }
   ],
   "source": [
    "not_showed_groups"
   ]
  },
  {
   "cell_type": "markdown",
   "metadata": {
    "id": "se9YHneyqNXP"
   },
   "source": [
    "> Investigating to try solve case 3"
   ]
  },
  {
   "cell_type": "markdown",
   "metadata": {
    "id": "cPsEGC7TvL9m"
   },
   "source": [
    "**Creating a *(semi_dup)* object holding the unique groups of *(patient_id, appointment_day)* that existed in both showing and non-showing dataframes:**"
   ]
  },
  {
   "cell_type": "code",
   "execution_count": 67,
   "metadata": {
    "colab": {
     "base_uri": "https://localhost:8080/"
    },
    "id": "Q7WMFX3Al7e-",
    "outputId": "d3edfecd-eaa4-46e7-acca-e7ee7d0eef28"
   },
   "outputs": [
    {
     "data": {
      "text/plain": [
       "patient_id         appointment_day          \n",
       "113891922247784.0  2016-05-24 00:00:00+00:00    1\n",
       "11759531266127.0   2016-05-13 00:00:00+00:00    1\n",
       "1228564932244.0    2016-05-05 00:00:00+00:00    1\n",
       "1247227769838.0    2016-06-08 00:00:00+00:00    1\n",
       "1264588665536.0    2016-05-09 00:00:00+00:00    1\n",
       "                                               ..\n",
       "9942621558468.0    2016-05-17 00:00:00+00:00    1\n",
       "9949764735855.0    2016-06-07 00:00:00+00:00    1\n",
       "995193319545.0     2016-05-24 00:00:00+00:00    1\n",
       "99633398574471.0   2016-05-17 00:00:00+00:00    1\n",
       "                   2016-05-31 00:00:00+00:00    1\n",
       "Name: appointment_day, Length: 315, dtype: int64"
      ]
     },
     "execution_count": 67,
     "metadata": {},
     "output_type": "execute_result"
    }
   ],
   "source": [
    "semi_dup= not_showed_groups[not_showed_groups.index.isin(showed_groups.index)]\n",
    "semi_dup"
   ]
  },
  {
   "cell_type": "markdown",
   "metadata": {
    "id": "vLCf8uOa62Wc"
   },
   "source": [
    "**Confirming that these IDs indeed had different ['no_show'] values,** *-by invistigating some instances using the old unseparated dataframe-*"
   ]
  },
  {
   "cell_type": "code",
   "execution_count": 68,
   "metadata": {
    "colab": {
     "base_uri": "https://localhost:8080/",
     "height": 206
    },
    "id": "qdxXD0lml7kO",
    "outputId": "84bf814d-24b1-4f87-af08-c42746d62a8b"
   },
   "outputs": [
    {
     "data": {
      "text/html": [
       "<div>\n",
       "<style scoped>\n",
       "    .dataframe tbody tr th:only-of-type {\n",
       "        vertical-align: middle;\n",
       "    }\n",
       "\n",
       "    .dataframe tbody tr th {\n",
       "        vertical-align: top;\n",
       "    }\n",
       "\n",
       "    .dataframe thead th {\n",
       "        text-align: right;\n",
       "    }\n",
       "</style>\n",
       "<table border=\"1\" class=\"dataframe\">\n",
       "  <thead>\n",
       "    <tr style=\"text-align: right;\">\n",
       "      <th></th>\n",
       "      <th>patient_id</th>\n",
       "      <th>gender</th>\n",
       "      <th>scheduled_day</th>\n",
       "      <th>appointment_day</th>\n",
       "      <th>age</th>\n",
       "      <th>neighbourhood</th>\n",
       "      <th>scholarship</th>\n",
       "      <th>hipertension</th>\n",
       "      <th>diabetes</th>\n",
       "      <th>alcoholism</th>\n",
       "      <th>handcap</th>\n",
       "      <th>sms_received</th>\n",
       "      <th>no_show</th>\n",
       "    </tr>\n",
       "  </thead>\n",
       "  <tbody>\n",
       "    <tr>\n",
       "      <th>48556</th>\n",
       "      <td>113891922247784.0</td>\n",
       "      <td>M</td>\n",
       "      <td>2016-05-17 12:35:09+00:00</td>\n",
       "      <td>2016-05-24 00:00:00+00:00</td>\n",
       "      <td>25</td>\n",
       "      <td>JARDIM DA PENHA</td>\n",
       "      <td>0</td>\n",
       "      <td>0</td>\n",
       "      <td>0</td>\n",
       "      <td>0</td>\n",
       "      <td>0</td>\n",
       "      <td>1</td>\n",
       "      <td>No</td>\n",
       "    </tr>\n",
       "    <tr>\n",
       "      <th>48559</th>\n",
       "      <td>113891922247784.0</td>\n",
       "      <td>M</td>\n",
       "      <td>2016-05-17 12:34:55+00:00</td>\n",
       "      <td>2016-05-24 00:00:00+00:00</td>\n",
       "      <td>25</td>\n",
       "      <td>JARDIM DA PENHA</td>\n",
       "      <td>0</td>\n",
       "      <td>0</td>\n",
       "      <td>0</td>\n",
       "      <td>0</td>\n",
       "      <td>0</td>\n",
       "      <td>0</td>\n",
       "      <td>Yes</td>\n",
       "    </tr>\n",
       "    <tr>\n",
       "      <th>108424</th>\n",
       "      <td>113891922247784.0</td>\n",
       "      <td>M</td>\n",
       "      <td>2016-05-24 15:50:01+00:00</td>\n",
       "      <td>2016-06-08 00:00:00+00:00</td>\n",
       "      <td>25</td>\n",
       "      <td>JARDIM DA PENHA</td>\n",
       "      <td>0</td>\n",
       "      <td>0</td>\n",
       "      <td>0</td>\n",
       "      <td>0</td>\n",
       "      <td>0</td>\n",
       "      <td>1</td>\n",
       "      <td>No</td>\n",
       "    </tr>\n",
       "  </tbody>\n",
       "</table>\n",
       "</div>"
      ],
      "text/plain": [
       "               patient_id gender             scheduled_day  \\\n",
       "48556   113891922247784.0      M 2016-05-17 12:35:09+00:00   \n",
       "48559   113891922247784.0      M 2016-05-17 12:34:55+00:00   \n",
       "108424  113891922247784.0      M 2016-05-24 15:50:01+00:00   \n",
       "\n",
       "                 appointment_day  age    neighbourhood  scholarship  \\\n",
       "48556  2016-05-24 00:00:00+00:00   25  JARDIM DA PENHA            0   \n",
       "48559  2016-05-24 00:00:00+00:00   25  JARDIM DA PENHA            0   \n",
       "108424 2016-06-08 00:00:00+00:00   25  JARDIM DA PENHA            0   \n",
       "\n",
       "        hipertension  diabetes  alcoholism  handcap  sms_received no_show  \n",
       "48556              0         0           0        0             1      No  \n",
       "48559              0         0           0        0             0     Yes  \n",
       "108424             0         0           0        0             1      No  "
      ]
     },
     "execution_count": 68,
     "metadata": {},
     "output_type": "execute_result"
    }
   ],
   "source": [
    "df[df['patient_id']==\"113891922247784.0\"] "
   ]
  },
  {
   "cell_type": "code",
   "execution_count": 69,
   "metadata": {
    "colab": {
     "base_uri": "https://localhost:8080/",
     "height": 160
    },
    "id": "-5QlX7JKl8Kq",
    "outputId": "03861a90-641d-4d71-9e8b-566280e1b75d"
   },
   "outputs": [
    {
     "data": {
      "text/html": [
       "<div>\n",
       "<style scoped>\n",
       "    .dataframe tbody tr th:only-of-type {\n",
       "        vertical-align: middle;\n",
       "    }\n",
       "\n",
       "    .dataframe tbody tr th {\n",
       "        vertical-align: top;\n",
       "    }\n",
       "\n",
       "    .dataframe thead th {\n",
       "        text-align: right;\n",
       "    }\n",
       "</style>\n",
       "<table border=\"1\" class=\"dataframe\">\n",
       "  <thead>\n",
       "    <tr style=\"text-align: right;\">\n",
       "      <th></th>\n",
       "      <th>patient_id</th>\n",
       "      <th>gender</th>\n",
       "      <th>scheduled_day</th>\n",
       "      <th>appointment_day</th>\n",
       "      <th>age</th>\n",
       "      <th>neighbourhood</th>\n",
       "      <th>scholarship</th>\n",
       "      <th>hipertension</th>\n",
       "      <th>diabetes</th>\n",
       "      <th>alcoholism</th>\n",
       "      <th>handcap</th>\n",
       "      <th>sms_received</th>\n",
       "      <th>no_show</th>\n",
       "    </tr>\n",
       "  </thead>\n",
       "  <tbody>\n",
       "    <tr>\n",
       "      <th>46697</th>\n",
       "      <td>9942621558468.0</td>\n",
       "      <td>F</td>\n",
       "      <td>2016-05-16 14:22:37+00:00</td>\n",
       "      <td>2016-05-17 00:00:00+00:00</td>\n",
       "      <td>93</td>\n",
       "      <td>PRAIA DO CANTO</td>\n",
       "      <td>0</td>\n",
       "      <td>0</td>\n",
       "      <td>0</td>\n",
       "      <td>0</td>\n",
       "      <td>0</td>\n",
       "      <td>0</td>\n",
       "      <td>Yes</td>\n",
       "    </tr>\n",
       "    <tr>\n",
       "      <th>69889</th>\n",
       "      <td>9942621558468.0</td>\n",
       "      <td>F</td>\n",
       "      <td>2016-02-17 09:48:38+00:00</td>\n",
       "      <td>2016-05-17 00:00:00+00:00</td>\n",
       "      <td>93</td>\n",
       "      <td>PRAIA DO CANTO</td>\n",
       "      <td>0</td>\n",
       "      <td>0</td>\n",
       "      <td>0</td>\n",
       "      <td>0</td>\n",
       "      <td>0</td>\n",
       "      <td>0</td>\n",
       "      <td>No</td>\n",
       "    </tr>\n",
       "  </tbody>\n",
       "</table>\n",
       "</div>"
      ],
      "text/plain": [
       "            patient_id gender             scheduled_day  \\\n",
       "46697  9942621558468.0      F 2016-05-16 14:22:37+00:00   \n",
       "69889  9942621558468.0      F 2016-02-17 09:48:38+00:00   \n",
       "\n",
       "                appointment_day  age   neighbourhood  scholarship  \\\n",
       "46697 2016-05-17 00:00:00+00:00   93  PRAIA DO CANTO            0   \n",
       "69889 2016-05-17 00:00:00+00:00   93  PRAIA DO CANTO            0   \n",
       "\n",
       "       hipertension  diabetes  alcoholism  handcap  sms_received no_show  \n",
       "46697             0         0           0        0             0     Yes  \n",
       "69889             0         0           0        0             0      No  "
      ]
     },
     "execution_count": 69,
     "metadata": {},
     "output_type": "execute_result"
    }
   ],
   "source": [
    "df[df['patient_id']==\"9942621558468.0\"] "
   ]
  },
  {
   "cell_type": "markdown",
   "metadata": {
    "id": "6MyEvWCGxiu1"
   },
   "source": [
    "**Creating a *(semi_dup_ind)* list holding the patient_ID values of the previously discussed (semi_dup) object:**"
   ]
  },
  {
   "cell_type": "code",
   "execution_count": 70,
   "metadata": {
    "colab": {
     "base_uri": "https://localhost:8080/"
    },
    "id": "k7j509fn8Gt8",
    "outputId": "53ff50da-c61d-486a-e131-79a526e44ba4"
   },
   "outputs": [
    {
     "data": {
      "text/plain": [
       "['113891922247784.0', '11759531266127.0', '1228564932244.0']"
      ]
     },
     "execution_count": 70,
     "metadata": {},
     "output_type": "execute_result"
    }
   ],
   "source": [
    "semi_dup_inds=list(semi_dup.index.get_level_values('patient_id'))\n",
    "semi_dup_inds[:3]"
   ]
  },
  {
   "cell_type": "markdown",
   "metadata": {
    "id": "M1hK-_IVDM52"
   },
   "source": [
    "* **Dropping rows of these semi-duplicated IDs from the non-showing patients' dataframe:** "
   ]
  },
  {
   "cell_type": "code",
   "execution_count": 71,
   "metadata": {
    "colab": {
     "base_uri": "https://localhost:8080/"
    },
    "id": "ZfDkTqor_ORG",
    "outputId": "65355f65-11cf-4b82-8330-04feebd8e70e"
   },
   "outputs": [
    {
     "data": {
      "text/plain": [
       "(18390, 12)"
      ]
     },
     "execution_count": 71,
     "metadata": {},
     "output_type": "execute_result"
    }
   ],
   "source": [
    "new_not_showed.drop(new_not_showed[new_not_showed['patient_id'].isin(semi_dup_inds)].index,inplace=True)\n",
    "new_not_showed.shape"
   ]
  },
  {
   "cell_type": "markdown",
   "metadata": {
    "id": "o3lwFfibD1Ew"
   },
   "source": [
    "**Confriming that there are no remaining unique groups of the same (** *patient_ID & appointment_day* **) that are still appearing in both datasets**\n",
    "\n",
    "\n"
   ]
  },
  {
   "cell_type": "code",
   "execution_count": 72,
   "metadata": {
    "colab": {
     "base_uri": "https://localhost:8080/"
    },
    "id": "kQuNC3BlDrvM",
    "outputId": "a95ef5e9-e149-4645-b810-969eecf685f8"
   },
   "outputs": [
    {
     "data": {
      "text/plain": [
       "Series([], Name: appointment_day, dtype: int64)"
      ]
     },
     "execution_count": 72,
     "metadata": {},
     "output_type": "execute_result"
    }
   ],
   "source": [
    "showed_groups2=new_showed.groupby('patient_id')['appointment_day'].value_counts()\n",
    "not_showed_groups2=new_not_showed.groupby('patient_id')['appointment_day'].value_counts()\n",
    "\n",
    "not_showed_groups2[not_showed_groups2.index.isin(showed_groups2.index)]"
   ]
  },
  {
   "cell_type": "markdown",
   "metadata": {
    "id": "P9tT9dTtFXPv"
   },
   "source": [
    "\n",
    "\n",
    "---\n",
    "\n"
   ]
  },
  {
   "cell_type": "markdown",
   "metadata": {
    "id": "9AHJuwIra92t"
   },
   "source": [
    "<a id='eda'></a>\n",
    "## Exploratory Data Analysis\n",
    "\n",
    "\n",
    "### **(Question 1):** Does the period of time patients have to wait between the day they make their appointment order and the actual day of appointment have an effect on absence ?\n"
   ]
  },
  {
   "cell_type": "code",
   "execution_count": 73,
   "metadata": {
    "colab": {
     "base_uri": "https://localhost:8080/"
    },
    "id": "9UHuzsOrJgLe",
    "outputId": "1bdbbd1d-3a81-449d-baf1-41cc0d906541"
   },
   "outputs": [
    {
     "data": {
      "text/plain": [
       "count                         18390\n",
       "mean     16 days 15:53:39.490048941\n",
       "std      16 days 16:52:23.997498858\n",
       "min                 0 days 03:19:13\n",
       "25%          4 days 12:46:44.500000\n",
       "50%                12 days 10:58:27\n",
       "75%         24 days 14:31:51.250000\n",
       "max               178 days 13:19:01\n",
       "Name: diff, dtype: object"
      ]
     },
     "execution_count": 73,
     "metadata": {},
     "output_type": "execute_result"
    }
   ],
   "source": [
    "new_not_showed['diff'].describe()"
   ]
  },
  {
   "cell_type": "code",
   "execution_count": 74,
   "metadata": {
    "colab": {
     "base_uri": "https://localhost:8080/"
    },
    "id": "HCCMC1NBJsha",
    "outputId": "99bbc6b7-0c71-4b8a-d63f-abb7ca37c945"
   },
   "outputs": [
    {
     "data": {
      "text/plain": [
       "count                         47105\n",
       "mean     14 days 10:16:19.604712880\n",
       "std      16 days 11:08:39.676727907\n",
       "min                 0 days 03:16:20\n",
       "25%                 3 days 10:47:17\n",
       "50%                 7 days 14:47:26\n",
       "75%                20 days 14:34:03\n",
       "max               178 days 13:17:18\n",
       "Name: diff, dtype: object"
      ]
     },
     "execution_count": 74,
     "metadata": {},
     "output_type": "execute_result"
    }
   ],
   "source": [
    "new_showed['diff'].describe()"
   ]
  },
  {
   "cell_type": "markdown",
   "metadata": {
    "id": "c_SomkCBJ0Lh"
   },
   "source": [
    "> *Not showing a huge difference , ranges and means are close!* **Let's have a look at their subplot histogram..**"
   ]
  },
  {
   "cell_type": "code",
   "execution_count": 75,
   "metadata": {
    "colab": {
     "base_uri": "https://localhost:8080/",
     "height": 404
    },
    "id": "sO7lHPJQLJbx",
    "outputId": "59fc985e-0e7f-4210-f061-da2decc94d54"
   },
   "outputs": [
    {
     "data": {
      "image/png": "[encoded data removed]",
      "text/plain": [
       "<Figure size 576x432 with 1 Axes>"
      ]
     },
     "metadata": {
      "needs_background": "light"
     },
     "output_type": "display_data"
    }
   ],
   "source": [
    "fig, ax = plt.subplots(figsize=(8,6))\n",
    "ax.hist((new_showed['diff']/ np.timedelta64(1,'D')), alpha=0.5, label=\"showed up\")\n",
    "ax.hist((new_not_showed['diff']/ np.timedelta64(1,'D')), alpha=0.5, label=\"didn't show up\")\n",
    "ax.set_title(\"Distributions of showing and non-showing patients' awaiting times\")\n",
    "ax.set_xlabel('Awaiting period of time')\n",
    "ax.set_ylabel('Counts')\n",
    "plt.legend(loc='upper right')\n",
    "plt.show()"
   ]
  },
  {
   "cell_type": "markdown",
   "metadata": {
    "id": "5rQ5D5QyNt71"
   },
   "source": [
    "> *most probably, the period of time patient has to wait until his appointment day does not have that markable effect on absence.*"
   ]
  },
  {
   "cell_type": "markdown",
   "metadata": {
    "id": "u4esYd08a92t"
   },
   "source": [
    "###**(Question 2):** What other factors that are important for us to know in order to predict if a patient will show up for their scheduled appointment ?\n",
    "\n"
   ]
  },
  {
   "cell_type": "markdown",
   "metadata": {
    "id": "DOKQzjo57syu"
   },
   "source": [
    "**Looking at summary statistics on both datasets**"
   ]
  },
  {
   "cell_type": "code",
   "execution_count": 76,
   "metadata": {
    "colab": {
     "base_uri": "https://localhost:8080/",
     "height": 284
    },
    "id": "jUMiH2lf4tkr",
    "outputId": "1180a831-ab0f-40e6-88c9-b043693ac832"
   },
   "outputs": [
    {
     "data": {
      "text/html": [
       "<div>\n",
       "<style scoped>\n",
       "    .dataframe tbody tr th:only-of-type {\n",
       "        vertical-align: middle;\n",
       "    }\n",
       "\n",
       "    .dataframe tbody tr th {\n",
       "        vertical-align: top;\n",
       "    }\n",
       "\n",
       "    .dataframe thead th {\n",
       "        text-align: right;\n",
       "    }\n",
       "</style>\n",
       "<table border=\"1\" class=\"dataframe\">\n",
       "  <thead>\n",
       "    <tr style=\"text-align: right;\">\n",
       "      <th></th>\n",
       "      <th>age</th>\n",
       "      <th>scholarship</th>\n",
       "      <th>hipertension</th>\n",
       "      <th>diabetes</th>\n",
       "      <th>alcoholism</th>\n",
       "      <th>handcap</th>\n",
       "      <th>sms_received</th>\n",
       "      <th>diff</th>\n",
       "    </tr>\n",
       "  </thead>\n",
       "  <tbody>\n",
       "    <tr>\n",
       "      <th>count</th>\n",
       "      <td>18390.000000</td>\n",
       "      <td>18390.000000</td>\n",
       "      <td>18390.000000</td>\n",
       "      <td>18390.000000</td>\n",
       "      <td>18390.000000</td>\n",
       "      <td>18390.000000</td>\n",
       "      <td>18390.000000</td>\n",
       "      <td>18390</td>\n",
       "    </tr>\n",
       "    <tr>\n",
       "      <th>mean</th>\n",
       "      <td>35.705111</td>\n",
       "      <td>0.116531</td>\n",
       "      <td>0.175367</td>\n",
       "      <td>0.067265</td>\n",
       "      <td>0.030506</td>\n",
       "      <td>0.017618</td>\n",
       "      <td>0.509353</td>\n",
       "      <td>16 days 15:53:39.490048941</td>\n",
       "    </tr>\n",
       "    <tr>\n",
       "      <th>std</th>\n",
       "      <td>21.431618</td>\n",
       "      <td>0.320869</td>\n",
       "      <td>0.380291</td>\n",
       "      <td>0.250487</td>\n",
       "      <td>0.171979</td>\n",
       "      <td>0.145685</td>\n",
       "      <td>0.499926</td>\n",
       "      <td>16 days 16:52:23.997498858</td>\n",
       "    </tr>\n",
       "    <tr>\n",
       "      <th>min</th>\n",
       "      <td>1.000000</td>\n",
       "      <td>0.000000</td>\n",
       "      <td>0.000000</td>\n",
       "      <td>0.000000</td>\n",
       "      <td>0.000000</td>\n",
       "      <td>0.000000</td>\n",
       "      <td>0.000000</td>\n",
       "      <td>0 days 03:19:13</td>\n",
       "    </tr>\n",
       "    <tr>\n",
       "      <th>25%</th>\n",
       "      <td>18.000000</td>\n",
       "      <td>0.000000</td>\n",
       "      <td>0.000000</td>\n",
       "      <td>0.000000</td>\n",
       "      <td>0.000000</td>\n",
       "      <td>0.000000</td>\n",
       "      <td>0.000000</td>\n",
       "      <td>4 days 12:46:44.500000</td>\n",
       "    </tr>\n",
       "    <tr>\n",
       "      <th>50%</th>\n",
       "      <td>34.000000</td>\n",
       "      <td>0.000000</td>\n",
       "      <td>0.000000</td>\n",
       "      <td>0.000000</td>\n",
       "      <td>0.000000</td>\n",
       "      <td>0.000000</td>\n",
       "      <td>1.000000</td>\n",
       "      <td>12 days 10:58:27</td>\n",
       "    </tr>\n",
       "    <tr>\n",
       "      <th>75%</th>\n",
       "      <td>52.000000</td>\n",
       "      <td>0.000000</td>\n",
       "      <td>0.000000</td>\n",
       "      <td>0.000000</td>\n",
       "      <td>0.000000</td>\n",
       "      <td>0.000000</td>\n",
       "      <td>1.000000</td>\n",
       "      <td>24 days 14:31:51.250000</td>\n",
       "    </tr>\n",
       "    <tr>\n",
       "      <th>max</th>\n",
       "      <td>98.000000</td>\n",
       "      <td>1.000000</td>\n",
       "      <td>1.000000</td>\n",
       "      <td>1.000000</td>\n",
       "      <td>1.000000</td>\n",
       "      <td>4.000000</td>\n",
       "      <td>1.000000</td>\n",
       "      <td>178 days 13:19:01</td>\n",
       "    </tr>\n",
       "  </tbody>\n",
       "</table>\n",
       "</div>"
      ],
      "text/plain": [
       "                age   scholarship  hipertension      diabetes    alcoholism  \\\n",
       "count  18390.000000  18390.000000  18390.000000  18390.000000  18390.000000   \n",
       "mean      35.705111      0.116531      0.175367      0.067265      0.030506   \n",
       "std       21.431618      0.320869      0.380291      0.250487      0.171979   \n",
       "min        1.000000      0.000000      0.000000      0.000000      0.000000   \n",
       "25%       18.000000      0.000000      0.000000      0.000000      0.000000   \n",
       "50%       34.000000      0.000000      0.000000      0.000000      0.000000   \n",
       "75%       52.000000      0.000000      0.000000      0.000000      0.000000   \n",
       "max       98.000000      1.000000      1.000000      1.000000      1.000000   \n",
       "\n",
       "            handcap  sms_received                        diff  \n",
       "count  18390.000000  18390.000000                       18390  \n",
       "mean       0.017618      0.509353  16 days 15:53:39.490048941  \n",
       "std        0.145685      0.499926  16 days 16:52:23.997498858  \n",
       "min        0.000000      0.000000             0 days 03:19:13  \n",
       "25%        0.000000      0.000000      4 days 12:46:44.500000  \n",
       "50%        0.000000      1.000000            12 days 10:58:27  \n",
       "75%        0.000000      1.000000     24 days 14:31:51.250000  \n",
       "max        4.000000      1.000000           178 days 13:19:01  "
      ]
     },
     "execution_count": 76,
     "metadata": {},
     "output_type": "execute_result"
    }
   ],
   "source": [
    "new_not_showed.describe()"
   ]
  },
  {
   "cell_type": "code",
   "execution_count": 77,
   "metadata": {
    "colab": {
     "base_uri": "https://localhost:8080/",
     "height": 284
    },
    "id": "fOD6ku737oUF",
    "outputId": "46494d8c-9e37-4db6-ab27-7eab90b79aff"
   },
   "outputs": [
    {
     "data": {
      "text/html": [
       "<div>\n",
       "<style scoped>\n",
       "    .dataframe tbody tr th:only-of-type {\n",
       "        vertical-align: middle;\n",
       "    }\n",
       "\n",
       "    .dataframe tbody tr th {\n",
       "        vertical-align: top;\n",
       "    }\n",
       "\n",
       "    .dataframe thead th {\n",
       "        text-align: right;\n",
       "    }\n",
       "</style>\n",
       "<table border=\"1\" class=\"dataframe\">\n",
       "  <thead>\n",
       "    <tr style=\"text-align: right;\">\n",
       "      <th></th>\n",
       "      <th>age</th>\n",
       "      <th>scholarship</th>\n",
       "      <th>hipertension</th>\n",
       "      <th>diabetes</th>\n",
       "      <th>alcoholism</th>\n",
       "      <th>handcap</th>\n",
       "      <th>sms_received</th>\n",
       "      <th>diff</th>\n",
       "    </tr>\n",
       "  </thead>\n",
       "  <tbody>\n",
       "    <tr>\n",
       "      <th>count</th>\n",
       "      <td>47105.000000</td>\n",
       "      <td>47105.000000</td>\n",
       "      <td>47105.000000</td>\n",
       "      <td>47105.000000</td>\n",
       "      <td>47105.000000</td>\n",
       "      <td>47105.000000</td>\n",
       "      <td>47105.000000</td>\n",
       "      <td>47105</td>\n",
       "    </tr>\n",
       "    <tr>\n",
       "      <th>mean</th>\n",
       "      <td>41.183441</td>\n",
       "      <td>0.086233</td>\n",
       "      <td>0.230167</td>\n",
       "      <td>0.080310</td>\n",
       "      <td>0.024010</td>\n",
       "      <td>0.020911</td>\n",
       "      <td>0.529965</td>\n",
       "      <td>14 days 10:16:19.604712880</td>\n",
       "    </tr>\n",
       "    <tr>\n",
       "      <th>std</th>\n",
       "      <td>22.410647</td>\n",
       "      <td>0.280711</td>\n",
       "      <td>0.420944</td>\n",
       "      <td>0.271775</td>\n",
       "      <td>0.153082</td>\n",
       "      <td>0.156005</td>\n",
       "      <td>0.499107</td>\n",
       "      <td>16 days 11:08:39.676727907</td>\n",
       "    </tr>\n",
       "    <tr>\n",
       "      <th>min</th>\n",
       "      <td>1.000000</td>\n",
       "      <td>0.000000</td>\n",
       "      <td>0.000000</td>\n",
       "      <td>0.000000</td>\n",
       "      <td>0.000000</td>\n",
       "      <td>0.000000</td>\n",
       "      <td>0.000000</td>\n",
       "      <td>0 days 03:16:20</td>\n",
       "    </tr>\n",
       "    <tr>\n",
       "      <th>25%</th>\n",
       "      <td>23.000000</td>\n",
       "      <td>0.000000</td>\n",
       "      <td>0.000000</td>\n",
       "      <td>0.000000</td>\n",
       "      <td>0.000000</td>\n",
       "      <td>0.000000</td>\n",
       "      <td>0.000000</td>\n",
       "      <td>3 days 10:47:17</td>\n",
       "    </tr>\n",
       "    <tr>\n",
       "      <th>50%</th>\n",
       "      <td>43.000000</td>\n",
       "      <td>0.000000</td>\n",
       "      <td>0.000000</td>\n",
       "      <td>0.000000</td>\n",
       "      <td>0.000000</td>\n",
       "      <td>0.000000</td>\n",
       "      <td>1.000000</td>\n",
       "      <td>7 days 14:47:26</td>\n",
       "    </tr>\n",
       "    <tr>\n",
       "      <th>75%</th>\n",
       "      <td>59.000000</td>\n",
       "      <td>0.000000</td>\n",
       "      <td>0.000000</td>\n",
       "      <td>0.000000</td>\n",
       "      <td>0.000000</td>\n",
       "      <td>0.000000</td>\n",
       "      <td>1.000000</td>\n",
       "      <td>20 days 14:34:03</td>\n",
       "    </tr>\n",
       "    <tr>\n",
       "      <th>max</th>\n",
       "      <td>98.000000</td>\n",
       "      <td>1.000000</td>\n",
       "      <td>1.000000</td>\n",
       "      <td>1.000000</td>\n",
       "      <td>1.000000</td>\n",
       "      <td>4.000000</td>\n",
       "      <td>1.000000</td>\n",
       "      <td>178 days 13:17:18</td>\n",
       "    </tr>\n",
       "  </tbody>\n",
       "</table>\n",
       "</div>"
      ],
      "text/plain": [
       "                age   scholarship  hipertension      diabetes    alcoholism  \\\n",
       "count  47105.000000  47105.000000  47105.000000  47105.000000  47105.000000   \n",
       "mean      41.183441      0.086233      0.230167      0.080310      0.024010   \n",
       "std       22.410647      0.280711      0.420944      0.271775      0.153082   \n",
       "min        1.000000      0.000000      0.000000      0.000000      0.000000   \n",
       "25%       23.000000      0.000000      0.000000      0.000000      0.000000   \n",
       "50%       43.000000      0.000000      0.000000      0.000000      0.000000   \n",
       "75%       59.000000      0.000000      0.000000      0.000000      0.000000   \n",
       "max       98.000000      1.000000      1.000000      1.000000      1.000000   \n",
       "\n",
       "            handcap  sms_received                        diff  \n",
       "count  47105.000000  47105.000000                       47105  \n",
       "mean       0.020911      0.529965  14 days 10:16:19.604712880  \n",
       "std        0.156005      0.499107  16 days 11:08:39.676727907  \n",
       "min        0.000000      0.000000             0 days 03:16:20  \n",
       "25%        0.000000      0.000000             3 days 10:47:17  \n",
       "50%        0.000000      1.000000             7 days 14:47:26  \n",
       "75%        0.000000      1.000000            20 days 14:34:03  \n",
       "max        4.000000      1.000000           178 days 13:17:18  "
      ]
     },
     "execution_count": 77,
     "metadata": {},
     "output_type": "execute_result"
    }
   ],
   "source": [
    "new_showed.describe()"
   ]
  },
  {
   "cell_type": "markdown",
   "metadata": {
    "id": "4XcEJs2SN_BV"
   },
   "source": [
    "**Quick Viewing to histograms and relationships among numerical variables of each of the *(new_showed)* and the *(new_not_showed)* datasets** "
   ]
  },
  {
   "cell_type": "code",
   "execution_count": 78,
   "metadata": {
    "colab": {
     "base_uri": "https://localhost:8080/",
     "height": 499
    },
    "id": "7RiBgp2G2LG0",
    "outputId": "552830ba-9351-4357-9b5a-bb4659986d69"
   },
   "outputs": [
    {
     "data": {
      "image/png": "[encoded data removed]",
      "text/plain": [
       "<Figure size 720x576 with 9 Axes>"
      ]
     },
     "metadata": {
      "needs_background": "light"
     },
     "output_type": "display_data"
    }
   ],
   "source": [
    "new_not_showed.hist(figsize=(10,8));"
   ]
  },
  {
   "cell_type": "code",
   "execution_count": 79,
   "metadata": {
    "colab": {
     "base_uri": "https://localhost:8080/",
     "height": 499
    },
    "id": "-HGJJIXC370e",
    "outputId": "8433e126-db73-4a0f-9674-b66056a022b8"
   },
   "outputs": [
    {
     "data": {
      "image/png": "[encoded data removed]",
      "text/plain": [
       "<Figure size 720x576 with 9 Axes>"
      ]
     },
     "metadata": {
      "needs_background": "light"
     },
     "output_type": "display_data"
    }
   ],
   "source": [
    "new_showed.hist(figsize=(10,8));"
   ]
  },
  {
   "cell_type": "markdown",
   "metadata": {
    "id": "ZMOWKeW_C7be"
   },
   "source": [
    "> *Age Average distribution in showing up patients dataset seems to be higher..! -Concluded from both describtive summary and the histogram-*\n",
    "\n",
    "> *For now, Other numerical attributes don't seem to be showing that huge difference between the 2 datasets,* **but let's have a closer look at some of them:**"
   ]
  },
  {
   "cell_type": "markdown",
   "metadata": {
    "id": "Tzl_SatovuJX"
   },
   "source": [
    "1.  **Viewing a subplot histogram of Age attribute in both dataframes:**\n",
    "\n",
    "\n",
    "\n"
   ]
  },
  {
   "cell_type": "code",
   "execution_count": 80,
   "metadata": {
    "colab": {
     "base_uri": "https://localhost:8080/",
     "height": 404
    },
    "id": "2QD7b176FMK6",
    "outputId": "43b2911e-e252-4474-a562-cdcbbd2bdbf4"
   },
   "outputs": [
    {
     "data": {
      "image/png": "[encoded data removed]",
      "text/plain": [
       "<Figure size 576x432 with 1 Axes>"
      ]
     },
     "metadata": {
      "needs_background": "light"
     },
     "output_type": "display_data"
    }
   ],
   "source": [
    "fig, ax = plt.subplots(figsize=(8,6))\n",
    "ax.hist(new_showed['age'], alpha=0.5, label=\"showed up\")\n",
    "ax.hist(new_not_showed['age'], alpha=0.5, label=\"didn't show up\")\n",
    "ax.set_title(\"Distributions of showing and non-showing patients' ages\")\n",
    "ax.set_xlabel('Age')\n",
    "ax.set_ylabel('Counts')\n",
    "plt.legend(loc='upper right')\n",
    "plt.show()"
   ]
  },
  {
   "cell_type": "markdown",
   "metadata": {
    "id": "pPPe5TPeQGQm"
   },
   "source": [
    ">*Age attribute does show some difference in the ranges and distributions, but still not that huge one. But* **generally, on average, showed up patients tend to have higher ages than those who didn't**"
   ]
  },
  {
   "cell_type": "markdown",
   "metadata": {
    "id": "od6do_33RXZ_"
   },
   "source": [
    "**Viewing a subplot of distribution of hipertension attribute in both datasets** "
   ]
  },
  {
   "cell_type": "code",
   "execution_count": 81,
   "metadata": {
    "colab": {
     "base_uri": "https://localhost:8080/",
     "height": 404
    },
    "id": "EsJbqdaRPDFf",
    "outputId": "9ca31655-5a92-49c0-df8a-5f99de09b224"
   },
   "outputs": [
    {
     "data": {
      "image/png": "[encoded data removed]",
      "text/plain": [
       "<Figure size 576x432 with 1 Axes>"
      ]
     },
     "metadata": {
      "needs_background": "light"
     },
     "output_type": "display_data"
    }
   ],
   "source": [
    "fig, ax = plt.subplots(figsize=(8,6))\n",
    "ax.hist(new_showed['hipertension'], alpha=0.5, label=\"showed up\")\n",
    "ax.hist(new_not_showed['hipertension'], alpha=0.5, label=\"didn't show up\")\n",
    "ax.set_title(\"Distributions of showing and non-showing patients' hipertension\")\n",
    "ax.set_xlabel('hipertension')\n",
    "ax.set_ylabel('Counts')\n",
    "plt.legend(loc='upper right')\n",
    "plt.show()"
   ]
  },
  {
   "cell_type": "markdown",
   "metadata": {
    "id": "uMjbltU8T-Oy"
   },
   "source": [
    ">*Doesn't really show difference in averages.* \n",
    "\n",
    "> But basically, mainly,on exploring any of the (**scholarship,\thipertension,\tdiabetes,\talcoholism,\thandcap\tor sms_received**) attributes, since we are dealing with **\"categorical data\"**, then it's going to make more sense and be a little more accurate if we look at the ***Median value***..\n",
    " \n",
    ">*Till now, in this case, we are still having all median values of all  our categorical numerical attributes the same among the 2 datasets.*\n"
   ]
  },
  {
   "cell_type": "markdown",
   "metadata": {
    "id": "cB8ZgGAMhp6j"
   },
   "source": [
    "2. **Viewing a bar chart, median and mean value of each \"sms_recieved\" input within both datadrames**"
   ]
  },
  {
   "cell_type": "code",
   "execution_count": 92,
   "metadata": {},
   "outputs": [
    {
     "name": "stdout",
     "output_type": "stream",
     "text": [
      "Non-showing median:  1.0 \tShowing median:  1.0\n",
      "Non-showing mean: 0.5094 \t Showing mean: 0.5300\n"
     ]
    },
    {
     "data": {
      "image/png": "[encoded data removed]",
      "text/plain": [
       "<Figure size 1440x504 with 2 Axes>"
      ]
     },
     "metadata": {
      "needs_background": "light"
     },
     "output_type": "display_data"
    }
   ],
   "source": [
    "plt.figure(figsize = [20, 7]) \n",
    "\n",
    "plt.subplot(1, 2, 1)\n",
    "new_not_showed['sms_received'].value_counts().plot(kind='bar')\n",
    "plt.title(\"Number of  non-showing patients receiving SMS\")\n",
    "plt.xlabel(\"Received?\")\n",
    "plt.ylabel(\"Number of non-showing patients\");\n",
    "i= new_not_showed['sms_received'].value_counts().index\n",
    "\n",
    "plt.subplot(1, 2, 2)\n",
    "new_showed['sms_received'].value_counts()[i].plot(kind='bar');\n",
    "plt.title(\"Number of  showing patients receiving SMS\")\n",
    "plt.xlabel(\"Received?\")\n",
    "plt.ylabel(\"Number of showing patients\");\n",
    "\n",
    "print(\"Non-showing median: \",new_not_showed['sms_received'].quantile(0.5), \"\\tShowing median: \",new_showed['sms_received'].quantile(0.5))\n",
    "print(\"Non-showing mean: {:0.4f}\".format(new_not_showed['sms_received'].mean()), \"\\t\",\"Showing mean: {:0.4f}\".format(new_showed['sms_received'].mean()))\n"
   ]
  },
  {
   "cell_type": "markdown",
   "metadata": {
    "id": "YSS4MtTqTSoT"
   },
   "source": [
    ">*Median values and Averages are approximately the same; but, roughly speaking, we can still say that people receiving SMS's in the **showing dataset** are more than those who don't, And with a slightly higher average mean value than those who received sms's in the other dataset.*\n",
    "\n",
    "\n"
   ]
  },
  {
   "cell_type": "markdown",
   "metadata": {
    "id": "ZzVRZh7EEH1_"
   },
   "source": [
    "**Viewing relationships among numerical variables**"
   ]
  },
  {
   "cell_type": "code",
   "execution_count": null,
   "metadata": {
    "colab": {
     "base_uri": "https://localhost:8080/",
     "height": 614
    },
    "id": "B7Xo0ZmR3u8o",
    "outputId": "fbed1b97-08cc-4fef-a071-f2c14b175d26"
   },
   "outputs": [
    {
     "data": {
      "image/png": "[encoded data removed]",
      "text/plain": [
       "<Figure size 720x720 with 49 Axes>"
      ]
     },
     "metadata": {
      "needs_background": "light",
      "tags": []
     },
     "output_type": "display_data"
    }
   ],
   "source": [
    "pd.plotting.scatter_matrix(new_not_showed, figsize=(10,10));"
   ]
  },
  {
   "cell_type": "code",
   "execution_count": null,
   "metadata": {
    "colab": {
     "base_uri": "https://localhost:8080/"
    },
    "id": "iGbmAUSDymZb",
    "outputId": "a607bf95-d51d-4313-e776-6fd0f36ca0f7"
   },
   "outputs": [
    {
     "data": {
      "image/png": "[encoded data removed]",
      "text/plain": [
       "<Figure size 720x720 with 49 Axes>"
      ]
     },
     "metadata": {
      "needs_background": "light",
      "tags": []
     },
     "output_type": "display_data"
    }
   ],
   "source": [
    "pd.plotting.scatter_matrix(new_showed, figsize=(10,10));"
   ]
  },
  {
   "cell_type": "markdown",
   "metadata": {
    "id": "WKUo7tpsyKfh"
   },
   "source": [
    "\n",
    "> *Doesn't seem that there are correlations among the data's numerical variables*\n",
    "\n",
    "\n"
   ]
  },
  {
   "cell_type": "markdown",
   "metadata": {
    "id": "7ra2tEnWXqed"
   },
   "source": [
    "***Having a look at non-numerical attributes***"
   ]
  },
  {
   "cell_type": "markdown",
   "metadata": {
    "id": "QtVjsE7UXcfA"
   },
   "source": [
    "* **gender attribute**"
   ]
  },
  {
   "cell_type": "code",
   "execution_count": null,
   "metadata": {
    "colab": {
     "base_uri": "https://localhost:8080/"
    },
    "id": "shjF9QYhCFuX",
    "outputId": "201d36b8-5261-471f-f79e-5ec7a4755e00"
   },
   "outputs": [
    {
     "data": {
      "image/png": "[encoded data removed]",
      "text/plain": [
       "<Figure size 432x288 with 1 Axes>"
      ]
     },
     "metadata": {
      "needs_background": "light",
      "tags": []
     },
     "output_type": "display_data"
    }
   ],
   "source": [
    "new_not_showed['gender'].value_counts().plot(kind='bar')\n",
    "plt.title(\"Number of males and females in non-showing dataset\")\n",
    "plt.xlabel(\"Gender\")\n",
    "plt.ylabel(\"Counts\");"
   ]
  },
  {
   "cell_type": "code",
   "execution_count": null,
   "metadata": {
    "colab": {
     "base_uri": "https://localhost:8080/"
    },
    "collapsed": true,
    "id": "nqHYuDa1a92t",
    "outputId": "e982a64b-90c2-49be-98e0-9640fbeca967"
   },
   "outputs": [
    {
     "data": {
      "image/png": "[encoded data removed]",
      "text/plain": [
       "<Figure size 432x288 with 1 Axes>"
      ]
     },
     "metadata": {
      "needs_background": "light",
      "tags": []
     },
     "output_type": "display_data"
    }
   ],
   "source": [
    "new_showed.gender.value_counts().plot(kind=\"bar\")\n",
    "plt.title(\"Number of males and females in showing dataset\")\n",
    "plt.xlabel(\"Gender\")\n",
    "plt.ylabel(\"Counts\");"
   ]
  },
  {
   "cell_type": "markdown",
   "metadata": {
    "id": "wrR1RiXta8WP"
   },
   "source": [
    "> **Trying to convert gender attribute from object to be numerical categorical and view its median and mean values in each dataset**."
   ]
  },
  {
   "cell_type": "code",
   "execution_count": null,
   "metadata": {
    "id": "EgGLNfxrY7u0"
   },
   "outputs": [],
   "source": [
    "encode1= new_not_showed['gender'].replace(\"M\", 0).replace(\"F\",1)\n",
    "encode2= new_showed['gender'].replace(\"M\", 0).replace(\"F\",1)"
   ]
  },
  {
   "cell_type": "code",
   "execution_count": null,
   "metadata": {
    "colab": {
     "base_uri": "https://localhost:8080/"
    },
    "id": "89IUS7nEZ7NV",
    "outputId": "fc539602-fa6f-4b11-eff8-daa58aed93d8"
   },
   "outputs": [
    {
     "name": "stdout",
     "output_type": "stream",
     "text": [
      "Median Values for 'gender' attribute in each dataset:\n",
      "\n",
      " non-showing:  1.0 \t showing:  1.0\n"
     ]
    }
   ],
   "source": [
    "print(\"Median Values for 'gender' attribute in each dataset:\\n\\n\",\"non-showing: \" ,encode1.quantile(q=0.5),\"\\t\", \"showing: \" ,encode2.quantile(q=0.5))"
   ]
  },
  {
   "cell_type": "code",
   "execution_count": null,
   "metadata": {
    "colab": {
     "base_uri": "https://localhost:8080/"
    },
    "id": "ikBpLhLubqOU",
    "outputId": "28328f0c-12cb-45dd-b4ea-bba03910115a"
   },
   "outputs": [
    {
     "name": "stdout",
     "output_type": "stream",
     "text": [
      "Mean Values for 'gender' attribute in each dataset:\n",
      "\n",
      " non-showing:  0.6725938009787928 \t showing:  0.674556841099671\n"
     ]
    }
   ],
   "source": [
    "print(\"Mean Values for 'gender' attribute in each dataset:\\n\\n\",\"non-showing: \" ,encode1.mean(),\"\\t\", \"showing: \" ,encode2.mean())"
   ]
  },
  {
   "cell_type": "markdown",
   "metadata": {
    "id": "BzG6fZwFVwiA"
   },
   "source": [
    " >As shown, there's almost no difference between mean values, or median values of ['gender'] in both datasets.\n",
    "\n",
    " >*Females are more than males in both datasets..*\n"
   ]
  },
  {
   "cell_type": "code",
   "execution_count": null,
   "metadata": {
    "colab": {
     "base_uri": "https://localhost:8080/"
    },
    "id": "F8nq26VV10iL",
    "outputId": "a27f9e66-c42b-4cf8-f8bc-a0ef9c8b3dc0"
   },
   "outputs": [
    {
     "data": {
      "text/plain": [
       "Index(['patient_id', 'gender', 'appointment_day', 'age', 'neighbourhood',\n",
       "       'scholarship', 'hipertension', 'diabetes', 'alcoholism', 'handcap',\n",
       "       'sms_received', 'diff'],\n",
       "      dtype='object')"
      ]
     },
     "execution_count": 191,
     "metadata": {
      "tags": []
     },
     "output_type": "execute_result"
    }
   ],
   "source": [
    "new_not_showed.columns"
   ]
  },
  {
   "cell_type": "markdown",
   "metadata": {
    "id": "WkLesBVofeAt"
   },
   "source": [
    "* **Neighbourhood attribute**"
   ]
  },
  {
   "cell_type": "code",
   "execution_count": 115,
   "metadata": {
    "colab": {
     "base_uri": "https://localhost:8080/"
    },
    "id": "ledlnQhpgD1G",
    "outputId": "79f529cf-aff8-4818-f2de-6a5225ebb5e2"
   },
   "outputs": [
    {
     "name": "stdout",
     "output_type": "stream",
     "text": [
      "count              47105\n",
      "unique                79\n",
      "top       JARDIM CAMBURI\n",
      "freq                3475\n",
      "Name: neighbourhood, dtype: object \n",
      "\n",
      " count              18390\n",
      "unique                80\n",
      "top       JARDIM CAMBURI\n",
      "freq                1206\n",
      "Name: neighbourhood, dtype: object\n"
     ]
    }
   ],
   "source": [
    "print(new_showed['neighbourhood'].describe(),'\\n\\n',new_not_showed['neighbourhood'].describe())"
   ]
  },
  {
   "cell_type": "code",
   "execution_count": 96,
   "metadata": {},
   "outputs": [
    {
     "data": {
      "text/plain": [
       "{'ILHAS OCEÂNICAS DE TRINDADE'}"
      ]
     },
     "execution_count": 96,
     "metadata": {},
     "output_type": "execute_result"
    }
   ],
   "source": [
    "set(new_not_showed['neighbourhood'].unique())-set(new_showed['neighbourhood'].unique())"
   ]
  },
  {
   "cell_type": "code",
   "execution_count": 107,
   "metadata": {},
   "outputs": [
    {
     "data": {
      "text/plain": [
       "2"
      ]
     },
     "execution_count": 107,
     "metadata": {},
     "output_type": "execute_result"
    }
   ],
   "source": [
    "new_not_showed['neighbourhood'].value_counts()['ILHAS OCEÂNICAS DE TRINDADE']"
   ]
  },
  {
   "cell_type": "markdown",
   "metadata": {
    "id": "bwzCl-L-tTjB"
   },
   "source": [
    ">The Same location is the one that is most repeated in both dataframes (JARDIM CAMBURI). However, we can see that **there is a location in the non-showing dataset that's not present in the showing one**."
   ]
  },
  {
   "cell_type": "markdown",
   "metadata": {
    "id": "eFi88C6q4huh"
   },
   "source": [
    "**Viewing bar plots:**"
   ]
  },
  {
   "cell_type": "code",
   "execution_count": 113,
   "metadata": {
    "colab": {
     "base_uri": "https://localhost:8080/"
    },
    "id": "Cz7IdnfR2Ekr",
    "outputId": "ee2f7fa2-3f41-4c3d-957a-c4004715734d"
   },
   "outputs": [
    {
     "data": {
      "image/png": "[encoded data removed]",
      "text/plain": [
       "<Figure size 1440x504 with 1 Axes>"
      ]
     },
     "metadata": {
      "needs_background": "light"
     },
     "output_type": "display_data"
    }
   ],
   "source": [
    "fig = plt.figure(figsize=(20,7))\n",
    "# i= new_showed['neighbourhood'].value_counts().index\n",
    "new_showed['neighbourhood'].value_counts().plot(kind='bar', alpha=0.5, color= 'red', label= 'showing')\n",
    "new_not_showed['neighbourhood'].value_counts().plot(kind='bar', alpha=0.5, color= 'blue', label= 'non-showing')\n",
    "plt.title(\"Number of showing & non-showing patients appearing with different neighbourhoods\")\n",
    "plt.xlabel(\"Neighbourhoods\")\n",
    "plt.ylabel(\"Patients Counts\")\n",
    "plt.legend();"
   ]
  },
  {
   "cell_type": "markdown",
   "metadata": {
    "id": "CoTBsu4p-hKM"
   },
   "source": [
    "> *Although number of patients appear to be showing is higher in almost all the cities/locations ,there are some locations other than the top-frequenced location(which is common in both dfs) that appear with unneglectable numbers of non-showing patients, also, there is one location that's present in the non-showing dataset and not in the other, but we only had 2 patients from that location.*\n",
    "\n",
    ">Top 3 locations frequencing here are **(( JARDIM CAMBURI , MARIA ORTIZ , ITARARE))**."
   ]
  },
  {
   "cell_type": "code",
   "execution_count": 102,
   "metadata": {
    "colab": {
     "base_uri": "https://localhost:8080/"
    },
    "id": "l_RxCo-RkF7t",
    "outputId": "348ae1ac-183e-430a-99bc-374ef8f6965b"
   },
   "outputs": [
    {
     "data": {
      "image/png": "[encoded data removed]",
      "text/plain": [
       "<Figure size 1440x504 with 1 Axes>"
      ]
     },
     "metadata": {
      "needs_background": "light"
     },
     "output_type": "display_data"
    }
   ],
   "source": [
    "# fig = plt.figure(figsize=(20,7))\n",
    "# new_not_showed['neighbourhood'].value_counts().plot(kind='bar', alpha=0.5, color= 'blue', label= 'non-showing')\n",
    "# plt.title(\"Number of non-showing patients appearing with different neighbourhoods\")\n",
    "# plt.xlabel(\"Neighbourhoods\")\n",
    "# plt.ylabel(\"Patients Counts\");"
   ]
  },
  {
   "cell_type": "markdown",
   "metadata": {
    "id": "G5_GU8Y3gxU0"
   },
   "source": [
    "**Looking at locations existing in a particular dataset and not in the other**"
   ]
  },
  {
   "cell_type": "code",
   "execution_count": null,
   "metadata": {
    "id": "il5FEry8ege9"
   },
   "outputs": [],
   "source": [
    "arr=new_not_showed['neighbourhood'].value_counts().index\n"
   ]
  },
  {
   "cell_type": "code",
   "execution_count": null,
   "metadata": {
    "id": "S3LVHQ7l045C"
   },
   "outputs": [],
   "source": [
    "arr2= new_showed['neighbourhood'].value_counts().index"
   ]
  },
  {
   "cell_type": "code",
   "execution_count": null,
   "metadata": {
    "colab": {
     "base_uri": "https://localhost:8080/"
    },
    "id": "D9jKqHr4jNBD",
    "outputId": "d97183a2-42cf-4d24-ada7-41d519e5796e"
   },
   "outputs": [
    {
     "data": {
      "text/plain": [
       "array([False, False, False, False, False, False, False, False, False,\n",
       "       False, False, False, False, False, False, False, False, False,\n",
       "       False, False, False, False, False, False, False, False, False,\n",
       "       False, False, False, False, False, False, False, False, False,\n",
       "       False, False, False, False, False, False, False, False, False,\n",
       "       False, False, False, False, False, False, False, False, False,\n",
       "       False, False, False, False, False, False, False, False, False,\n",
       "       False, False, False, False, False, False, False, False, False,\n",
       "       False, False, False, False, False, False,  True, False])"
      ]
     },
     "execution_count": 198,
     "metadata": {
      "tags": []
     },
     "output_type": "execute_result"
    }
   ],
   "source": [
    "not_there=~(arr.isin(arr2))\n",
    "not_there"
   ]
  },
  {
   "cell_type": "code",
   "execution_count": null,
   "metadata": {
    "colab": {
     "base_uri": "https://localhost:8080/"
    },
    "id": "xGXaBWxOfMRp",
    "outputId": "fbbef6b5-f9ff-4fd9-a777-56beaaaad4be"
   },
   "outputs": [
    {
     "data": {
      "text/html": [
       "<div>\n",
       "<style scoped>\n",
       "    .dataframe tbody tr th:only-of-type {\n",
       "        vertical-align: middle;\n",
       "    }\n",
       "\n",
       "    .dataframe tbody tr th {\n",
       "        vertical-align: top;\n",
       "    }\n",
       "\n",
       "    .dataframe thead th {\n",
       "        text-align: right;\n",
       "    }\n",
       "</style>\n",
       "<table border=\"1\" class=\"dataframe\">\n",
       "  <thead>\n",
       "    <tr style=\"text-align: right;\">\n",
       "      <th></th>\n",
       "      <th>patient_id</th>\n",
       "      <th>gender</th>\n",
       "      <th>appointment_day</th>\n",
       "      <th>age</th>\n",
       "      <th>neighbourhood</th>\n",
       "      <th>scholarship</th>\n",
       "      <th>hipertension</th>\n",
       "      <th>diabetes</th>\n",
       "      <th>alcoholism</th>\n",
       "      <th>handcap</th>\n",
       "      <th>sms_received</th>\n",
       "      <th>diff</th>\n",
       "    </tr>\n",
       "  </thead>\n",
       "  <tbody>\n",
       "  </tbody>\n",
       "</table>\n",
       "</div>"
      ],
      "text/plain": [
       "Empty DataFrame\n",
       "Columns: [patient_id, gender, appointment_day, age, neighbourhood, scholarship, hipertension, diabetes, alcoholism, handcap, sms_received, diff]\n",
       "Index: []"
      ]
     },
     "execution_count": 199,
     "metadata": {
      "tags": []
     },
     "output_type": "execute_result"
    }
   ],
   "source": [
    "new_showed[~new_showed['neighbourhood'].isin(arr)]"
   ]
  },
  {
   "cell_type": "code",
   "execution_count": null,
   "metadata": {
    "colab": {
     "base_uri": "https://localhost:8080/"
    },
    "id": "_UhLu67KuAnF",
    "outputId": "42c164b1-9556-4db3-80a6-ab3ee2cec658"
   },
   "outputs": [
    {
     "data": {
      "text/html": [
       "<div>\n",
       "<style scoped>\n",
       "    .dataframe tbody tr th:only-of-type {\n",
       "        vertical-align: middle;\n",
       "    }\n",
       "\n",
       "    .dataframe tbody tr th {\n",
       "        vertical-align: top;\n",
       "    }\n",
       "\n",
       "    .dataframe thead th {\n",
       "        text-align: right;\n",
       "    }\n",
       "</style>\n",
       "<table border=\"1\" class=\"dataframe\">\n",
       "  <thead>\n",
       "    <tr style=\"text-align: right;\">\n",
       "      <th></th>\n",
       "      <th>patient_id</th>\n",
       "      <th>gender</th>\n",
       "      <th>appointment_day</th>\n",
       "      <th>age</th>\n",
       "      <th>neighbourhood</th>\n",
       "      <th>scholarship</th>\n",
       "      <th>hipertension</th>\n",
       "      <th>diabetes</th>\n",
       "      <th>alcoholism</th>\n",
       "      <th>handcap</th>\n",
       "      <th>sms_received</th>\n",
       "      <th>diff</th>\n",
       "    </tr>\n",
       "  </thead>\n",
       "  <tbody>\n",
       "    <tr>\n",
       "      <th>48754</th>\n",
       "      <td>534986855114.0</td>\n",
       "      <td>F</td>\n",
       "      <td>2016-05-13 00:00:00+00:00</td>\n",
       "      <td>51</td>\n",
       "      <td>ILHAS OCEÂNICAS DE TRINDADE</td>\n",
       "      <td>0</td>\n",
       "      <td>0</td>\n",
       "      <td>0</td>\n",
       "      <td>0</td>\n",
       "      <td>0</td>\n",
       "      <td>0</td>\n",
       "      <td>28 days 11:34:17</td>\n",
       "    </tr>\n",
       "    <tr>\n",
       "      <th>48765</th>\n",
       "      <td>7256429752481.0</td>\n",
       "      <td>F</td>\n",
       "      <td>2016-05-13 00:00:00+00:00</td>\n",
       "      <td>58</td>\n",
       "      <td>ILHAS OCEÂNICAS DE TRINDADE</td>\n",
       "      <td>0</td>\n",
       "      <td>0</td>\n",
       "      <td>0</td>\n",
       "      <td>0</td>\n",
       "      <td>0</td>\n",
       "      <td>0</td>\n",
       "      <td>28 days 11:33:47</td>\n",
       "    </tr>\n",
       "  </tbody>\n",
       "</table>\n",
       "</div>"
      ],
      "text/plain": [
       "            patient_id gender  ... sms_received             diff\n",
       "48754   534986855114.0      F  ...            0 28 days 11:34:17\n",
       "48765  7256429752481.0      F  ...            0 28 days 11:33:47\n",
       "\n",
       "[2 rows x 12 columns]"
      ]
     },
     "execution_count": 200,
     "metadata": {
      "tags": []
     },
     "output_type": "execute_result"
    }
   ],
   "source": [
    "new_not_showed[~new_not_showed['neighbourhood'].isin(arr2)]"
   ]
  },
  {
   "cell_type": "markdown",
   "metadata": {
    "id": "pvjJPzw-ftHa"
   },
   "source": [
    ">*There is only **1 location** that exists in the non-showing patients' dataset and not showing in the other, but it's only existing 2 times through the whole 18390 dataframe records..*\n",
    "\n"
   ]
  },
  {
   "cell_type": "markdown",
   "metadata": {
    "id": "Cl0By_B0owGL"
   },
   "source": [
    "* **Appointment ID attribute**"
   ]
  },
  {
   "cell_type": "code",
   "execution_count": null,
   "metadata": {
    "colab": {
     "base_uri": "https://localhost:8080/"
    },
    "id": "SId-5h-K2nZr",
    "outputId": "a1088da2-db58-4409-bab3-2614cefba0af"
   },
   "outputs": [
    {
     "data": {
      "text/plain": [
       "5         04/29/2016, 00:00:00\n",
       "9         04/29/2016, 00:00:00\n",
       "10        04/29/2016, 00:00:00\n",
       "12        04/29/2016, 00:00:00\n",
       "13        04/29/2016, 00:00:00\n",
       "                  ...         \n",
       "110522    06/07/2016, 00:00:00\n",
       "110523    06/07/2016, 00:00:00\n",
       "110524    06/07/2016, 00:00:00\n",
       "110525    06/07/2016, 00:00:00\n",
       "110526    06/07/2016, 00:00:00\n",
       "Name: appointment_day, Length: 47105, dtype: object"
      ]
     },
     "execution_count": 201,
     "metadata": {
      "tags": []
     },
     "output_type": "execute_result"
    }
   ],
   "source": [
    "new_not_showed['appointment_day'].apply(lambda x: x.strftime(\"%m/%d/%Y, %H:%M:%S\"))\n",
    "new_showed['appointment_day'].apply(lambda x: x.strftime(\"%m/%d/%Y, %H:%M:%S\"))"
   ]
  },
  {
   "cell_type": "code",
   "execution_count": null,
   "metadata": {
    "id": "jrSLhLHBovFT"
   },
   "outputs": [],
   "source": [
    "j=new_not_showed['appointment_day'].value_counts().index \n",
    "k=new_showed['appointment_day'].value_counts().index"
   ]
  },
  {
   "cell_type": "code",
   "execution_count": null,
   "metadata": {
    "colab": {
     "base_uri": "https://localhost:8080/"
    },
    "id": "cB6moYydoulT",
    "outputId": "25c731d2-fae2-4744-8433-8ad41d11b773"
   },
   "outputs": [
    {
     "data": {
      "text/html": [
       "<div>\n",
       "<style scoped>\n",
       "    .dataframe tbody tr th:only-of-type {\n",
       "        vertical-align: middle;\n",
       "    }\n",
       "\n",
       "    .dataframe tbody tr th {\n",
       "        vertical-align: top;\n",
       "    }\n",
       "\n",
       "    .dataframe thead th {\n",
       "        text-align: right;\n",
       "    }\n",
       "</style>\n",
       "<table border=\"1\" class=\"dataframe\">\n",
       "  <thead>\n",
       "    <tr style=\"text-align: right;\">\n",
       "      <th></th>\n",
       "      <th>patient_id</th>\n",
       "      <th>gender</th>\n",
       "      <th>appointment_day</th>\n",
       "      <th>age</th>\n",
       "      <th>neighbourhood</th>\n",
       "      <th>scholarship</th>\n",
       "      <th>hipertension</th>\n",
       "      <th>diabetes</th>\n",
       "      <th>alcoholism</th>\n",
       "      <th>handcap</th>\n",
       "      <th>sms_received</th>\n",
       "      <th>diff</th>\n",
       "    </tr>\n",
       "  </thead>\n",
       "  <tbody>\n",
       "  </tbody>\n",
       "</table>\n",
       "</div>"
      ],
      "text/plain": [
       "Empty DataFrame\n",
       "Columns: [patient_id, gender, appointment_day, age, neighbourhood, scholarship, hipertension, diabetes, alcoholism, handcap, sms_received, diff]\n",
       "Index: []"
      ]
     },
     "execution_count": 203,
     "metadata": {
      "tags": []
     },
     "output_type": "execute_result"
    }
   ],
   "source": [
    "new_not_showed[~new_not_showed['appointment_day'].isin(k)]"
   ]
  },
  {
   "cell_type": "code",
   "execution_count": null,
   "metadata": {
    "colab": {
     "base_uri": "https://localhost:8080/"
    },
    "id": "VrXBSkpKou9s",
    "outputId": "7a9e7db1-2cf2-4514-f256-acf39d7c607a"
   },
   "outputs": [
    {
     "data": {
      "text/html": [
       "<div>\n",
       "<style scoped>\n",
       "    .dataframe tbody tr th:only-of-type {\n",
       "        vertical-align: middle;\n",
       "    }\n",
       "\n",
       "    .dataframe tbody tr th {\n",
       "        vertical-align: top;\n",
       "    }\n",
       "\n",
       "    .dataframe thead th {\n",
       "        text-align: right;\n",
       "    }\n",
       "</style>\n",
       "<table border=\"1\" class=\"dataframe\">\n",
       "  <thead>\n",
       "    <tr style=\"text-align: right;\">\n",
       "      <th></th>\n",
       "      <th>patient_id</th>\n",
       "      <th>gender</th>\n",
       "      <th>appointment_day</th>\n",
       "      <th>age</th>\n",
       "      <th>neighbourhood</th>\n",
       "      <th>scholarship</th>\n",
       "      <th>hipertension</th>\n",
       "      <th>diabetes</th>\n",
       "      <th>alcoholism</th>\n",
       "      <th>handcap</th>\n",
       "      <th>sms_received</th>\n",
       "      <th>diff</th>\n",
       "    </tr>\n",
       "  </thead>\n",
       "  <tbody>\n",
       "  </tbody>\n",
       "</table>\n",
       "</div>"
      ],
      "text/plain": [
       "Empty DataFrame\n",
       "Columns: [patient_id, gender, appointment_day, age, neighbourhood, scholarship, hipertension, diabetes, alcoholism, handcap, sms_received, diff]\n",
       "Index: []"
      ]
     },
     "execution_count": 204,
     "metadata": {
      "tags": []
     },
     "output_type": "execute_result"
    }
   ],
   "source": [
    "new_showed[~new_showed['appointment_day'].isin(j)]"
   ]
  },
  {
   "cell_type": "markdown",
   "metadata": {
    "id": "aO0aGC9p3AjD"
   },
   "source": [
    "**Viewing a legend plot**"
   ]
  },
  {
   "cell_type": "code",
   "execution_count": null,
   "metadata": {
    "colab": {
     "base_uri": "https://localhost:8080/"
    },
    "id": "Aq4cINBOovM8",
    "outputId": "f366cc09-caaa-494e-dbfd-a67a4752d984"
   },
   "outputs": [
    {
     "data": {
      "image/png": "[encoded data removed]",
      "text/plain": [
       "<Figure size 1440x504 with 1 Axes>"
      ]
     },
     "metadata": {
      "needs_background": "light",
      "tags": []
     },
     "output_type": "display_data"
    }
   ],
   "source": [
    "fig = plt.figure(figsize=(20,7))\n",
    "\n",
    "new_not_showed['appointment_day'].value_counts()[j].plot(kind='bar', alpha=0.5, color= 'blue', label= 'non-showing')\n",
    "new_showed['appointment_day'].value_counts()[j].plot(kind='bar', alpha=0.5, color= 'red', label= 'showing')\n",
    "plt.title(\"Number of showing & non-showing patients appearing with different appointment dates\")\n",
    "plt.xlabel(\"Appointment Date\")\n",
    "plt.ylabel(\"Patients Counts\")\n",
    "plt.legend();"
   ]
  },
  {
   "cell_type": "markdown",
   "metadata": {
    "id": "X0Xignxx3Fov"
   },
   "source": [
    "**Viewing a singular plot for appointment_day attribute in non-showing dataset:**"
   ]
  },
  {
   "cell_type": "code",
   "execution_count": null,
   "metadata": {
    "colab": {
     "base_uri": "https://localhost:8080/"
    },
    "id": "OyLVwGCywz13",
    "outputId": "dccd4425-42fc-4446-e0ad-e20ac6bae348"
   },
   "outputs": [
    {
     "data": {
      "image/png": "[encoded data removed]",
      "text/plain": [
       "<Figure size 1440x504 with 1 Axes>"
      ]
     },
     "metadata": {
      "needs_background": "light",
      "tags": []
     },
     "output_type": "display_data"
    }
   ],
   "source": [
    "fig = plt.figure(figsize=(20,7))\n",
    "new_not_showed['appointment_day'].value_counts()[j].plot(kind='bar', alpha=0.5, color= 'blue', label= 'non-showing')\n",
    "plt.title(\"Number of non-showing patients appearing with different appointment dates\")\n",
    "plt.xlabel(\"Appointment Date\")\n",
    "plt.ylabel(\"Patients Counts\");"
   ]
  },
  {
   "cell_type": "markdown",
   "metadata": {
    "id": "3d-_gVE8BELi"
   },
   "source": [
    "> *There're no particular days that exist in one dataset and do not exist in the other, but there are some days that number of non-showing people appear to come higher*\n",
    "\n",
    ">*The top date of non-showing cases here is that of **((16-05-2016 00:00:00))**.*"
   ]
  },
  {
   "cell_type": "code",
   "execution_count": null,
   "metadata": {
    "colab": {
     "base_uri": "https://localhost:8080/"
    },
    "id": "fyAafOyL7qKu",
    "outputId": "1df4652c-3244-4381-b585-b3d33986e22a"
   },
   "outputs": [
    {
     "data": {
      "text/plain": [
       "0    18097\n",
       "1      266\n",
       "2       24\n",
       "3        2\n",
       "4        1\n",
       "Name: handcap, dtype: int64"
      ]
     },
     "execution_count": 207,
     "metadata": {
      "tags": []
     },
     "output_type": "execute_result"
    }
   ],
   "source": [
    "new_not_showed['handcap'].value_counts()"
   ]
  },
  {
   "cell_type": "markdown",
   "metadata": {
    "id": "5qx-WIHta92u"
   },
   "source": [
    "<a id='conclusions'></a>\n",
    "## Conclusions\n",
    "\n"
   ]
  },
  {
   "cell_type": "markdown",
   "metadata": {
    "id": "l5kWSTjxtQ4-"
   },
   "source": [
    "> ### Results Presentation"
   ]
  },
  {
   "cell_type": "markdown",
   "metadata": {
    "id": "613o7GCL4xQ-"
   },
   "source": [
    "As discussed within the exploration topic, I have concluded that the most effective attributes that actually can be having a sort of the impact on the absence are: **((\"Age\", \"SMS-recieved\", \"Neighbourhood\" and \"appointment_id\"))** **attributes**.\n"
   ]
  },
  {
   "cell_type": "markdown",
   "metadata": {
    "id": "2FncQi2xHR8v"
   },
   "source": [
    "**Age:**\n",
    "> *We have mentioned that **higher ranges of Ages** appear to **show more** than others with smaller age ranges, inferring to mean values of each..*\n"
   ]
  },
  {
   "cell_type": "code",
   "execution_count": null,
   "metadata": {
    "colab": {
     "base_uri": "https://localhost:8080/"
    },
    "collapsed": true,
    "id": "NKfdd1iNa92v",
    "outputId": "ed342ec6-f6e3-4be6-a220-c0273450e5d0"
   },
   "outputs": [
    {
     "data": {
      "text/plain": [
       "(35.70511147362697, 41.18344124827513)"
      ]
     },
     "execution_count": 208,
     "metadata": {
      "tags": []
     },
     "output_type": "execute_result"
    }
   ],
   "source": [
    "new_not_showed['age'].mean(), new_showed['age'].mean()"
   ]
  },
  {
   "cell_type": "markdown",
   "metadata": {
    "id": "-51ZBP_NFb8S"
   },
   "source": [
    "**SMS_receiving:**\n",
    "> *We also mentioned that receiving SMS's may be having a sort of impact **(although it appears to be very small)**; people who appeared to be receiving SMS's in the showing dataset are more than those who didn't, and that showing dataset make a slightly higher mean value of people receiving messages than that of the other dataset..*"
   ]
  },
  {
   "cell_type": "code",
   "execution_count": null,
   "metadata": {
    "colab": {
     "base_uri": "https://localhost:8080/"
    },
    "id": "O0WpGwVjFfNC",
    "outputId": "2ed09338-3439-489e-b340-e4378d542701"
   },
   "outputs": [
    {
     "data": {
      "text/plain": [
       "(0.509352909189777, 0.5299649718713513)"
      ]
     },
     "execution_count": 209,
     "metadata": {
      "tags": []
     },
     "output_type": "execute_result"
    }
   ],
   "source": [
    "new_not_showed['sms_received'].mean(), new_showed['sms_received'].mean()"
   ]
  },
  {
   "cell_type": "markdown",
   "metadata": {
    "id": "eH51imLhGVaJ"
   },
   "source": [
    "**Neighbourhood:**\n",
    ">*We have reached that there was some locations frequencing more than others with non-showing patients, so maybe that's something to keep note of!*"
   ]
  },
  {
   "cell_type": "code",
   "execution_count": null,
   "metadata": {
    "colab": {
     "base_uri": "https://localhost:8080/"
    },
    "id": "bFyqM371JUjr",
    "outputId": "386ecb88-684e-438a-8eac-1bc6edf961fe"
   },
   "outputs": [
    {
     "data": {
      "text/plain": [
       "JARDIM CAMBURI    1206\n",
       "MARIA ORTIZ       1071\n",
       "ITARARÉ            761\n",
       "Name: neighbourhood, dtype: int64"
      ]
     },
     "execution_count": 210,
     "metadata": {
      "tags": []
     },
     "output_type": "execute_result"
    }
   ],
   "source": [
    "new_not_showed['neighbourhood'].value_counts().head(3)"
   ]
  },
  {
   "cell_type": "markdown",
   "metadata": {
    "id": "GRhurvtqHFbr"
   },
   "source": [
    "**Appointment_Day:**\n",
    ">*We have concluded that there was dates that was meeting more number of non-showing patients, top of which was **((16-05-2016 00:00:00))**.*"
   ]
  },
  {
   "cell_type": "code",
   "execution_count": null,
   "metadata": {
    "colab": {
     "base_uri": "https://localhost:8080/"
    },
    "id": "OstmtAtFIsqH",
    "outputId": "2ec22675-9e5b-494f-ecea-10ecc3132323"
   },
   "outputs": [
    {
     "name": "stderr",
     "output_type": "stream",
     "text": [
      "/usr/local/lib/python3.6/dist-packages/ipykernel_launcher.py:1: FutureWarning: Treating datetime data as categorical rather than numeric in `.describe` is deprecated and will be removed in a future version of pandas. Specify `datetime_is_numeric=True` to silence this warning and adopt the future behavior now.\n",
      "  \"\"\"Entry point for launching an IPython kernel.\n"
     ]
    },
    {
     "data": {
      "text/plain": [
       "Timestamp('2016-05-16 00:00:00+0000', tz='UTC')"
      ]
     },
     "execution_count": 211,
     "metadata": {
      "tags": []
     },
     "output_type": "execute_result"
    }
   ],
   "source": [
    "new_not_showed['appointment_day'].describe().iloc[2]"
   ]
  },
  {
   "cell_type": "markdown",
   "metadata": {
    "id": "r8Pyka9k6rCK"
   },
   "source": [
    "**Concluding That:** \n",
    "* Maybe patients with higher ages need some more healthcare, and so they most happen to commit to their appointments more than younger people..\n",
    "\n",
    "* Maybe sometimes people who don't receive messages confirming their appoinments forget them or thinking they had been canceled..\n",
    "\n",
    "* Maybe these specific locations of hospitals are far from some people, or maybe they are at an inconvenient place..\n",
    "\n",
    "* Maybe those particular dates were some official holidays, or maybe their times meets some people's working time..\n",
    "\n",
    "**Hence:** \n",
    "* This could be a good inspiration for hospitals and doctors clinics to maybe increase and inhance their services to be more suitable and satisfies old patients..And maybe to present some offers to attract this category of young people who maybe make less incomes.\n",
    "\n",
    "* Hospitals and clinics can care more about hiring efficient secretaries or whoever people or softwares in charge of sending confirmatory SMS's regularly.\n",
    "\n",
    "* Maybe hospitals or clinics could figure out or collect some patients' oppinions and evaluations on their location, perhaps they would change it or have another one. "
   ]
  },
  {
   "cell_type": "markdown",
   "metadata": {
    "id": "C0igdqYKtj20"
   },
   "source": [
    "> ### Limitations"
   ]
  },
  {
   "cell_type": "markdown",
   "metadata": {
    "id": "WLw72lNftvs8"
   },
   "source": [
    "* **Data Size:**\n"
   ]
  },
  {
   "cell_type": "markdown",
   "metadata": {
    "id": "VDSbVGy801KX"
   },
   "source": [
    ">*Data size was pretty much too big, specially that there was too much rows that had been dropped, meaning that they were errant or redundant data.*\n",
    "\n",
    ">*Also that there was a sort of bias towards the showing_up patients, even after wrangling and cleaning up the data, the splitted new_showed dataframe was still almost 3 times larger than the other new_not_showed one..!!*   Which cosequently ofcourse had an impact on the analysis and visualization."
   ]
  },
  {
   "cell_type": "markdown",
   "metadata": {
    "id": "wOX-iTz60eOv"
   },
   "source": [
    "* **Dataset Sufficiency:**"
   ]
  },
  {
   "cell_type": "markdown",
   "metadata": {
    "id": "UTKjQijnz-A-"
   },
   "source": [
    ">*An unneglectable part of the dataset was dropped due to its redundancy or the case of it being error-input data.*\n",
    "\n",
    ">Additionly, there were some column values that weren't the best descriptive , such as the **4 \"handcap\" categories**; specially that they were unevenly destriputed, which appeared obviously in the visualization part; **category (0)** is dominating, while latest or further categories (especially those greater than **1**) are not even appearing on the plot..!!\n",
    "\n",
    ">*Lastly, we ultimately still weren't able to mention features to be certainly having that **\"huge impact\"** on the prediction of attendence of patients!*"
   ]
  },
  {
   "cell_type": "markdown",
   "metadata": {
    "id": "TCyBbTKvX3h_"
   },
   "source": [
    "<a id='conclusions'></a>\n",
    "## Conversion to HTML"
   ]
  },
  {
   "cell_type": "code",
   "execution_count": null,
   "metadata": {
    "colab": {
     "base_uri": "https://localhost:8080/"
    },
    "id": "vwpVZlwTRoAq",
    "outputId": "50839f17-f49d-4499-d5be-f4dbc9c12c7d"
   },
   "outputs": [
    {
     "name": "stdout",
     "output_type": "stream",
     "text": [
      "[NbConvertApp] Converting notebook investigate_a_dataset_template.ipynb to html\n",
      "[NbConvertApp] Writing 1011449 bytes to investigate_a_dataset_template.html\n"
     ]
    }
   ],
   "source": [
    "!jupyter nbconvert --to html investigate-a-dataset-template-lastVersion.ipynb"
   ]
  }
 ],
 "metadata": {
  "colab": {
   "collapsed_sections": [
    "U8QUqR7va92s",
    "5qx-WIHta92u"
   ],
   "name": "investigate_a_dataset_template_lastVersion.ipynb",
   "provenance": []
  },
  "kernelspec": {
   "display_name": "Python 3",
   "language": "python",
   "name": "python3"
  },
  "language_info": {
   "codemirror_mode": {
    "name": "ipython",
    "version": 3
   },
   "file_extension": ".py",
   "mimetype": "text/x-python",
   "name": "python",
   "nbconvert_exporter": "python",
   "pygments_lexer": "ipython3",
   "version": "3.8.5"
  }
 },
 "nbformat": 4,
 "nbformat_minor": 1
}
